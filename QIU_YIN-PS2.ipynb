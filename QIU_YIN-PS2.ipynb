{
 "cells": [
  {
   "cell_type": "markdown",
   "metadata": {},
   "source": [
    "# Problem Set 2"
   ]
  },
  {
   "cell_type": "markdown",
   "metadata": {},
   "source": [
    "## Introduction to the assignment\n",
    "\n",
    "For this assignment, you will be using data from the [Progresa program](http://en.wikipedia.org/wiki/Oportunidades), a government social assistance program in Mexico. This program, as well as the details of its impact, are described in the paper \"[School subsidies for the poor: evaluating the Mexican Progresa poverty program](http://www.sciencedirect.com/science/article/pii/S0304387803001858)\", by Paul Shultz (available on bCourses). Please familiarize yourself with the PROGRESA program before beginning this problem set, so you have a rough sense of where the data come from and how they were generated. If you just proceed into the problem set without understanding Progresa or the data, it will be very difficult!\n",
    "\n",
    "The goal of this problem set is to implement some of the basic econometric techniques that you are learning in class to measure the impact of Progresa on secondary school enrollment rates. The timeline of the program was:\n",
    "\n",
    " * Baseline survey conducted in 1997\n",
    " * Intervention begins in 1998, \"Wave 1\" of data collected in 1998\n",
    " * \"Wave 2 of data\" collected in 1999\n",
    " * Evaluation ends in 2000, at which point the control villages were treated. \n",
    " \n",
    "When you are ready, download the progresa_sample.csv data from bCourses. The data are actual data collected to evaluate the impact of the Progresa program.  In this file, each row corresponds to an observation taken for a given child for a given year. There are two years of data (1997 and 1998), and just under 40,000 children who are surveyed in each year. For each child-year observation, the following variables are collected:\n",
    "\n",
    "| Variable name | Description|\n",
    "|------|------|\n",
    "|year\t  |year in which data is collected\n",
    "|sex\t  |male = 1|\n",
    "|indig\t  |indigenous = 1|\n",
    "|dist_sec |nearest distance to a secondary school|\n",
    "|sc\t      |enrolled in school in year of survey|\n",
    "|grc      |grade enrolled|\n",
    "|fam_n    |family size|\n",
    "|min_dist |\tmin distance to an urban center|\n",
    "|dist_cap |\tmin distance to the capital|\n",
    "|poor     |\tpoor = 1|\n",
    "|progresa |treatment =1|\n",
    "|hohedu\t  |years of schooling of head of household|\n",
    "|hohwag\t  |monthly wages of head of household|\n",
    "|welfare_index|\twelfare index used to classify poor|\n",
    "|hohsex\t|gender of head of household (male=1)|\n",
    "|hohage\t|age of head of household|\n",
    "|age\t|years old|\n",
    "|folnum\t|individual id|\n",
    "|village|\tvillage id|\n",
    "|sc97\t|schooling in 1997|"
   ]
  },
  {
   "cell_type": "markdown",
   "metadata": {},
   "source": [
    "---\n",
    "\n",
    "## Part 1: Descriptive analysis\n",
    "\n",
    "### 1.1\tSummary Statistics\n",
    "\n",
    "Present summary statistics (mean and standard deviation) for all of the demographic variables in the dataset (i.e., everything except year, folnum, village). Present these in a single table alphabetized by variable name. Do NOT simply expect the grader to scroll through your output!"
   ]
  },
  {
   "cell_type": "code",
   "execution_count": 1,
   "metadata": {},
   "outputs": [
    {
     "data": {
      "text/html": [
       "<div>\n",
       "<style scoped>\n",
       "    .dataframe tbody tr th:only-of-type {\n",
       "        vertical-align: middle;\n",
       "    }\n",
       "\n",
       "    .dataframe tbody tr th {\n",
       "        vertical-align: top;\n",
       "    }\n",
       "\n",
       "    .dataframe thead th {\n",
       "        text-align: right;\n",
       "    }\n",
       "</style>\n",
       "<table border=\"1\" class=\"dataframe\">\n",
       "  <thead>\n",
       "    <tr style=\"text-align: right;\">\n",
       "      <th></th>\n",
       "      <th>mean</th>\n",
       "      <th>std</th>\n",
       "    </tr>\n",
       "  </thead>\n",
       "  <tbody>\n",
       "    <tr>\n",
       "      <th>age</th>\n",
       "      <td>11.366460</td>\n",
       "      <td>3.167744</td>\n",
       "    </tr>\n",
       "    <tr>\n",
       "      <th>dist_cap</th>\n",
       "      <td>147.674452</td>\n",
       "      <td>76.063134</td>\n",
       "    </tr>\n",
       "    <tr>\n",
       "      <th>dist_sec</th>\n",
       "      <td>2.418910</td>\n",
       "      <td>2.234109</td>\n",
       "    </tr>\n",
       "    <tr>\n",
       "      <th>fam_n</th>\n",
       "      <td>7.215715</td>\n",
       "      <td>2.352900</td>\n",
       "    </tr>\n",
       "    <tr>\n",
       "      <th>grc</th>\n",
       "      <td>3.963537</td>\n",
       "      <td>2.499063</td>\n",
       "    </tr>\n",
       "    <tr>\n",
       "      <th>grc97</th>\n",
       "      <td>3.705372</td>\n",
       "      <td>2.572387</td>\n",
       "    </tr>\n",
       "    <tr>\n",
       "      <th>hohage</th>\n",
       "      <td>44.436717</td>\n",
       "      <td>11.620372</td>\n",
       "    </tr>\n",
       "    <tr>\n",
       "      <th>hohedu</th>\n",
       "      <td>2.768104</td>\n",
       "      <td>2.656106</td>\n",
       "    </tr>\n",
       "    <tr>\n",
       "      <th>hohsex</th>\n",
       "      <td>0.925185</td>\n",
       "      <td>0.263095</td>\n",
       "    </tr>\n",
       "    <tr>\n",
       "      <th>hohwag</th>\n",
       "      <td>586.985312</td>\n",
       "      <td>788.133664</td>\n",
       "    </tr>\n",
       "    <tr>\n",
       "      <th>indig</th>\n",
       "      <td>0.298324</td>\n",
       "      <td>0.457525</td>\n",
       "    </tr>\n",
       "    <tr>\n",
       "      <th>min_dist</th>\n",
       "      <td>103.447520</td>\n",
       "      <td>42.089441</td>\n",
       "    </tr>\n",
       "    <tr>\n",
       "      <th>sc</th>\n",
       "      <td>0.819818</td>\n",
       "      <td>0.384342</td>\n",
       "    </tr>\n",
       "    <tr>\n",
       "      <th>sc97</th>\n",
       "      <td>0.813922</td>\n",
       "      <td>0.389172</td>\n",
       "    </tr>\n",
       "    <tr>\n",
       "      <th>sex</th>\n",
       "      <td>0.512211</td>\n",
       "      <td>0.499854</td>\n",
       "    </tr>\n",
       "    <tr>\n",
       "      <th>welfare_index</th>\n",
       "      <td>690.346564</td>\n",
       "      <td>139.491130</td>\n",
       "    </tr>\n",
       "  </tbody>\n",
       "</table>\n",
       "</div>"
      ],
      "text/plain": [
       "                     mean         std\n",
       "age             11.366460    3.167744\n",
       "dist_cap       147.674452   76.063134\n",
       "dist_sec         2.418910    2.234109\n",
       "fam_n            7.215715    2.352900\n",
       "grc              3.963537    2.499063\n",
       "grc97            3.705372    2.572387\n",
       "hohage          44.436717   11.620372\n",
       "hohedu           2.768104    2.656106\n",
       "hohsex           0.925185    0.263095\n",
       "hohwag         586.985312  788.133664\n",
       "indig            0.298324    0.457525\n",
       "min_dist       103.447520   42.089441\n",
       "sc               0.819818    0.384342\n",
       "sc97             0.813922    0.389172\n",
       "sex              0.512211    0.499854\n",
       "welfare_index  690.346564  139.491130"
      ]
     },
     "execution_count": 1,
     "metadata": {},
     "output_type": "execute_result"
    }
   ],
   "source": [
    "import pandas as pd\n",
    "\n",
    "prog_df = pd.read_csv('progresa_sample.csv')\n",
    "prog_sub = prog_df.drop(labels=['year','folnum','village'], axis=1, inplace=False)\n",
    "prog_sub.describe().loc[['mean','std']].T.sort_index()"
   ]
  },
  {
   "cell_type": "markdown",
   "metadata": {},
   "source": [
    "### 1.2 Differences at baseline?\n",
    "\n",
    "Are the baseline (1997) demographic characteristics **for the poor**  different in treatment and control villages? Hint: Use a T-Test to determine whether there is a statistically significant difference in the average values of each of the variables in the dataset. Focus only on the data from 1997 for individuals who are poor (i.e., poor=='pobre').\n",
    "\n",
    "Present your results in a single table with the following columns and 14 (or so) rows (alphabetized by variable name):\n",
    "\n",
    "| Variable name | Average value (Treatment villages) | Average value (Control villages) | Difference (Treat - Control) | p-value |\n",
    "|------|------|------|------|------|\n",
    "|Male|?|?|?|?|\n"
   ]
  },
  {
   "cell_type": "code",
   "execution_count": 2,
   "metadata": {},
   "outputs": [
    {
     "name": "stdout",
     "output_type": "stream",
     "text": [
      "[-0.0003553340737401378, -0.0021336478700164363, -1.6167179098577682, -0.18668589363005061, -243.6675561518839, -1366.1208886858913, 0.4521093320249534, -2999.9637633250095, -676.1540692595208, -0.0014506210740917874, -11.046938850375057, 0.036423815332602416, -0.09193133160441302, -0.0047962432517076325]\n"
     ]
    },
    {
     "data": {
      "text/html": [
       "<div>\n",
       "<style scoped>\n",
       "    .dataframe tbody tr th:only-of-type {\n",
       "        vertical-align: middle;\n",
       "    }\n",
       "\n",
       "    .dataframe tbody tr th {\n",
       "        vertical-align: top;\n",
       "    }\n",
       "\n",
       "    .dataframe thead th {\n",
       "        text-align: right;\n",
       "    }\n",
       "</style>\n",
       "<table border=\"1\" class=\"dataframe\">\n",
       "  <thead>\n",
       "    <tr style=\"text-align: right;\">\n",
       "      <th></th>\n",
       "      <th>Variable name</th>\n",
       "      <th>Average value (Treatment villages)</th>\n",
       "      <th>Average value (Control villages)</th>\n",
       "      <th>Difference(Treat - Control)</th>\n",
       "      <th>p-value</th>\n",
       "    </tr>\n",
       "  </thead>\n",
       "  <tbody>\n",
       "    <tr>\n",
       "      <th>0</th>\n",
       "      <td>sex</td>\n",
       "      <td>0.519317</td>\n",
       "      <td>0.505052</td>\n",
       "      <td>0.014265</td>\n",
       "      <td>1.220744e-02</td>\n",
       "    </tr>\n",
       "    <tr>\n",
       "      <th>1</th>\n",
       "      <td>indig</td>\n",
       "      <td>0.325986</td>\n",
       "      <td>0.332207</td>\n",
       "      <td>-0.006222</td>\n",
       "      <td>2.459021e-01</td>\n",
       "    </tr>\n",
       "    <tr>\n",
       "      <th>2</th>\n",
       "      <td>dist_sec</td>\n",
       "      <td>2.453122</td>\n",
       "      <td>2.507662</td>\n",
       "      <td>-0.054540</td>\n",
       "      <td>4.266282e-02</td>\n",
       "    </tr>\n",
       "    <tr>\n",
       "      <th>3</th>\n",
       "      <td>fam_n</td>\n",
       "      <td>7.281327</td>\n",
       "      <td>7.302469</td>\n",
       "      <td>-0.021142</td>\n",
       "      <td>4.289667e-01</td>\n",
       "    </tr>\n",
       "    <tr>\n",
       "      <th>4</th>\n",
       "      <td>min_dist</td>\n",
       "      <td>107.152915</td>\n",
       "      <td>103.237854</td>\n",
       "      <td>3.915060</td>\n",
       "      <td>7.055795e-16</td>\n",
       "    </tr>\n",
       "    <tr>\n",
       "      <th>5</th>\n",
       "      <td>dist_cap</td>\n",
       "      <td>150.829074</td>\n",
       "      <td>153.769730</td>\n",
       "      <td>-2.940656</td>\n",
       "      <td>1.146482e-03</td>\n",
       "    </tr>\n",
       "    <tr>\n",
       "      <th>6</th>\n",
       "      <td>hohedu</td>\n",
       "      <td>2.663139</td>\n",
       "      <td>2.590348</td>\n",
       "      <td>0.072791</td>\n",
       "      <td>1.038219e-02</td>\n",
       "    </tr>\n",
       "    <tr>\n",
       "      <th>7</th>\n",
       "      <td>hohwag</td>\n",
       "      <td>544.339544</td>\n",
       "      <td>573.163558</td>\n",
       "      <td>-28.824015</td>\n",
       "      <td>3.287285e-04</td>\n",
       "    </tr>\n",
       "    <tr>\n",
       "      <th>8</th>\n",
       "      <td>welfare_index</td>\n",
       "      <td>655.428377</td>\n",
       "      <td>659.579100</td>\n",
       "      <td>-4.150723</td>\n",
       "      <td>1.531678e-03</td>\n",
       "    </tr>\n",
       "    <tr>\n",
       "      <th>9</th>\n",
       "      <td>hohsex</td>\n",
       "      <td>0.924656</td>\n",
       "      <td>0.922947</td>\n",
       "      <td>0.001709</td>\n",
       "      <td>5.721253e-01</td>\n",
       "    </tr>\n",
       "    <tr>\n",
       "      <th>10</th>\n",
       "      <td>hohage</td>\n",
       "      <td>43.648828</td>\n",
       "      <td>44.276918</td>\n",
       "      <td>-0.628090</td>\n",
       "      <td>2.259461e-06</td>\n",
       "    </tr>\n",
       "    <tr>\n",
       "      <th>11</th>\n",
       "      <td>age</td>\n",
       "      <td>10.716991</td>\n",
       "      <td>10.742023</td>\n",
       "      <td>-0.025032</td>\n",
       "      <td>4.783633e-01</td>\n",
       "    </tr>\n",
       "    <tr>\n",
       "      <th>12</th>\n",
       "      <td>grc97</td>\n",
       "      <td>3.531599</td>\n",
       "      <td>3.543050</td>\n",
       "      <td>-0.011450</td>\n",
       "      <td>6.895228e-01</td>\n",
       "    </tr>\n",
       "    <tr>\n",
       "      <th>13</th>\n",
       "      <td>sc97</td>\n",
       "      <td>0.822697</td>\n",
       "      <td>0.815186</td>\n",
       "      <td>0.007511</td>\n",
       "      <td>9.646120e-02</td>\n",
       "    </tr>\n",
       "  </tbody>\n",
       "</table>\n",
       "</div>"
      ],
      "text/plain": [
       "    Variable name  Average value (Treatment villages)  \\\n",
       "0             sex                            0.519317   \n",
       "1           indig                            0.325986   \n",
       "2        dist_sec                            2.453122   \n",
       "3           fam_n                            7.281327   \n",
       "4        min_dist                          107.152915   \n",
       "5        dist_cap                          150.829074   \n",
       "6          hohedu                            2.663139   \n",
       "7          hohwag                          544.339544   \n",
       "8   welfare_index                          655.428377   \n",
       "9          hohsex                            0.924656   \n",
       "10         hohage                           43.648828   \n",
       "11            age                           10.716991   \n",
       "12          grc97                            3.531599   \n",
       "13           sc97                            0.822697   \n",
       "\n",
       "    Average value (Control villages)  Difference(Treat - Control)  \\\n",
       "0                           0.505052                     0.014265   \n",
       "1                           0.332207                    -0.006222   \n",
       "2                           2.507662                    -0.054540   \n",
       "3                           7.302469                    -0.021142   \n",
       "4                         103.237854                     3.915060   \n",
       "5                         153.769730                    -2.940656   \n",
       "6                           2.590348                     0.072791   \n",
       "7                         573.163558                   -28.824015   \n",
       "8                         659.579100                    -4.150723   \n",
       "9                           0.922947                     0.001709   \n",
       "10                         44.276918                    -0.628090   \n",
       "11                         10.742023                    -0.025032   \n",
       "12                          3.543050                    -0.011450   \n",
       "13                          0.815186                     0.007511   \n",
       "\n",
       "         p-value  \n",
       "0   1.220744e-02  \n",
       "1   2.459021e-01  \n",
       "2   4.266282e-02  \n",
       "3   4.289667e-01  \n",
       "4   7.055795e-16  \n",
       "5   1.146482e-03  \n",
       "6   1.038219e-02  \n",
       "7   3.287285e-04  \n",
       "8   1.531678e-03  \n",
       "9   5.721253e-01  \n",
       "10  2.259461e-06  \n",
       "11  4.783633e-01  \n",
       "12  6.895228e-01  \n",
       "13  9.646120e-02  "
      ]
     },
     "execution_count": 2,
     "metadata": {},
     "output_type": "execute_result"
    }
   ],
   "source": [
    "import statsmodels.api as sm\n",
    "import statsmodels.formula.api as smf\n",
    "import scipy.stats as stats\n",
    "import scipy as sp\n",
    "# import IPython\n",
    "\n",
    "# prog_df.dtypes\n",
    "# print(prog_df.isnull().sum())\n",
    "\n",
    "'''Subset samples into treatment group and control group, drop non-demographic variables'''\n",
    "treat = prog_df[(prog_df.poor == 'pobre')&\n",
    "                (prog_df.year == 97)&\n",
    "                (prog_df.progresa != '0')].drop(labels=['year','folnum','village','progresa','poor','sc','grc'], axis=1, inplace=False)\n",
    "\n",
    "control = prog_df[(prog_df.poor == 'pobre')&\n",
    "                  (prog_df.year == 97)&\n",
    "                  (prog_df.progresa == '0')].drop(labels=['year','folnum','village','progresa','poor','sc','grc'], axis=1, inplace=False)\n",
    "\n",
    "'''Check the variance of two samples are same or different, so that use Students T-test or Welchs T-test'''\n",
    "col_names = treat.columns.tolist()\n",
    "# print(col_names)\n",
    "\n",
    "t_c_varlst = []\n",
    "for col in col_names:\n",
    "    tvar, cvar = treat[col].dropna().var(ddof=1), control[col].dropna().var(ddof=1)\n",
    "    t_c_varlst.append(tvar-cvar)\n",
    "\n",
    "print(t_c_varlst) # variances are different, so adopt Welchs T-test in below\n",
    "\n",
    "'''Run Welchs T-test, get p-values, calculate means and difference of means'''\n",
    "difflst, plst, treatmean, contmean = [], [], [], []\n",
    "for col in col_names:\n",
    "#     IPython.embed() # a useful way to debug\n",
    "    t, p = sp.stats.ttest_ind(treat[col].dropna(), control[col].dropna(), axis = 0, equal_var = False)\n",
    "    plst.append(p) # append to list of p-value\n",
    "    tmean, cmean = treat[col].dropna().mean(), control[col].dropna().mean() # calculate means\n",
    "    treatmean.append(tmean)\n",
    "    contmean.append(cmean)\n",
    "    difflst.append(tmean - cmean) # calculate difference of means\n",
    "\n",
    "'''Construct table'''\n",
    "table1 = pd.DataFrame({'Variable name': col_names, \n",
    "                       'Average value (Treatment villages)': treatmean, \n",
    "                       'Average value (Control villages)': contmean, \n",
    "                       'Difference(Treat - Control)': difflst, \n",
    "                       'p-value': plst})\n",
    "table1"
   ]
  },
  {
   "cell_type": "markdown",
   "metadata": {},
   "source": [
    "### 1.3 Interpretation\n",
    "\n",
    "* A: Are there statistically significant differences between treatment and control villages as baseline? \n",
    "* B: Why does it matter if there are differences at baseline?\n",
    "* C: What does this imply about how to measure the impact of the treatment?"
   ]
  },
  {
   "cell_type": "markdown",
   "metadata": {},
   "source": [
    "A: Our null hypothesis is there is no difference in the means between treatment and control groups of 14 variables. \n",
    "** For a two-tailed t-test, p-values are smaller than 0.05 for 8 out of the 14 variables (sex, dist_sec, min_dist, dist_cap, hohedu, hohwag, welfare_index, hohage), meaning we have 95% stistical confidence that the means of these variables in treatment and control groups are different. \n",
    "** For 6 out of the 14 variables (indig, fam_n, hohsex, age, grc97, sc97), we cannot reject the null hypothesis that there is no difference in the means of these variables between treatment and control groups. \n",
    "** In summary, the treatment and control groups have statistically significant differences in the baseline.\n",
    "\n",
    "B: If there are differences at baseline, it will undermine our assumptions made for measuring the impact of treatment.\n",
    "\n",
    "C: It implies that the two groups may have selection bias in sampling, so the measured impact of treatment may be biased too."
   ]
  },
  {
   "cell_type": "markdown",
   "metadata": {},
   "source": [
    "### 1.4 Graphical exploration, part 1\n",
    "\n",
    "For each level of household head education, compute the average enrollment rate in 1997. Create a scatterplot that shows this relationship. What do you notice?"
   ]
  },
  {
   "cell_type": "code",
   "execution_count": 3,
   "metadata": {},
   "outputs": [
    {
     "data": {
      "image/png": "[encoded data removed]",
      "text/plain": [
       "<Figure size 432x288 with 1 Axes>"
      ]
     },
     "metadata": {
      "needs_background": "light"
     },
     "output_type": "display_data"
    }
   ],
   "source": [
    "import matplotlib.pyplot as plt\n",
    "\n",
    "plt.scatter(prog_df.groupby(by='hohedu')['hohedu','sc97'].mean()['hohedu'], prog_df.groupby(by='hohedu')['hohedu','sc97'].mean()['sc97'])\n",
    "plt.xlabel('Household Head Years of Education (year)')\n",
    "plt.ylabel('Average Enrollment Rate in 1997')\n",
    "plt.show()"
   ]
  },
  {
   "cell_type": "markdown",
   "metadata": {},
   "source": [
    "From the scatter plot above, we find a positive relation in the year of 1997 between years of schooling for household head and the average enrollment rates. However, we also have an outlier when years of education is 20, the average enrollment rate is 50%. This does not fit the trend for the rest of the sample and draws our attention."
   ]
  },
  {
   "cell_type": "markdown",
   "metadata": {},
   "source": [
    "### 1.5 Graphical exploration, part 2\n",
    "\n",
    "Visualize the distribution of village enrollment rates **among poor households in treated villages**, before and after treatment. Specifically, for each village, calculate the average rate of enrollment of poor households in treated villages in 1997, then compute the average rate of enrollment of poor households in treated villages in 1998. Create two separate histograms showing the distribution of these average enrollments rates, one histogram for 1997 and one histogram for 1998. On each histogram, draw a vertical line that intersects the x-axis at the average value (across all households). Does there appear to be a difference? Is this difference statistically significant?"
   ]
  },
  {
   "cell_type": "code",
   "execution_count": 4,
   "metadata": {},
   "outputs": [
    {
     "data": {
      "image/png": "[encoded data removed]",
      "text/plain": [
       "<Figure size 432x288 with 1 Axes>"
      ]
     },
     "metadata": {
      "needs_background": "light"
     },
     "output_type": "display_data"
    },
    {
     "data": {
      "image/png": "[encoded data removed]",
      "text/plain": [
       "<Figure size 432x288 with 1 Axes>"
      ]
     },
     "metadata": {
      "needs_background": "light"
     },
     "output_type": "display_data"
    },
    {
     "data": {
      "text/plain": [
       "Ttest_indResult(statistic=-2.015713486515638, pvalue=0.044249343422588405)"
      ]
     },
     "execution_count": 4,
     "metadata": {},
     "output_type": "execute_result"
    }
   ],
   "source": [
    "'''Subset poor households in treated villages, show average of enrollment group by villages'''\n",
    "before = prog_df[(prog_df.poor == \"pobre\") & (prog_df.progresa != \"0\") & (prog_df.year == 97)].groupby(by='village')['sc'].mean()\n",
    "after = prog_df[(prog_df.poor == \"pobre\") & (prog_df.progresa != \"0\") & (prog_df.year == 98)].groupby(by='village')['sc'].mean()\n",
    "\n",
    "'''Construct histograms for before and after treatment'''\n",
    "hist_before = plt.hist(before)\n",
    "plt.axvline(x=before.mean(), color='r', linestyle='--')\n",
    "plt.title('Before treatment')\n",
    "plt.xlabel('Average of enrollment rates (1997)')\n",
    "plt.ylabel('Number of villages')\n",
    "plt.show()\n",
    "\n",
    "hist_after = plt.hist(after)\n",
    "plt.axvline(x=after.mean(), color='r', linestyle='--')\n",
    "plt.title('After treatment')\n",
    "plt.xlabel('Average of enrollment rates (1998)')\n",
    "plt.ylabel('Number of villages')\n",
    "plt.show()\n",
    "\n",
    "'''T-test to check difference before and after treatment'''\n",
    "sp.stats.ttest_ind(before.dropna(), after.dropna(), axis = 0, equal_var = False)"
   ]
  },
  {
   "cell_type": "markdown",
   "metadata": {},
   "source": [
    "There is some difference regarding the distribution of enrollment rates in before and after. After the treatment, the average of enrollment rate has increased for all households. Distribution becomes more left-skewed after treatment, and the number of villages above average value has substantially increased.\n",
    "\n",
    "According to T-test result, p-value is smaller than 0.05 so we have 95% confidence to state that before and after treatment distributions have statistically significant different."
   ]
  },
  {
   "cell_type": "markdown",
   "metadata": {},
   "source": [
    "## Part 2: Measuring Impact\n",
    "\n",
    "Our goal is to estimate the causal impact of the PROGRESA program on the social and economic outcomes of individuals in Mexico. We will focus on the impact of the program on the poor (those with poor=='pobre'), since only the poor were eligible to receive the PROGRESA assistance.\n",
    "\n",
    "### 2.1 Simple differences: T-test\n",
    "\n",
    "Begin by estimating the impact of Progresa using \"simple differences.\" Restricting yourself to data from 1998 (after treatment), calculate the average enrollment rate among **poor** households in the Treatment villages and the average enrollment rate among **poor** households in the control villages. Use a t-test to determine if this difference is statistically significant. What do you conclude?"
   ]
  },
  {
   "cell_type": "code",
   "execution_count": 6,
   "metadata": {},
   "outputs": [
    {
     "name": "stdout",
     "output_type": "stream",
     "text": [
      "Ttest_indResult(statistic=8.181477157107308, pvalue=2.9655072988948406e-16)\n",
      "The treatment effect is estimated as:  0.0388421646651228\n"
     ]
    }
   ],
   "source": [
    "'''Subset poor households in control and treatment villages, calculate means of enrollment rates'''\n",
    "treat_98 = prog_df[(prog_df.poor == \"pobre\")&(prog_df.progresa != \"0\")&(prog_df.year == 98)]['sc'].dropna()\n",
    "control_98 = prog_df[(prog_df.poor == \"pobre\")&(prog_df.progresa == \"0\")&(prog_df.year == 98)]['sc'].dropna()\n",
    " '''Run T-test to check difference in treatment and control groups in 1998'''\n",
    "print(sp.stats.ttest_ind(treat_98, control_98, axis = 0, equal_var = False))\n",
    "\n",
    "print('The treatment effect is estimated as: ', treat_98.mean()-control_98.mean())"
   ]
  },
  {
   "cell_type": "markdown",
   "metadata": {},
   "source": [
    "Since p-value is smaller than 0.05, we are 95% confident to say that there is statistically significant difference in the means of control and treatment groups in 1998."
   ]
  },
  {
   "cell_type": "markdown",
   "metadata": {},
   "source": [
    "### 2.2 Simple differences: Regression\n",
    "\n",
    "Estimate the effects of Progresa on enrollment using a regression model, by regressing the 1998 enrollment rates **of the poor** on treatment assignment. For now, do not include any other variables in your regression. Discuss the following:\n",
    "\n",
    "* Based on this model, how much did Progresa increase or decrease the likelihood of a child enrolling? Make sure you express you answer in a sentence that your grandmother could understand, using appropriate units.\n",
    "* How does your regression estimate compare to your t-test estimate from part 2.1?\n",
    "* Based on this regression model, can we reject the null hypothesis that the treatment effects are zero? \n",
    "* What is the counterfactual assumption underlying this regression?"
   ]
  },
  {
   "cell_type": "code",
   "execution_count": 7,
   "metadata": {},
   "outputs": [
    {
     "name": "stdout",
     "output_type": "stream",
     "text": [
      "                            OLS Regression Results                            \n",
      "==============================================================================\n",
      "Dep. Variable:                   sc98   R-squared:                       0.003\n",
      "Model:                            OLS   Adj. R-squared:                  0.003\n",
      "Method:                 Least Squares   F-statistic:                     69.87\n",
      "Date:                Mon, 10 Feb 2020   Prob (F-statistic):           6.64e-17\n",
      "Time:                        20:58:44   Log-Likelihood:                -11926.\n",
      "No. Observations:               27450   AIC:                         2.386e+04\n",
      "Df Residuals:                   27448   BIC:                         2.387e+04\n",
      "Df Model:                           1                                         \n",
      "Covariance Type:            nonrobust                                         \n",
      "==============================================================================\n",
      "                 coef    std err          t      P>|t|      [0.025      0.975]\n",
      "------------------------------------------------------------------------------\n",
      "Intercept      0.8076      0.004    220.676      0.000       0.800       0.815\n",
      "progresa       0.0388      0.005      8.359      0.000       0.030       0.048\n",
      "==============================================================================\n",
      "Omnibus:                     7638.939   Durbin-Watson:                   1.734\n",
      "Prob(Omnibus):                  0.000   Jarque-Bera (JB):            15767.534\n",
      "Skew:                          -1.767   Prob(JB):                         0.00\n",
      "Kurtosis:                       4.140   Cond. No.                         3.01\n",
      "==============================================================================\n",
      "\n",
      "Warnings:\n",
      "[1] Standard Errors assume that the covariance matrix of the errors is correctly specified.\n"
     ]
    }
   ],
   "source": [
    "import statsmodels.api as sm\n",
    "import statsmodels.formula.api as smf\n",
    "import scipy.stats as stats\n",
    "import scipy as sp\n",
    "\n",
    "'''Change value of progresa'''\n",
    "prog_df.loc[prog_df['progresa'] == 'basal','progresa'] = 1\n",
    "prog_df.loc[prog_df['progresa'] == '0','progresa'] = 0\n",
    "\n",
    "'''Subset dataframe and run OLS'''\n",
    "sc98 = prog_df[(prog_df.poor == \"pobre\")&(prog_df.year == 98)].sc\n",
    "progre = prog_df[(prog_df.poor == \"pobre\")&(prog_df.year == 98)].progresa\n",
    "model1_df = pd.DataFrame({\"sc98\": sc98, \"progresa\": progre}).dropna()\n",
    "\n",
    "model1 = smf.ols(formula='sc98 ~ progresa', data=model1_df).fit()\n",
    "\n",
    "print(model1.summary())"
   ]
  },
  {
   "cell_type": "markdown",
   "metadata": {},
   "source": [
    "Based on this model, every 1000 more poor children joining Progresa will have about 39 more children enrolling in school in the year 1998. It is in line with the conclusion in 2.1, the change in enrollment rates before and after treatment is statistically significant. Since p-value is lower than 0.05, we have 95% confidence to reject the null hypothesis that treatment effects are zero. The counterfactual assumption is that enrollment of poor for treatment and control groups are the same, in the absence of Progresa."
   ]
  },
  {
   "cell_type": "markdown",
   "metadata": {},
   "source": [
    "### 2.3 Multiple Regression\n",
    "\n",
    "Re-run the above regression estimated but this time include a set of control variables. Include, for instance, age, distance to a secondary school, gender, education of household head, welfare index, indigenous, etc.\n",
    "\n",
    "* How do the controls affect the point estimate of treatment effect?\n",
    "* How do the controls affect the standard error on the treatment effect? \n",
    "* How do you interpret the differences (or similarities) between your estimates of 2.2 and 2.3?"
   ]
  },
  {
   "cell_type": "code",
   "execution_count": 8,
   "metadata": {},
   "outputs": [
    {
     "name": "stdout",
     "output_type": "stream",
     "text": [
      "                            OLS Regression Results                            \n",
      "==============================================================================\n",
      "Dep. Variable:                   sc98   R-squared:                       0.267\n",
      "Model:                            OLS   Adj. R-squared:                  0.267\n",
      "Method:                 Least Squares   F-statistic:                     1419.\n",
      "Date:                Mon, 10 Feb 2020   Prob (F-statistic):               0.00\n",
      "Time:                        20:58:44   Log-Likelihood:                -7639.4\n",
      "No. Observations:               27267   AIC:                         1.529e+04\n",
      "Df Residuals:                   27259   BIC:                         1.536e+04\n",
      "Df Model:                           7                                         \n",
      "Covariance Type:            nonrobust                                         \n",
      "====================================================================================\n",
      "                       coef    std err          t      P>|t|      [0.025      0.975]\n",
      "------------------------------------------------------------------------------------\n",
      "Intercept            1.5025      0.014    105.342      0.000       1.475       1.530\n",
      "C(gender)[T.1.0]     0.0310      0.004      7.977      0.000       0.023       0.039\n",
      "progresa             0.0352      0.004      8.799      0.000       0.027       0.043\n",
      "age                 -0.0655      0.001    -95.105      0.000      -0.067      -0.064\n",
      "dist_sec            -0.0117      0.001    -13.361      0.000      -0.013      -0.010\n",
      "hohedu               0.0085      0.001     10.951      0.000       0.007       0.010\n",
      "welfare_index     3.227e-05   1.72e-05      1.872      0.061   -1.52e-06    6.61e-05\n",
      "indig                0.0468      0.004     11.283      0.000       0.039       0.055\n",
      "==============================================================================\n",
      "Omnibus:                     2993.090   Durbin-Watson:                   1.718\n",
      "Prob(Omnibus):                  0.000   Jarque-Bera (JB):             4083.947\n",
      "Skew:                          -0.940   Prob(JB):                         0.00\n",
      "Kurtosis:                       3.248   Cond. No.                     4.90e+03\n",
      "==============================================================================\n",
      "\n",
      "Warnings:\n",
      "[1] Standard Errors assume that the covariance matrix of the errors is correctly specified.\n",
      "[2] The condition number is large, 4.9e+03. This might indicate that there are\n",
      "strong multicollinearity or other numerical problems.\n"
     ]
    }
   ],
   "source": [
    "'''Adding new control variables'''\n",
    "age = prog_df[(prog_df.poor == \"pobre\")&(prog_df.year == 98)].age\n",
    "dsec = prog_df[(prog_df.poor == \"pobre\")&(prog_df.year == 98)].dist_sec\n",
    "gender = prog_df[(prog_df.poor == \"pobre\")&(prog_df.year == 98)].sex\n",
    "hohedu = prog_df[(prog_df.poor == \"pobre\")&(prog_df.year == 98)].hohedu\n",
    "welf = prog_df[(prog_df.poor == \"pobre\")&(prog_df.year == 98)].welfare_index\n",
    "indig = prog_df[(prog_df.poor == \"pobre\")&(prog_df.year == 98)].indig\n",
    "\n",
    "model2_df = pd.DataFrame({\"sc98\": sc98, \"progresa\": progre, \"age\": age, \"dist_sec\": dsec, \"gender\": gender, \n",
    "                          \"hohedu\": hohedu, \"welfare_index\": welf, \"indig\": indig}).dropna()\n",
    "\n",
    "model2 = smf.ols(formula='sc98 ~ progresa + age + dist_sec + C(gender) + hohedu + welfare_index + indig', data=model2_df).fit()\n",
    "print(model2.summary())"
   ]
  },
  {
   "cell_type": "markdown",
   "metadata": {},
   "source": [
    "After adding a set of controls, the coefficient of progresa has decreased from 0.0388 to 0.0352, while standard error also decreased from 0.005 to 0.004. Comparing 2.2 and 2.3, the estimation of treatment effects is more accurate since some of the effects resulting from the change of controls are separated from the coefficient of progresa and enrollment rates. Keeping other variables constant is important. The standard error measures the average distance that the observed values fall from the regression line, so it decreased means the regression model is more accurate than the last model."
   ]
  },
  {
   "cell_type": "markdown",
   "metadata": {},
   "source": [
    "### 2.4 Difference-in-Difference, version 1 (tabular)\n",
    "\n",
    "Thus far, we have computed the effects of Progresa by estimating the difference in 1998 enrollment rates across villages. An alternative approach would be to compute the treatment effect using a difference-in-differences framework.\n",
    "\n",
    "Begin by estimating the average treatment effects of the program for poor households using data from 1997 and 1998. Specifically, calculate the difference (between 1997 and 1998) in enrollment rates among poor households in treated villages; then compute the difference (between 1997 and 1998) in enrollment rates among poor households in control villages. The difference between these two differences is your estimate.\n",
    "\n",
    "* What is your estimate of the impact, and how does it compare to your earlier (simple difference) results?\n",
    "* What is the counterfactual assumption underlying this estimate? \n"
   ]
  },
  {
   "cell_type": "code",
   "execution_count": 9,
   "metadata": {},
   "outputs": [
    {
     "data": {
      "text/plain": [
       "0.031331280319323085"
      ]
     },
     "execution_count": 9,
     "metadata": {},
     "output_type": "execute_result"
    }
   ],
   "source": [
    "'''Tabular method to calculate average treatment effects using Double Differences'''\n",
    "t_98 = prog_df[(prog_df.poor == \"pobre\")&(prog_df.year == 98)&(prog_df.progresa == 1)]['sc'].mean()\n",
    "t_97 = prog_df[(prog_df.poor == \"pobre\")&(prog_df.year == 97)&(prog_df.progresa == 1)]['sc'].mean()\n",
    "c_98 = prog_df[(prog_df.poor == \"pobre\")&(prog_df.year == 98)&(prog_df.progresa == 0)]['sc'].mean()\n",
    "c_97 = prog_df[(prog_df.poor == \"pobre\")&(prog_df.year == 97)&(prog_df.progresa == 0)]['sc'].mean()\n",
    "\n",
    "t_98-c_98-(t_97-c_97)"
   ]
  },
  {
   "cell_type": "markdown",
   "metadata": {},
   "source": [
    "My estimation of the treatment effect is 0.031, and the effect is smaller than what the simple difference model estimated. The counterfactual assumption is that in the absence of treatment, the difference for treatment group between 98 and 97 is the same as the difference for control group over the same time."
   ]
  },
  {
   "cell_type": "markdown",
   "metadata": {},
   "source": [
    "### 2.5 Difference-in-Difference, version 2 (regression)\n",
    "\n",
    "Now use a regression specification to estimate the average treatment effects of the program in a difference-in-differences framework. Include at least 5 control variables.\n",
    "\n",
    "* What is your estimate of the impact of Progresa? Be very specific in interpreting your coefficients and standard errors, and make sure to specify exactly what units you are measuring and estimating.\n",
    "* How do these estimates of the treatment effect compare to the estimates based on the simple difference?\n",
    "* How do these estimates compare to the difference-in-difference estimates from 2.4 above? What accounts for these differences?\n",
    "* What is the counterfactual assumption underlying this regression? "
   ]
  },
  {
   "cell_type": "code",
   "execution_count": 10,
   "metadata": {},
   "outputs": [
    {
     "name": "stdout",
     "output_type": "stream",
     "text": [
      "                            OLS Regression Results                            \n",
      "==============================================================================\n",
      "Dep. Variable:                     sc   R-squared:                       0.307\n",
      "Model:                            OLS   Adj. R-squared:                  0.307\n",
      "Method:                 Least Squares   F-statistic:                     2863.\n",
      "Date:                Mon, 10 Feb 2020   Prob (F-statistic):               0.00\n",
      "Time:                        20:58:44   Log-Likelihood:                -15537.\n",
      "No. Observations:               58105   AIC:                         3.109e+04\n",
      "Df Residuals:                   58095   BIC:                         3.118e+04\n",
      "Df Model:                           9                                         \n",
      "Covariance Type:            nonrobust                                         \n",
      "====================================================================================\n",
      "                       coef    std err          t      P>|t|      [0.025      0.975]\n",
      "------------------------------------------------------------------------------------\n",
      "Intercept            1.6651      0.007    230.223      0.000       1.651       1.679\n",
      "C(gender)[T.1.0]     0.0373      0.003     14.189      0.000       0.032       0.042\n",
      "progresa             0.0044      0.004      1.184      0.237      -0.003       0.012\n",
      "year                 0.0245      0.004      5.742      0.000       0.016       0.033\n",
      "progresa:year        0.0297      0.005      5.489      0.000       0.019       0.040\n",
      "age                 -0.0986      0.001   -121.325      0.000      -0.100      -0.097\n",
      "dist_sec            -0.0074      0.001    -12.207      0.000      -0.009      -0.006\n",
      "hohedu               0.0042      0.001      7.903      0.000       0.003       0.005\n",
      "indig                0.0559      0.003     19.858      0.000       0.050       0.061\n",
      "grc                  0.0491      0.001     48.653      0.000       0.047       0.051\n",
      "==============================================================================\n",
      "Omnibus:                     6128.758   Durbin-Watson:                   1.507\n",
      "Prob(Omnibus):                  0.000   Jarque-Bera (JB):             8246.210\n",
      "Skew:                          -0.890   Prob(JB):                         0.00\n",
      "Kurtosis:                       3.485   Cond. No.                         78.7\n",
      "==============================================================================\n",
      "\n",
      "Warnings:\n",
      "[1] Standard Errors assume that the covariance matrix of the errors is correctly specified.\n"
     ]
    }
   ],
   "source": [
    "'''Regression to calculate Double Differences'''\n",
    "'''rest value of year so can be easily used in DID interpretation'''\n",
    "prog_df.loc[prog_df['year'] == 97, 'year'] = 0\n",
    "prog_df.loc[prog_df['year'] == 98, 'year'] = 1\n",
    "# prog_df.year = np.where(prog_df.year == 97, 0, 1) # better way to replace\n",
    "\n",
    "sc1 = prog_df.loc[prog_df['poor'] == \"pobre\", 'sc']\n",
    "progresa1 = prog_df.loc[prog_df['poor'] == \"pobre\", 'progresa']\n",
    "year1 = prog_df.loc[prog_df['poor'] == \"pobre\", 'year']\n",
    "age1 = prog_df.loc[prog_df['poor'] == \"pobre\", 'age']\n",
    "dsec1 = prog_df.loc[prog_df['poor'] == \"pobre\", 'dist_sec']\n",
    "gender1 = prog_df.loc[prog_df['poor'] == \"pobre\", 'sex']\n",
    "hohedu1 = prog_df.loc[prog_df['poor'] == \"pobre\", 'hohedu']\n",
    "indig1 = prog_df.loc[prog_df['poor'] == \"pobre\", 'indig']\n",
    "grc = prog_df.loc[prog_df['poor'] == \"pobre\", 'grc']\n",
    "\n",
    "model3_df = pd.DataFrame({\"sc\": sc1, \"progresa\": progresa1, \"year\": year1, \"age\": age1, \"dist_sec\": dsec1, \"gender\": gender1, \n",
    "                        \"hohedu\": hohedu1, \"indig\": indig1, \"grc\": grc}).dropna()\n",
    "\n",
    "model3 = smf.ols(formula='sc ~ progresa * year + age + dist_sec + C(gender) + hohedu + indig + grc', data=model3_df).fit()\n",
    "print(model3.summary())"
   ]
  },
  {
   "cell_type": "markdown",
   "metadata": {},
   "source": [
    "Using difference in difference method, we have 95% statistical confidence to say that with every 1000 more children joining progresa program, there are about 37 more children enrolling in school over the time of 1997 to 1998, keeping a set of control variables constant.\n",
    "\n",
    "The measured size of treatment effect with DiD is actually smaller than the simple difference model, due to the fact that we consider the temporal change of treatment group in the absence of treatment. The result seems be more accurate.\n",
    "\n",
    "The measured size of treatment effect is slightly smaller than 2.4's result. The differences could be due to the control of several other variables.\n",
    "\n",
    "The counterfactual assumption in this model is that in the absence of treatment, the change of treatment group and control group over the time 1997 to 1998 is the same."
   ]
  },
  {
   "cell_type": "markdown",
   "metadata": {},
   "source": [
    "### 2.6 Spillover effects\n",
    "\n",
    "Thus far, we have focused on the impact of PROGRESA on poor households. Repeat your analysis in 2.5, instead focusing on the impact of PROGRESA on non-poor households. \n",
    "* Do you observe any impacts of PROGRESA on the non-poor?\n",
    "* Regardless of whether you find evidence of spillovers, describe one or two reasons why PROGRESA *might* have impacted non-poor households. Give concrete examples based on the context in which PROGRESA was implemented."
   ]
  },
  {
   "cell_type": "code",
   "execution_count": 11,
   "metadata": {},
   "outputs": [
    {
     "name": "stdout",
     "output_type": "stream",
     "text": [
      "                            OLS Regression Results                            \n",
      "==============================================================================\n",
      "Dep. Variable:                     sc   R-squared:                       0.332\n",
      "Model:                            OLS   Adj. R-squared:                  0.331\n",
      "Method:                 Least Squares   F-statistic:                     571.4\n",
      "Date:                Mon, 10 Feb 2020   Prob (F-statistic):               0.00\n",
      "Time:                        20:58:44   Log-Likelihood:                -3332.8\n",
      "No. Observations:               10363   AIC:                             6686.\n",
      "Df Residuals:                   10353   BIC:                             6758.\n",
      "Df Model:                           9                                         \n",
      "Covariance Type:            nonrobust                                         \n",
      "====================================================================================\n",
      "                       coef    std err          t      P>|t|      [0.025      0.975]\n",
      "------------------------------------------------------------------------------------\n",
      "Intercept            1.7881      0.019     96.408      0.000       1.752       1.824\n",
      "C(gender)[T.1.0]     0.0343      0.007      5.226      0.000       0.021       0.047\n",
      "progresa             0.0247      0.009      2.744      0.006       0.007       0.042\n",
      "year                 0.0332      0.010      3.175      0.002       0.013       0.054\n",
      "progresa:year       -0.0024      0.013     -0.179      0.858      -0.029       0.024\n",
      "age                 -0.1166      0.002    -56.068      0.000      -0.121      -0.113\n",
      "dist_sec            -0.0106      0.002     -6.146      0.000      -0.014      -0.007\n",
      "hohedu               0.0062      0.001      5.900      0.000       0.004       0.008\n",
      "indig                0.0404      0.010      4.110      0.000       0.021       0.060\n",
      "grc                  0.0666      0.002     27.387      0.000       0.062       0.071\n",
      "==============================================================================\n",
      "Omnibus:                      639.058   Durbin-Watson:                   1.532\n",
      "Prob(Omnibus):                  0.000   Jarque-Bera (JB):              764.757\n",
      "Skew:                          -0.665   Prob(JB):                    8.61e-167\n",
      "Kurtosis:                       3.009   Cond. No.                         85.9\n",
      "==============================================================================\n",
      "\n",
      "Warnings:\n",
      "[1] Standard Errors assume that the covariance matrix of the errors is correctly specified.\n"
     ]
    }
   ],
   "source": [
    "'''Regression to calculate Double Differences for non-poor, see any significant spillover effect'''\n",
    "\n",
    "sc1 = prog_df.loc[prog_df['poor'] != \"pobre\", 'sc']\n",
    "progresa1 = prog_df.loc[prog_df['poor'] != \"pobre\", 'progresa']\n",
    "year1 = prog_df.loc[prog_df['poor'] != \"pobre\", 'year']\n",
    "age1 = prog_df.loc[prog_df['poor'] != \"pobre\", 'age']\n",
    "dsec1 = prog_df.loc[prog_df['poor'] != \"pobre\", 'dist_sec']\n",
    "gender1 = prog_df.loc[prog_df['poor'] != \"pobre\", 'sex']\n",
    "hohedu1 = prog_df.loc[prog_df['poor'] != \"pobre\", 'hohedu']\n",
    "indig1 = prog_df.loc[prog_df['poor'] != \"pobre\", 'indig']\n",
    "grc = prog_df.loc[prog_df['poor'] != \"pobre\", 'grc']\n",
    "\n",
    "model4_df = pd.DataFrame({\"sc\": sc1, \"progresa\": progresa1, \"year\": year1, \"age\": age1, \"dist_sec\": dsec1, \"gender\": gender1, \n",
    "                        \"hohedu\": hohedu1, \"indig\": indig1, \"grc\": grc}).dropna()\n",
    "\n",
    "model4 = smf.ols(formula='sc ~ progresa * year + age + dist_sec + C(gender) + hohedu + indig + grc', data=model4_df).fit()\n",
    "print(model4.summary())"
   ]
  },
  {
   "cell_type": "markdown",
   "metadata": {},
   "source": [
    "No, the treatment effect measured by the interaction term has a p-value that is too large, meaning we cannot reject the null hypothesis. Non-poor showed no significant difference over 1997-1998 due to the treatment. There is no observed spillover effect from the result. However, contrary to our understanding that non-poor are ineligible for progresa, we find progresa also has coefficient that is statistically significant, indicating some non-poor households also get assigned with progresa subsidies and have some treatment effect. We may need to look into the beneficiary assignment method to understand why.\n",
    "\n",
    "One case of spillover effects could be that the progresa program raised the awareness of importance of sending children to school, so even non-poor family are not selected to get subsidies, they feel worried if not sending their kids to school while the poor counterparts do, so non-poor also intentionally send more kids from their households to school. Another case could be that the kids participated in progresa program also gained more attention from the household and neighborhoods, so resources are relocated more in favor of poor kids (e.g. commuting assistance), which could bring about some negative spillover effect on non-poor kids from the same household/neighborhood who could have attended school."
   ]
  },
  {
   "cell_type": "markdown",
   "metadata": {},
   "source": [
    "### 2.7 Summary\n",
    "\n",
    "* Based on all the analysis you have undertaken to date, do you believe that Progresa had a causal impact on the enrollment rates of poor households in Mexico? \n",
    "* Describe one other way that you might analyze these data to further investigate the causal impact of Progresa on enrollment, and clearly state the counterfactual assumption you would need to make for that approach to be valid.  *(Hint: Consider using the non-poor in your analysis)*"
   ]
  },
  {
   "cell_type": "markdown",
   "metadata": {},
   "source": [
    "Yes, I believe Progresa had a causal impact on the enrollment rates of poor households in Mexico, although the magnitude of impact was not very big.\n",
    "\n",
    "As we found in 1.2, the baseline doesn't show a very good randomization in sampling. We know that difference in difference is a method to be best used in randomized experiment, we can consider methods, such as Instrumental Variable (IV) or Regression Discontinuity (RD). \n",
    "\n",
    "If we use RD, we use welfare index to set a cut-off point to divide poor and non-poor and time is the running variable. The original functional form of school enrollment rates and welfare index can be specified and other factors determine the enrollment outcome are found to be continuous. We will compare after treatment if the poor group has an outstanding increase in enrollment rates and a gap appear at the cut-off point of poor and non-poor in 1998. \n",
    "\n",
    "The counterfactual assumption is in the absence of treatment, poor and non-poor will follow the same functional form over the period of 1997-1998."
   ]
  },
  {
   "cell_type": "code",
   "execution_count": null,
   "metadata": {},
   "outputs": [],
   "source": []
  }
 ],
 "metadata": {
  "anaconda-cloud": {},
  "kernelspec": {
   "display_name": "APIs_geospatial",
   "language": "python",
   "name": "apis_geospatial"
  },
  "language_info": {
   "codemirror_mode": {
    "name": "ipython",
    "version": 3
   },
   "file_extension": ".py",
   "mimetype": "text/x-python",
   "name": "python",
   "nbconvert_exporter": "python",
   "pygments_lexer": "ipython3",
   "version": "3.7.6"
  }
 },
 "nbformat": 4,
 "nbformat_minor": 1
}
