{
 "cells": [
  {
   "cell_type": "markdown",
   "metadata": {},
   "source": [
    "# Problem Set 4, due March 16 at 11:59pm\n",
    "\n",
    "### Before You Start\n",
    "\n",
    "This is a fun but challenging problem set. It will test your python skills, as well as your understanding of the material in class and in the readings. Start early and debug often! Some notes:\n",
    "\n",
    "* Part 1 is meant to be easy, so get through it quickly.\n",
    "* Part 2 (especially 2.1) will be difficult, but it is the lynchpin of this problem set to make sure to do it well and understand what you've done. If you find your gradient descent algorithm is taking more than a few minutes to complete, debug more, compare notes with others, and go to the TA sessions (especially the sections on vectorized computation and computational efficiency).\n",
    "* Depending on how well you've done 2.1, parts 2.3 and 4.3 will be relatively painless or incredibly painful. \n",
    "* Part 4 (especially 4.3) will be computationally intensive. Don't leave this until the last minute, otherwise your code might be running when the deadline arrives.\n",
    "* Do the extra credit problems last."
   ]
  },
  {
   "cell_type": "markdown",
   "metadata": {},
   "source": [
    "---\n",
    "\n",
    "## Introduction to the assignment\n",
    "\n",
    "As with the last assignment, you will be using the [Boston Housing Prices Data Set](https://archive.ics.uci.edu/ml/machine-learning-databases/housing/housing.names)."
   ]
  },
  {
   "cell_type": "code",
   "execution_count": 1,
   "metadata": {},
   "outputs": [],
   "source": [
    "import IPython\n",
    "import numpy as np\n",
    "import scipy as sp\n",
    "import pandas as pd\n",
    "import matplotlib\n",
    "import sklearn\n",
    "\n",
    "%matplotlib inline  \n",
    "import matplotlib.pyplot as plt  \n",
    "import statsmodels.api as sm\n",
    "from sklearn.linear_model import LinearRegression\n",
    "from sklearn.metrics import mean_squared_error\n",
    "import statsmodels.formula.api as smf\n"
   ]
  },
  {
   "cell_type": "code",
   "execution_count": 2,
   "metadata": {},
   "outputs": [],
   "source": [
    "# Load you data the Boston Housing data into a dataframe\n",
    "# MEDV.txt containt the median house values and data.txt the other 13 features\n",
    "# in order [\"CRIM\", \"ZN\", \"INDUS\", \"CHAS\", \"NOX\",\"RM\",\"AGE\",\"DIS\",\"RAD\",\"TAX\",\"PTRATIO\",\"B\",\"LSTAT\"]\n",
    "data = np.loadtxt('data.txt')\n",
    "target = np.loadtxt('MEDV.txt')\n",
    "bdata_df = pd.DataFrame(data, columns = ['CRIM','ZN','INDUS', 'CHAS', 'NOX', 'RM', 'AGE', 'DIS', 'RAD', 'TAX', 'PTRATIO', 'B', 'LSTAT'])\n",
    "bdata_df['MEDV'] = target"
   ]
  },
  {
   "cell_type": "markdown",
   "metadata": {},
   "source": [
    "---\n",
    "\n",
    "## Part 1: Getting oriented\n",
    "\n",
    "\n",
    "### 1.1 Use existing libraries\n",
    "\n",
    "Soon, you will write your own gradient descent algorithm, which you will then use to minimize the squared error cost function.  First, however, let's use the canned versions that come with Python, to make sure we understand what we're aiming to achieve.\n",
    "\n",
    "Using the same Boston housing prices dataset, use the [Linear Regression class](http://scikit-learn.org/stable/modules/generated/sklearn.linear_model.LinearRegression.html) from sklearn or the [OLS class](http://wiki.scipy.org/Cookbook/OLS) from SciPy to explore the relationship between  median housing price and number of rooms per house. Do this by first (a) regressing the housing price on the number of rooms per house, and then (b) regressing the housing price on the number of rooms per house and the (number of rooms per house) squared.  Interpret your results."
   ]
  },
  {
   "cell_type": "code",
   "execution_count": 3,
   "metadata": {},
   "outputs": [
    {
     "name": "stdout",
     "output_type": "stream",
     "text": [
      "intercept -35.576206874519855 and slopes [8.95992721] from regression(a)\n",
      "intercept 71.73632810734314 and slopes [-23.78960283   2.46914488] from regression(b)\n"
     ]
    }
   ],
   "source": [
    "from sklearn import linear_model as lm\n",
    "# (a) OLS: 'RM' for 'MEDV'\n",
    "# use reshape(-1,1) for a single feature, reshape(-1,2) for two features\n",
    "\n",
    "X1 = np.array(bdata_df['RM']).reshape(-1,1)\n",
    "y = np.array(bdata_df['MEDV'])\n",
    "reg1 = lm.LinearRegression().fit(X1,y)\n",
    "print(\"intercept {} and slopes {} from regression(a)\".format(reg1.intercept_, reg1.coef_))\n",
    "\n",
    "# (b) OLS: 'RM' and 'RM'^2 for 'MEDV'\n",
    "X2 = np.array(pd.concat([bdata_df['RM'], bdata_df['RM'].pow(2)], axis=1))\n",
    "reg2 = lm.LinearRegression().fit(X2,y)\n",
    "print(\"intercept {} and slopes {} from regression(b)\".format(reg2.intercept_, reg2.coef_))\n"
   ]
  },
  {
   "cell_type": "code",
   "execution_count": 4,
   "metadata": {},
   "outputs": [
    {
     "name": "stdout",
     "output_type": "stream",
     "text": [
      "                            OLS Regression Results                            \n",
      "==============================================================================\n",
      "Dep. Variable:                      y   R-squared:                       0.473\n",
      "Model:                            OLS   Adj. R-squared:                  0.472\n",
      "Method:                 Least Squares   F-statistic:                     452.3\n",
      "Date:                Mon, 16 Mar 2020   Prob (F-statistic):           4.12e-72\n",
      "Time:                        18:23:18   Log-Likelihood:                -1678.2\n",
      "No. Observations:                 506   AIC:                             3360.\n",
      "Df Residuals:                     504   BIC:                             3369.\n",
      "Df Model:                           1                                         \n",
      "Covariance Type:            nonrobust                                         \n",
      "==============================================================================\n",
      "                 coef    std err          t      P>|t|      [0.025      0.975]\n",
      "------------------------------------------------------------------------------\n",
      "const        -35.5762      2.748    -12.944      0.000     -40.976     -30.176\n",
      "x1             8.9599      0.421     21.267      0.000       8.132       9.788\n",
      "==============================================================================\n",
      "Omnibus:                      105.253   Durbin-Watson:                   0.705\n",
      "Prob(Omnibus):                  0.000   Jarque-Bera (JB):              604.717\n",
      "Skew:                           0.763   Prob(JB):                    4.87e-132\n",
      "Kurtosis:                       8.133   Cond. No.                         61.7\n",
      "==============================================================================\n",
      "\n",
      "Warnings:\n",
      "[1] Standard Errors assume that the covariance matrix of the errors is correctly specified.\n",
      "                            OLS Regression Results                            \n",
      "==============================================================================\n",
      "Dep. Variable:                      y   R-squared:                       0.539\n",
      "Model:                            OLS   Adj. R-squared:                  0.538\n",
      "Method:                 Least Squares   F-statistic:                     294.5\n",
      "Date:                Mon, 16 Mar 2020   Prob (F-statistic):           2.19e-85\n",
      "Time:                        18:23:18   Log-Likelihood:                -1644.1\n",
      "No. Observations:                 506   AIC:                             3294.\n",
      "Df Residuals:                     503   BIC:                             3307.\n",
      "Df Model:                           2                                         \n",
      "Covariance Type:            nonrobust                                         \n",
      "==============================================================================\n",
      "                 coef    std err          t      P>|t|      [0.025      0.975]\n",
      "------------------------------------------------------------------------------\n",
      "const         71.7363     12.865      5.576      0.000      46.460      97.013\n",
      "x1           -23.7896      3.867     -6.152      0.000     -31.387     -16.192\n",
      "x2             2.4691      0.290      8.513      0.000       1.899       3.039\n",
      "==============================================================================\n",
      "Omnibus:                       83.768   Durbin-Watson:                   0.715\n",
      "Prob(Omnibus):                  0.000   Jarque-Bera (JB):              926.703\n",
      "Skew:                           0.270   Prob(JB):                    5.87e-202\n",
      "Kurtosis:                       9.608   Cond. No.                     2.13e+03\n",
      "==============================================================================\n",
      "\n",
      "Warnings:\n",
      "[1] Standard Errors assume that the covariance matrix of the errors is correctly specified.\n",
      "[2] The condition number is large, 2.13e+03. This might indicate that there are\n",
      "strong multicollinearity or other numerical problems.\n"
     ]
    }
   ],
   "source": [
    "# alternatively, using statsmodels to get summary table\n",
    "import statsmodels.api as sm\n",
    "X1a = sm.add_constant(X1)\n",
    "model1 = sm.OLS(y, X1a).fit()\n",
    "print(model1.summary())\n",
    "\n",
    "X2a = sm.add_constant(X2)\n",
    "model2 = sm.OLS(y, X2a).fit()\n",
    "print(model2.summary())"
   ]
  },
  {
   "cell_type": "markdown",
   "metadata": {},
   "source": [
    "In the first regression, on average 1 additional room per house is associated with 8960 USD increase in median value of owner-occupied homes.\n",
    "\n",
    "In the second regression, the polynomial regression is non-linear. The change of median value of homes is depending on the number or rooms per house. The slope is not constant. For example, when room number increases from 6 to 7, the median housing value is estimated to increase by 8308 USD; when room number increases from 8 to 9, the median housing value is estimated to increase by 18184 USD."
   ]
  },
  {
   "cell_type": "markdown",
   "metadata": {},
   "source": [
    "### 1.2 Training and testing\n",
    "\n",
    "Chances are, for the above problem you used all of your data to fit the regression line. In some circumstances this is a reasonable thing to do, but often this will result in overfitting. Let's redo the above results the ML way, using careful cross-validation.  Since you are now experts in cross-validation, and have written your own cross-validation algorithm from scratch, you can now take a shortcut and use the libraries that others have built for you.\n",
    "\n",
    "Using the [cross-validation functions](http://scikit-learn.org/stable/modules/cross_validation.html) from scikit-learn, use 25-fold cross-validation to fit regression (a) above, i.e. the linear fit of housing price on number of rooms per house. Each fold of cross-validation will give you one slope coefficient and one intercept coefficient.  Plot the distribution of the 25 slope coefficients using a histogram, then draw a vertical line at the value of the slope coefficient that you estimated in 1.1 using the full dataset.  What do you notice?"
   ]
  },
  {
   "cell_type": "code",
   "execution_count": 5,
   "metadata": {},
   "outputs": [
    {
     "data": {
      "image/png": "[encoded data removed]",
      "text/plain": [
       "<Figure size 720x432 with 1 Axes>"
      ]
     },
     "metadata": {
      "needs_background": "light"
     },
     "output_type": "display_data"
    }
   ],
   "source": [
    "from sklearn.model_selection import KFold\n",
    "\n",
    "kf = KFold(n_splits=25)\n",
    "\n",
    "coef_arr = np.array([])\n",
    "for train_index, test_index in kf.split(X1):\n",
    "#     print(\"TRAIN:\", train_index, \"TEST:\", test_index)\n",
    "    X_train, X_test = X1[train_index], X1[test_index]\n",
    "    y_train, y_test = y[train_index], y[test_index]\n",
    "    reg = lm.LinearRegression().fit(X_train, y_train)\n",
    "    coef_arr = np.append(coef_arr, reg.coef_)\n",
    "\n",
    "plt.figure(figsize=(10,6))\n",
    "plt.hist(coef_arr)\n",
    "plt.axvline(reg1.coef_, color='r', linestyle='--')\n",
    "plt.title('Distribution of 25 slope coefficients using k-fold cross-validation')\n",
    "plt.show()"
   ]
  },
  {
   "cell_type": "markdown",
   "metadata": {},
   "source": [
    "The slope coefficient from 1.1 is at about center of the distribution, and the variation of 25 folds is high, ranging from about 8.5 to 9.7."
   ]
  },
  {
   "cell_type": "markdown",
   "metadata": {},
   "source": [
    "### 1.3 Regression lines\n",
    "\n",
    "Create a scatterplot of housing price on rooms per house, and add the two regression lines from 1.1 (or 1.2 if you prefer to do so). Show the linear regression line in red, and the linear+quadratic regression line (which may have curvature) in blue.  Label these two regression lines with the corresponding regression equations (i.e. the slope and intercept of the line).\n",
    "\n",
    "Bonus: Add the 95% confidence bands (i.e.,  the area that has a 95% chance of containing the true regression line) to each of these lines.\n",
    "\n",
    "Note: You can get 2 points even without the confidence bands (if the other lines are correct, the axes are labeled, the lines are labeled, the points are plotted correctly, and so forth). If you do everything perfectly including the confidence bands, you get 2 points. If you do something else wrong and would normally receive less than two points, the confidence intervals can replace lost points up to 0.5.\n",
    "\n",
    "Useful reference: [1](https://www.medcalc.org/manual/scatter_diagram_regression_line.php), [2](https://rpubs.com/aaronsc32/regression-confidence-prediction-intervals)\n",
    "\n",
    "You can directly use some packages to calculate the bands."
   ]
  },
  {
   "cell_type": "markdown",
   "metadata": {},
   "source": [
    "\n"
   ]
  },
  {
   "cell_type": "code",
   "execution_count": 6,
   "metadata": {},
   "outputs": [
    {
     "data": {
      "image/png": "[encoded data removed]",
      "text/plain": [
       "<Figure size 720x432 with 1 Axes>"
      ]
     },
     "metadata": {
      "needs_background": "light"
     },
     "output_type": "display_data"
    }
   ],
   "source": [
    "plt.figure(figsize=(10,6))\n",
    "\n",
    "# scatter plot of RM and MDEV\n",
    "plt.scatter(X1, y, c='g', \n",
    "            marker='.', label='scatter plot of RM vs MDEV')\n",
    "# linear regression line from 1.1 (a)\n",
    "plt.scatter(X1, np.dot(X1, reg1.coef_) + reg1.intercept_, \n",
    "         c='r', label='y = 8.96 * x - 35.58')\n",
    "# non-linear regression line from 1.1 (b)\n",
    "plt.scatter(X1, np.dot(X2, reg2.coef_) + reg2.intercept_, \n",
    "         c='b', label='y = -23.79 * x + 2.47 * x^2 + 71.74')\n",
    "\n",
    "plt.title('Regression lines and scatter plot (RM vs MEDV)')\n",
    "plt.xlabel('RM')\n",
    "plt.ylabel('Median Home Values')\n",
    "plt.legend(loc='upper left')\n",
    "\n",
    "plt.show()\n"
   ]
  },
  {
   "cell_type": "markdown",
   "metadata": {},
   "source": [
    "## Part 2: Gradient descent: Linear Regression\n",
    "\n",
    "This is where it gets fun!\n",
    "\n",
    "### 2.1 Implement gradient descent with one independent variable (average rooms per house)\n",
    "\n",
    "Implement the batch gradient descent algorithm that we discussed in class. Use the version you implement to regress the housing price on the number of rooms per house. Experiment with 3-4 different values of the learning rate *R*, and do the following:\n",
    "\n",
    "* Report the values of alpha and beta that minimize the loss function\n",
    "* Report the number of iterations it takes for your algorithm to converge (for each value of *R*)\n",
    "* Report the total running time of your algorithm, in seconds\n",
    "* How do your coefficients compare to the ones estimated through standard libraries? Does this depend on *R*?\n",
    "\n",
    "Some skeleton code is provided below, but you should feel free to delete this code and start from scratch if you prefer.\n",
    "\n",
    "* *Hint 1: Don't forget to implement a stopping condition, so that at every iteration you check whether your results have converged. Common approaches to this are to (a) check to see if the loss has stopped decreasing; and (b) check if both your current parameter esimates are close to the estimates from the previous iteration.  In both cases, \"close\" should not be ==0, it should be <=epsilon, where epsilon is something very small (like 0.0001).*\n",
    "* *Hint 2: Some people like to include a MaxIterations parameter in their gradient descent algorithm, to prevent divergence. *"
   ]
  },
  {
   "cell_type": "code",
   "execution_count": 7,
   "metadata": {},
   "outputs": [],
   "source": [
    "import time\n",
    "\n",
    "\"\"\"\n",
    "Function\n",
    "--------\n",
    "bivariate_ols\n",
    "    Gradient Decent to minimize OLS. Used to find co-efficients of bivariate OLS Linear regression\n",
    "\n",
    "Parameters\n",
    "----------\n",
    "xvalues, yvalues : narray\n",
    "    xvalues: independent variable\n",
    "    yvalues: dependent variable\n",
    "    \n",
    "R: float\n",
    "    Learning rate\n",
    "    \n",
    "MaxIterations: Int\n",
    "    maximum number of iterations\n",
    "    \n",
    "\n",
    "Returns\n",
    "-------\n",
    "alpha: float\n",
    "    intercept\n",
    "    \n",
    "beta: float\n",
    "    co-efficient\n",
    "\"\"\"\n",
    "def bivariate_ols(xvalues, yvalues, R=0.01, MaxIterations=1000):\n",
    "    start_time = time.time()\n",
    "    # initialize the parameters\n",
    "    alpha_old = np.random.rand()\n",
    "    beta_old = np.random.rand()\n",
    "    alpha = np.random.rand()\n",
    "    beta = np.random.rand()\n",
    "    n = len(xvalues)\n",
    "    \n",
    "    # tolerence and iteration counter\n",
    "    epsilon = 1e-4\n",
    "    cnt = 0\n",
    "    cost = 0\n",
    "    while (np.abs(alpha_old - alpha) > epsilon or np.abs(beta_old - beta) > epsilon):\n",
    "        alpha_old = alpha\n",
    "        beta_old = beta\n",
    "        alpha = alpha_old - R / n * ((alpha_old + beta_old * xvalues - yvalues).sum())\n",
    "        beta = beta_old - R / n * (((alpha_old + beta_old * xvalues - yvalues) * xvalues).sum())\n",
    "        # print the cost to check it is decreasing\n",
    "        cost = 1.0 / (2*n) * (((yvalues - alpha - beta * xvalues) ** 2).sum())\n",
    "#         print(cost)\n",
    "        \n",
    "        cnt += 1\n",
    "        if cnt > MaxIterations:\n",
    "            print('Iterations exceeded maximum number. Stopping...')\n",
    "            break\n",
    "\n",
    "    print(\"Time taken: {:.2f} seconds\".format(time.time() - start_time))\n",
    "    return alpha, beta, cnt, cost"
   ]
  },
  {
   "cell_type": "code",
   "execution_count": 8,
   "metadata": {},
   "outputs": [
    {
     "name": "stdout",
     "output_type": "stream",
     "text": [
      "Time taken: 0.29 seconds\n",
      "Learning Rate=0.045\n",
      " (-35.381775132200936, 8.930289855150649, 10165, 22.246158244315833) \n",
      "\n"
     ]
    }
   ],
   "source": [
    "# function call\n",
    "print('Learning Rate=0.045\\n', bivariate_ols(np.array(bdata_df['RM']), y, 0.045, 100000), '\\n')"
   ]
  },
  {
   "cell_type": "code",
   "execution_count": 9,
   "metadata": {},
   "outputs": [
    {
     "name": "stdout",
     "output_type": "stream",
     "text": [
      "Time taken: 0.32 seconds\n",
      "Learning Rate=0.04\n",
      " (-35.35748727276446, 8.926587640921143, 11213, 22.246216878773375) \n",
      "\n"
     ]
    }
   ],
   "source": [
    "print('Learning Rate=0.04\\n', bivariate_ols(np.array(bdata_df['RM']), y, 0.04, 100000), '\\n')"
   ]
  },
  {
   "cell_type": "code",
   "execution_count": 10,
   "metadata": {},
   "outputs": [
    {
     "name": "stdout",
     "output_type": "stream",
     "text": [
      "Time taken: 0.40 seconds\n",
      "Learning Rate=0.03\n",
      " (-35.284544601339725, 8.915468942017558, 14102, 22.24643441490863) \n",
      "\n"
     ]
    }
   ],
   "source": [
    "print('Learning Rate=0.03\\n', bivariate_ols(np.array(bdata_df['RM']), y, 0.03, 100000), '\\n')"
   ]
  },
  {
   "cell_type": "markdown",
   "metadata": {},
   "source": [
    "When R = 0.045, we get alpha = 8.93, beta = -35.38 that minimizes the loss function.\n",
    "It takes 10201 iterations to converge. The total runtime is 0.30 second.\n",
    "\n",
    "When R = 0.04, we get alpha = 8.93, beta = -35.36 that minimizes the loss function. It takes 11296 iterations to converge. The total runtime is 0.33 second.\n",
    "\n",
    "When R = 0.03, we get alpha = 8.92, beta = -35.28 that minimizes the loss function.\n",
    "It takes 14062 iterations to converge. The total runtime is 0.40 second.\n",
    "\n",
    "All of the three learning rates get us very close estimations to what we got in 1.1 (alpha=8.96, beta=-35.58). Sufficiently small R can converge faster, and these R are good enough to estimate alpha and beta for the accuracy I specified."
   ]
  },
  {
   "cell_type": "markdown",
   "metadata": {},
   "source": [
    "### 2.2 Data normalization (done for you!)\n",
    "\n",
    "Soon, you will implement a version of gradient descent that can use an arbitrary number of independent variables. Before doing this, we want to give you some code in case you want to standardize your features."
   ]
  },
  {
   "cell_type": "code",
   "execution_count": 11,
   "metadata": {},
   "outputs": [],
   "source": [
    "def standardize(raw_data):\n",
    "    return ((raw_data - np.mean(raw_data, axis = 0)) / np.std(raw_data, axis = 0))"
   ]
  },
  {
   "cell_type": "markdown",
   "metadata": {},
   "source": [
    "### 2.3 Implement gradient descent with an arbitrary number of independent variables\n",
    "\n",
    "Now that you have a simple version of gradient descent working, create a version of gradient descent that can take more than one independent variable.  Assume all independent variables will be continuous.  Test your algorithm using CRIM and RM as independent variables. Standardize these variables before before inputting them to the gradient descent algorithm. \n",
    "\n",
    "As before,  report and interpret your estimated coefficients, the number of iterations before convergence, and the total running time of your algorithm. Experiment with 2-3 different values of R.\n",
    "\n",
    "* *Hint 1: Be careful to implement this efficiently, otherwise it might take a long time for your code to run. Commands like `np.dot` can be a good friend to you on this problem*"
   ]
  },
  {
   "cell_type": "code",
   "execution_count": 12,
   "metadata": {},
   "outputs": [],
   "source": [
    "\"\"\"\n",
    "Function\n",
    "--------\n",
    "multivariate_ols\n",
    "    Gradient Decent to minimize OLS. Used to find co-efficients of bivariate OLS Linear regression\n",
    "\n",
    "Parameters\n",
    "----------\n",
    "xvalue_matrix, yvalues : narray\n",
    "    xvalue_matrix: independent variable\n",
    "    yvalues: dependent variable\n",
    "    \n",
    "R: float\n",
    "    Learning rate\n",
    "    \n",
    "MaxIterations: Int\n",
    "    maximum number of iterations\n",
    "    \n",
    "\n",
    "Returns\n",
    "-------\n",
    "alpha: float\n",
    "    intercept\n",
    "    \n",
    "beta_array: array[float]\n",
    "    co-efficient\n",
    "\"\"\"\n",
    "\n",
    "def multivariate_ols(xvalues, yvalues, R=0.01, MaxIterations=1000):\n",
    "    start_time = time.time()\n",
    "    # Initialize variablse\n",
    "    N, m = np.shape(xvalues)\n",
    "    alpha_old = np.random.rand()\n",
    "    beta_old = np.random.rand(m)\n",
    "    alpha = np.random.rand()\n",
    "    beta = np.random.rand(m)\n",
    "    \n",
    "    # tolerance and iteration counter\n",
    "    cost_list = np.empty(1)\n",
    "    epsilon = 1e-4\n",
    "    cnt = 0\n",
    "    while(np.abs(alpha_old-alpha) > epsilon or np.max(np.abs(beta_old-beta)) > epsilon):\n",
    "        alpha_old = alpha\n",
    "        beta_old = beta\n",
    "        alpha = alpha_old - R / N * ((alpha_old +  np.dot(xvalues, beta_old) - yvalues).sum())\n",
    "        beta = beta_old - R / N * np.dot(xvalues.T, (alpha_old +  np.dot(xvalues, beta_old) - yvalues))\n",
    "        \n",
    "        # print the cost to check it is descreasing\n",
    "        cost = 1.0 / (2* N) * np.linalg.norm(yvalues - alpha - np.dot(xvalues, beta))**2\n",
    "        cost_list= np.append(cost_list, cost)\n",
    "#         print(cost_list)\n",
    "        \n",
    "        # If it takes too many iterations terminate\n",
    "        cnt += 1\n",
    "        if cnt > MaxIterations:\n",
    "            print('Iterations exceeded maximum number. Stopping...')\n",
    "            break\n",
    "        \n",
    "    print(\"Time taken: {:.2f} seconds\".format(time.time() - start_time))    \n",
    "    return alpha, beta, cnt"
   ]
  },
  {
   "cell_type": "code",
   "execution_count": 13,
   "metadata": {},
   "outputs": [
    {
     "name": "stdout",
     "output_type": "stream",
     "text": [
      "Time taken: 0.01 seconds\n",
      "Learning Rate=0.05\n",
      " (22.530956538655232, array([-2.24361178,  5.8169275 ]), 183) \n",
      "\n"
     ]
    }
   ],
   "source": [
    "# function call\n",
    "print('Learning Rate=0.05\\n', multivariate_ols(standardize(np.array(bdata_df[['CRIM','RM']])), y, 0.05, 100000), '\\n')"
   ]
  },
  {
   "cell_type": "code",
   "execution_count": 14,
   "metadata": {},
   "outputs": [
    {
     "name": "stdout",
     "output_type": "stream",
     "text": [
      "Time taken: 0.01 seconds\n",
      "Learning Rate=0.04\n",
      " (22.530462284606713, array([-2.24360706,  5.81690701]), 224) \n",
      "\n"
     ]
    }
   ],
   "source": [
    "print('Learning Rate=0.04\\n', multivariate_ols(standardize(np.array(bdata_df[['CRIM','RM']])), y, 0.04, 100000), '\\n')"
   ]
  },
  {
   "cell_type": "code",
   "execution_count": 15,
   "metadata": {},
   "outputs": [
    {
     "name": "stdout",
     "output_type": "stream",
     "text": [
      "Time taken: 0.03 seconds\n",
      "Learning Rate=0.02\n",
      " (22.527993572980545, array([-2.2443569 ,  5.81601407]), 418) \n",
      "\n"
     ]
    }
   ],
   "source": [
    "print('Learning Rate=0.02\\n', multivariate_ols(standardize(np.array(bdata_df[['CRIM','RM']])), y, 0.02, 100000), '\\n')"
   ]
  },
  {
   "cell_type": "markdown",
   "metadata": {},
   "source": [
    "When R = 0.05, we get alpha = 22.53, beta = (-2.24, 5.82) that minimizes the loss function.\n",
    "It takes 183 iterations to converge. The total runtime is 0.01 second.\n",
    "\n",
    "When R = 0.04, we get alpha = 22.53, beta = (-2.24, 5.82) that minimizes the loss function. It takes 224 iterations to converge. The total runtime is 0.02 second.\n",
    "\n",
    "When R = 0.02, we get alpha = 22.53, beta = (-2.24, 5.82) that minimizes the loss function.\n",
    "It takes 418 iterations to converge. The total runtime is 0.03 second.\n",
    "\n",
    "Sufficiently small learning rates can provide good enough estimations of coefficient and intercept. Just that larger ones tend to be faster and have less iterations and less runtime.\n",
    "\n",
    "Interpretation: holding other factors constant, 1 more room per house indicates an increase of 5820 USD in median housing value on average; holding others constant, 1 more percentage crime rate per capita indicates a decrease of 2244 USD in median housing value on average."
   ]
  },
  {
   "cell_type": "markdown",
   "metadata": {},
   "source": [
    "### 2.4 Compare standardized vs. non-standardized results\n",
    "\n",
    "Repeat the analysis from 2.3, but this time do not standardize your variables - i.e., use the original data. Use the same three values of R (0.1, 0.01, and 0.001). What do you notice about the running time and convergence properties of your algorithm?"
   ]
  },
  {
   "cell_type": "code",
   "execution_count": 16,
   "metadata": {},
   "outputs": [
    {
     "name": "stdout",
     "output_type": "stream",
     "text": [
      "Time taken: 0.01 seconds\n",
      "Learning Rate=0.1\n",
      " (22.531927490939758, array([-2.24344151,  5.8171437 ]), 96) \n",
      "\n",
      "Time taken: 0.03 seconds\n",
      "Learning Rate=0.01\n",
      " (22.522950009832563, array([-2.24576922,  5.81424156]), 766) \n",
      "\n",
      "Time taken: 0.23 seconds\n",
      "Learning Rate=0.001\n",
      " (22.432969090545296, array([-2.25124496,  5.7985267 ]), 5412) \n",
      "\n"
     ]
    }
   ],
   "source": [
    "# Standardized\n",
    "print('Learning Rate=0.1\\n', multivariate_ols(standardize(np.array(bdata_df[['CRIM','RM']])), y, 0.1, 100000), '\\n')\n",
    "print('Learning Rate=0.01\\n', multivariate_ols(standardize(np.array(bdata_df[['CRIM','RM']])), y, 0.01, 100000), '\\n')\n",
    "print('Learning Rate=0.001\\n', multivariate_ols(standardize(np.array(bdata_df[['CRIM','RM']])), y, 0.001, 100000), '\\n')"
   ]
  },
  {
   "cell_type": "code",
   "execution_count": 17,
   "metadata": {},
   "outputs": [
    {
     "name": "stdout",
     "output_type": "stream",
     "text": [
      "Time taken: 0.03 seconds\n",
      "Learning Rate=0.1\n",
      " (nan, array([nan, nan]), 325) \n",
      "\n"
     ]
    },
    {
     "name": "stderr",
     "output_type": "stream",
     "text": [
      "/Users/qyinhelena/anaconda3/envs/APIs_geospatial/lib/python3.7/site-packages/ipykernel_launcher.py:46: RuntimeWarning: invalid value encountered in subtract\n"
     ]
    },
    {
     "name": "stdout",
     "output_type": "stream",
     "text": [
      "Time taken: 1.48 seconds\n",
      "Learning Rate=0.01\n",
      " (-29.035658364758554, array([-0.26419927,  8.10758375]), 32902) \n",
      "\n",
      "Iterations exceeded maximum number. Stopping...\n",
      "Time taken: 5.45 seconds\n",
      "Learning Rate=0.001\n",
      " (-19.210713339990537, array([-0.29670662,  6.62776151]), 100001) \n",
      "\n"
     ]
    }
   ],
   "source": [
    "# Non-standardized\n",
    "print('Learning Rate=0.1\\n', multivariate_ols(np.array(bdata_df[['CRIM','RM']]), y, 0.1, 100000), '\\n')\n",
    "print('Learning Rate=0.01\\n', multivariate_ols(np.array(bdata_df[['CRIM','RM']]), y, 0.01, 100000), '\\n')\n",
    "print('Learning Rate=0.001\\n', multivariate_ols(np.array(bdata_df[['CRIM','RM']]), y, 0.001, 100000), '\\n')"
   ]
  },
  {
   "cell_type": "markdown",
   "metadata": {},
   "source": [
    "When non-standardized, the loss function becomes more \"spherical\" and it takes so much longer runtime to converge, even for the same R. When R=0.1 and X-array non-standardized, it diverges. When R=0.001 and X-array is non-standardized, it exceeds the maximum iteration limit, but still not reaching the local minima. When R=0.01, it converges but it takes so much longer time and more iterations. Thus, standardization is necessary to efficiently and accurately find local minima in GD."
   ]
  },
  {
   "cell_type": "markdown",
   "metadata": {},
   "source": [
    "### **2.5 Implement  Mini-Batch Gradient Descent (MB-GD)**\n",
    "MB-GD is a Gradient Descent variant that in large data sets can converge faster and is computationally less intensive. Implement MB-GD for question 2.3. Tune the learning rate, number of iterations and \"mini-batch\" size\n",
    "so that you compute the estimates within a 1e-2 tolerance. Do not use a batch-size greater than 32.\n",
    "In summary you go over the entire data set for n epochs. At the beginning of each epoch you shuffle your data once and then you pick k batches (approximately k=#of data points/batch_size). For each batch you compute the gradient, update the parameters and move to the next batch.\n",
    "MB-GD is similar to Stochastic Gradient Descent but instead of using one sample to compute the gradient we use a batch of samples at each iteration. You can find details about MB-GD here:\n",
    "https://en.wikipedia.org/wiki/Stochastic_gradient_descent"
   ]
  },
  {
   "cell_type": "code",
   "execution_count": 18,
   "metadata": {},
   "outputs": [],
   "source": [
    "# def mb_gd(xvalues, yvalues, R=0.01, batch_size=32, MaxIter=10000):\n",
    "#     start_time = time.time()\n",
    "#     # Initialize variablse\n",
    "#     N, m = np.shape(xvalues)\n",
    "#     alpha_old = np.random.rand()\n",
    "#     beta_old = np.random.rand(m)\n",
    "#     alpha = np.random.rand()\n",
    "#     beta = np.random.rand(m)\n",
    "#     cost_old = np.inf\n",
    "#     cost_new = np.linalg.norm(yvalues)\n",
    "#     xvalues_init = xvalues\n",
    "#     yvalues_init = yvalues\n",
    "    \n",
    "#     # tolerance, iteration counter and n epoches\n",
    "#     cost_list = np.empty(1)\n",
    "#     epsilon = 1e-6\n",
    "#     cnt = 0\n",
    "#     n_epoch = int(N/batch_size)\n",
    "    \n",
    "#     for epoch in range(n_epoch+1): # random shuffle for each epoch\n",
    "#         ind = np.random.choice(N, batch_size, replace=False)\n",
    "#         xvalues = xvalues_init[ind, :]\n",
    "#         yvalues = yvalues_init[ind]\n",
    "#         N, _ = xvalues.shape\n",
    "\n",
    "#         # update alpha beta for each batch\n",
    "#         for data in range(batch_size):\n",
    "#             cnt += 1\n",
    "#             if (np.abs(alpha_old-alpha) > epsilon or np.max(np.abs(beta_old-beta)) > epsilon):\n",
    "#                 alpha_old = alpha\n",
    "#                 beta_old = beta\n",
    "\n",
    "#                 alpha = alpha_old - R / N * ((alpha_old +  np.dot(xvalues, beta_old) - yvalues).sum())\n",
    "#                 beta = beta_old - R / N * np.dot(xvalues.T, (alpha_old +  np.dot(xvalues, beta_old) - yvalues))\n",
    "\n",
    "#                 cost = 1.0 / (2* N) * np.linalg.norm(yvalues - alpha - np.dot(xvalues, beta))**2\n",
    "#                 cost_list= np.append(cost_list, cost)\n",
    "# #                 print(cost_list)\n",
    "                \n",
    "#              #elif cnt > MaxIter:\n",
    "# #                 print('Iterations exceeded maximum number. Stopping...')\n",
    "# #                 break\n",
    "                \n",
    "#             else:\n",
    "#                 print(\"Time taken: {:.2f} seconds\".format(time.time() - start_time))   \n",
    "#                 return alpha, beta, cnt\n",
    "\n",
    "#     print(\"Time taken: {:.2f} seconds\".format(time.time() - start_time))    \n",
    "#     return alpha, beta, cnt"
   ]
  },
  {
   "cell_type": "code",
   "execution_count": 19,
   "metadata": {},
   "outputs": [],
   "source": [
    "\"\"\"\n",
    "Function\n",
    "--------\n",
    "mb_gd\n",
    "    Gradient Decent with mini batches. Used to find co-efficients of regression that is convex\n",
    "\n",
    "Parameters\n",
    "----------\n",
    "xvalue, yvalues : narray\n",
    "    xvalue: independent variable\n",
    "    yvalues: dependent variable\n",
    "    \n",
    "R: float\n",
    "    Learning rate\n",
    "    \n",
    "BatchSize: Int\n",
    "    number of datapoints in a batch\n",
    "    \n",
    "Returns\n",
    "-------\n",
    "alpha: float\n",
    "    intercept\n",
    "    \n",
    "beta: array[float]\n",
    "    co-efficient\n",
    "    \n",
    "cnt: int\n",
    "    count of iterations\n",
    "\"\"\"\n",
    "from sklearn.utils import shuffle\n",
    "\n",
    "def mb_gd(xvalues, yvalues, R=0.01, MaxIterations=1000, BatchSize=32):\n",
    "    start_time = time.time()\n",
    "    # Initiate variables\n",
    "    N, m = np.shape(xvalues)\n",
    "    alpha = np.random.rand()\n",
    "    beta = np.random.rand(m)\n",
    "    \n",
    "    # in this implementation I keep track of the objective function to determine convergence\n",
    "    cost_old = np.inf\n",
    "    cost_new = np.linalg.norm(yvalues)\n",
    "    epsilon = 1e-4\n",
    "    cnt = 0\n",
    "\n",
    "    for i in range(MaxIterations):\n",
    "        cost_old = cost_new\n",
    "        # shuffle data\n",
    "        Xb, yb = shuffle(xvalues, yvalues)\n",
    "        \n",
    "        # for each of the floor(n/K) batches do gradient steps\n",
    "        for offset in range(0, N, BatchSize):\n",
    "            \n",
    "            end = offset + BatchSize\n",
    "            batchx, batchy = Xb[offset:end], yb[offset:end]\n",
    "            \n",
    "            # update alpha and beta for each batch\n",
    "            alpha = alpha - R / N * ((alpha + np.dot(batchx, beta) - batchy).sum())\n",
    "            beta = beta - R / N * np.dot(batchx.T, (alpha +  np.dot(batchx, beta) - batchy))\n",
    "            # compute new cost\n",
    "            cost_new = 1.0 / (2 * N) * np.linalg.norm(batchy - alpha - np.dot(batchx, beta))**2\n",
    "            \n",
    "        if((np.abs(cost_old-cost_new) < epsilon) or (cnt > MaxIterations)):\n",
    "            print(\"Time taken: {:.2f} seconds\".format(time.time() - start_time))    \n",
    "            return alpha, beta, cnt\n",
    "            \n",
    "        cnt += 1\n",
    "        \n",
    "    print(\"Time taken: {:.2f} seconds\".format(time.time() - start_time))    \n",
    "    return alpha, beta, cnt"
   ]
  },
  {
   "cell_type": "code",
   "execution_count": 20,
   "metadata": {},
   "outputs": [
    {
     "name": "stdout",
     "output_type": "stream",
     "text": [
      "intercept 22.53280632411067 and slopes [-2.24281888  5.8177965 ] from regression(a)\n"
     ]
    }
   ],
   "source": [
    "# OLS: regressing 'MEDV' on standardized ’CRIM‘ and 'RM'\n",
    "# use reshape(-1,1) for a single feature, reshape(-1,2) for two features\n",
    "\n",
    "X3 = standardize(np.array(bdata_df[['CRIM','RM']]))\n",
    "y = np.array(bdata_df['MEDV'])\n",
    "reg3 = lm.LinearRegression().fit(X3,y)\n",
    "print(\"intercept {} and slopes {} from regression(a)\".format(reg3.intercept_, reg3.coef_))"
   ]
  },
  {
   "cell_type": "code",
   "execution_count": 21,
   "metadata": {},
   "outputs": [
    {
     "name": "stdout",
     "output_type": "stream",
     "text": [
      "Time taken: 0.48 seconds\n",
      "Learning Rate=0.01 and 32 batches\n",
      " (22.53190997411802, array([-2.24306554,  5.81724333]), 1000) \n",
      "\n"
     ]
    }
   ],
   "source": [
    "print('Learning Rate=0.01 and 32 batches\\n', mb_gd(standardize(np.array(bdata_df[['CRIM','RM']])), y, \n",
    "                                                   0.01, 1000, 32), '\\n')"
   ]
  },
  {
   "cell_type": "code",
   "execution_count": 22,
   "metadata": {
    "scrolled": true
   },
   "outputs": [
    {
     "name": "stdout",
     "output_type": "stream",
     "text": [
      "Time taken: 0.47 seconds\n",
      "Learning Rate=0.1 and 32 batches\n",
      " (22.532249025191813, array([-2.2440273 ,  5.81877786]), 1000) \n",
      "\n"
     ]
    }
   ],
   "source": [
    "print('Learning Rate=0.1 and 32 batches\\n', mb_gd(standardize(np.array(bdata_df[['CRIM','RM']])), y, \n",
    "                                                    0.1, 1000, 32), '\\n')"
   ]
  },
  {
   "cell_type": "code",
   "execution_count": 23,
   "metadata": {},
   "outputs": [
    {
     "name": "stdout",
     "output_type": "stream",
     "text": [
      "Time taken: 0.46 seconds\n",
      "Learning Rate=0.02 and 32 batches\n",
      " (22.533035925177334, array([-2.24222604,  5.81790327]), 1000) \n",
      "\n"
     ]
    }
   ],
   "source": [
    "print('Learning Rate=0.02 and 32 batches\\n', mb_gd(standardize(np.array(bdata_df[['CRIM','RM']])), y, \n",
    "                                                    0.02, 1000, 32), '\\n')"
   ]
  },
  {
   "cell_type": "markdown",
   "metadata": {},
   "source": [
    "I don't observe speedup as a total. Although it iterate many times, the speed iterating for each batch is extremely fast."
   ]
  },
  {
   "cell_type": "markdown",
   "metadata": {},
   "source": [
    "## 3. Prediction\n",
    "\n",
    "Let's use our fitted model to make predictions about housing prices. Make sure to first standardize your features before proceeding.\n",
    "\n",
    "### 3.1 Cross-Validation\n",
    "\n",
    "Unless you were careful above, you probably overfit your data again. Let's fix that in one of two ways. If you're feeling confident, use k-fold cross-validation to re-fit the multivariate regression from 2.3 above, and report your estimated coefficients (there should be three, corresponding to the intercept and the two coefficients for CRIM and RM). Or if you want to do the quick and dirty version, randomly divide your data into a training set (66%) and testing set (34%) and use the training set to re-fit the regression from 2.3 above. \n",
    "\n",
    "*NOTE: * If using k-fold cross-validation, you will end up with a different set of parameters for each fold. In this case, use the parameters from the fold that has the highest test performance."
   ]
  },
  {
   "cell_type": "code",
   "execution_count": 24,
   "metadata": {},
   "outputs": [],
   "source": [
    "\"\"\"\n",
    "Function\n",
    "--------\n",
    "compute_rmse\n",
    "\n",
    "Given two arrays, one of actual values and one of predicted values,\n",
    "compute the Roote Mean Squared Error\n",
    "\n",
    "Parameters\n",
    "----------\n",
    "predictions : array\n",
    "    Array of numerical values corresponding to predictions for each of the N observations\n",
    "\n",
    "yvalues : array\n",
    "    Array of numerical values corresponding to the actual values for each of the N observations\n",
    "\n",
    "Returns\n",
    "-------\n",
    "rmse : int\n",
    "    Root Mean Squared Error of the prediction\n",
    "\"\"\"\n",
    "# compute RMSE\n",
    "def compute_rmse(predictions, yvalues):\n",
    "    pre = np.asarray(predictions)\n",
    "    y = np.asarray(yvalues)\n",
    "    rmse = np.sqrt(np.sum((pre-y) ** 2) / float(len(y)))\n",
    "    return rmse"
   ]
  },
  {
   "cell_type": "code",
   "execution_count": 25,
   "metadata": {},
   "outputs": [
    {
     "name": "stdout",
     "output_type": "stream",
     "text": [
      "Time taken: 0.46 seconds\n",
      "22.52532771721301 [-2.24384916  5.79313478] 6.382219873433155\n",
      "Time taken: 0.42 seconds\n",
      "22.682225781358785 [-2.30025563  5.7451674 ] 6.342751270730907\n",
      "Time taken: 0.54 seconds\n",
      "22.528203238057095 [-2.24440273  5.79881166] 6.412008882154863\n",
      "Time taken: 0.30 seconds\n",
      "22.54269945678394 [-2.24452616  5.82631673] 6.424991116401622\n",
      "Time taken: 0.26 seconds\n",
      "22.550467829471557 [-2.25308862  5.80135356] 6.4129561775759365\n",
      "Time taken: 0.46 seconds\n",
      "22.59815873047791 [-2.26847225  5.81655083] 6.413371567032139\n",
      "Time taken: 0.45 seconds\n",
      "22.698834006317224 [-2.30601617  5.77197478] 6.351780235456768\n",
      "Time taken: 0.45 seconds\n",
      "22.406434539383756 [-2.24518348  5.66287471] 6.274492021143502\n",
      "Time taken: 0.45 seconds\n",
      "22.35141338847525 [-2.18903918  5.74895141] 6.303104910517313\n",
      "Time taken: 0.45 seconds\n",
      "22.30077936132886 [-2.22863017  5.44557826] 6.267903211674273\n",
      "Time taken: 0.41 seconds\n",
      "22.425884190842286 [-2.20522477  5.8054697 ] 6.384079508460449\n",
      "Time taken: 0.38 seconds\n",
      "22.49800850395268 [-2.25167038  5.72014414] 6.375557428074489\n",
      "Time taken: 0.46 seconds\n",
      "22.39428623598153 [-2.24283861  5.59034284] 6.344115020625005\n",
      "Time taken: 0.43 seconds\n",
      "22.33325496680895 [-2.23305167  5.50468578] 6.290165192456881\n",
      "Time taken: 0.11 seconds\n",
      "22.297438916093558 [-2.25519857  5.72353478] 6.408862003795987\n",
      "Time taken: 0.45 seconds\n",
      "22.56326420647162 [-2.25263727  5.83549931] 6.417995984713761\n",
      "Time taken: 0.45 seconds\n",
      "22.59353908088757 [-2.2692264   5.81048713] 6.40282885049047\n",
      "Time taken: 0.04 seconds\n",
      "18.75724246774458 [-2.08374156  5.39220642] 7.295973707958621\n",
      "Time taken: 0.38 seconds\n",
      "22.192763526818652 [-2.38071619  6.33431942] 5.342063589614449\n",
      "Time taken: 0.14 seconds\n",
      "22.64981942790217 [-2.2058186   5.82127431] 6.285743320707669\n",
      "Time taken: 0.45 seconds\n",
      "22.4953652850577 [-2.69299752  6.03854598] 6.1337867807843125\n",
      "Time taken: 0.17 seconds\n",
      "22.859764743625423 [-1.95050287  5.91225377] 6.17130485385236\n",
      "Time taken: 0.52 seconds\n",
      "22.796762750403847 [-2.11698302  5.92123263] 6.2537618071726975\n",
      "Time taken: 0.36 seconds\n",
      "22.555106899812102 [-2.25118047  5.83759838] 6.395268477515647\n",
      "Time taken: 0.45 seconds\n",
      "22.618592345403467 [-2.27908219  5.80378428] 6.352641960038842\n"
     ]
    }
   ],
   "source": [
    "# slicing data by column name\n",
    "X_cr_rm = standardize(np.array(bdata_df[['CRIM','RM']]))\n",
    "\n",
    "# 25-fold cross validation on training data\n",
    "kf = KFold(n_splits=25)\n",
    "\n",
    "# iterate through 25 folds\n",
    "for train_index, test_index in kf.split(X_cr_rm):\n",
    "    X_train_cr_rm, X_test_cr_rm = X_cr_rm[train_index], X_cr_rm[test_index]\n",
    "    y_train_cr_rm, y_test_cr_rm = y[train_index], y[test_index]\n",
    "    \n",
    "    # fit the mini-batch gd model\n",
    "    inter4, coef4, iter4 = mb_gd(X_train_cr_rm, y_train_cr_rm, 0.02, 1000, 32)\n",
    "    \n",
    "    # predict y for current fold\n",
    "    pred_y = np.dot(X_train_cr_rm, coef4) + inter4\n",
    "    \n",
    "    # print intercept, coefficient and RMSE for each fold\n",
    "    print(inter4, coef4, compute_rmse(pred_y, y_train_cr_rm))"
   ]
  },
  {
   "cell_type": "markdown",
   "metadata": {},
   "source": [
    "When RMSE = 5.34, we have the highest performance from this fold. The intercept is 22.193, and CRIM and RM coefficients are -2.381, 6.334."
   ]
  },
  {
   "cell_type": "markdown",
   "metadata": {},
   "source": [
    "### 3.2 Predicted values and RMSE\n",
    "\n",
    "Let's figure out how accurate this predictive model turned out to be. Compute the RMSE on your test cases, i.e. take the model parameters that you found above, predict the values for just the test instances, and compare the actual to the predicted values. If you did this the k-fold way above, this will be the average RMSE across the k test sets. If you did this the quick and dirty way above, this will just be the RMSE on your single test set.\n",
    "\n",
    "What is your test RMSE?  How does it compare to the performance of your nearest neighbor algorithm from the last problem set?"
   ]
  },
  {
   "cell_type": "code",
   "execution_count": 26,
   "metadata": {},
   "outputs": [
    {
     "name": "stdout",
     "output_type": "stream",
     "text": [
      "Average RMSE for testing set:  5.414911982915681\n"
     ]
    }
   ],
   "source": [
    "# 25-fold cross validation on testing data\n",
    "kf = KFold(n_splits=25)\n",
    "test_rmse = np.array([])\n",
    "for train_index, test_index in kf.split(X_cr_rm):\n",
    "    X_train_cr_rm, X_test_cr_rm = X_cr_rm[train_index], X_cr_rm[test_index]\n",
    "    y_train_cr_rm, y_test_cr_rm = y[train_index], y[test_index]\n",
    "    \n",
    "    # plug in parameters of lowest RMSE from 3.1 to predict y test\n",
    "    pred_y_t = np.dot(X_test_cr_rm, np.array([-2.381, 6.334])) + 22.193\n",
    "    test_rmse = np.append(test_rmse, compute_rmse(pred_y_t, y_test_cr_rm))\n",
    "\n",
    "print('Average RMSE for testing set: ', np.mean(test_rmse))\n"
   ]
  },
  {
   "cell_type": "markdown",
   "metadata": {},
   "source": [
    "The average RMSE on test dataset is 5.41. The MB-GD algorithm performs better than NN algorithm in PS3, which was 7.37."
   ]
  },
  {
   "cell_type": "markdown",
   "metadata": {},
   "source": [
    "### Extra Credit 1: Logistic Regression\n",
    "\n",
    "For extra credit, implement logistic regression using gradient descent. Create a new variable (EXPENSIVE) to indicate whether the median housing price is more than $40,000. Use your model  a logistic regression of EXPENSIVE on CHAS and RM. Report your results."
   ]
  },
  {
   "cell_type": "code",
   "execution_count": 27,
   "metadata": {},
   "outputs": [],
   "source": [
    "# create new binary column using lambda functions (dataframes)\n",
    "bdata_df['EXPENSIVE'] = bdata_df.apply(lambda x: 1 if x['MEDV'] > 40 else 0, axis = 1)"
   ]
  },
  {
   "cell_type": "code",
   "execution_count": 28,
   "metadata": {},
   "outputs": [],
   "source": [
    "def multivariate_log_reg(xvalues, yvalues, R=0.01, MaxIterations=1000):\n",
    "    start_time = time.time()\n",
    "    # Initialize variablse\n",
    "    N, m = np.shape(xvalues)\n",
    "    alpha_old = np.random.rand()\n",
    "    beta_old = np.random.rand(m)\n",
    "    alpha = np.random.rand()\n",
    "    beta = np.random.rand(m)\n",
    "    \n",
    "    # tolerance and iteration counter\n",
    "    cost_list = np.empty(1)\n",
    "    epsilon = 1e-4\n",
    "    cnt = 0\n",
    "    while(np.abs(alpha_old-alpha) > epsilon or np.max(np.abs(beta_old-beta)) > epsilon):\n",
    "        alpha_old = alpha\n",
    "        beta_old = beta\n",
    "        vec_1 = 1.0 /(1 + np.exp(-(alpha_old + np.dot(xvalues, beta_old)))) - yvalues\n",
    "        alpha = alpha_old - R / N * (vec_1.sum())\n",
    "        beta = beta_old - R / N * (np.dot(np.transpose(xvalues), vec_1))\n",
    "        \n",
    "        # print the cost to check it is descreasing （NEED TO CHANGE BELOW!!!）\n",
    "#         cost = 1.0 / (2* N) * np.linalg.norm(yvalues - alpha - np.dot(xvalues, beta))**2\n",
    "#         cost_list= np.append(cost_list, cost)\n",
    "#         print(cost_list)\n",
    "        \n",
    "        # If it takes too many iterations terminate\n",
    "        cnt += 1\n",
    "        if cnt > MaxIterations:\n",
    "            print('Iterations exceeded maximum number. Stopping...')\n",
    "            break\n",
    "        \n",
    "    print(\"Time taken: {:.2f} seconds\".format(time.time() - start_time))    \n",
    "    return alpha, beta, cnt"
   ]
  },
  {
   "cell_type": "code",
   "execution_count": 29,
   "metadata": {},
   "outputs": [
    {
     "name": "stdout",
     "output_type": "stream",
     "text": [
      "Time taken: 1.20 seconds\n",
      "Learning Rate=0.1\n",
      " (-20.237799081999768, array([1.18285756, 2.48705379]), 50577)\n"
     ]
    }
   ],
   "source": [
    "print('Learning Rate=0.1\\n', multivariate_log_reg(np.array(bdata_df[['CHAS','RM']]),\n",
    "                                                   np.array(bdata_df['EXPENSIVE']),\n",
    "                                                   0.1, 100000))"
   ]
  },
  {
   "cell_type": "code",
   "execution_count": 30,
   "metadata": {},
   "outputs": [
    {
     "name": "stdout",
     "output_type": "stream",
     "text": [
      "Time taken: 0.90 seconds\n",
      "Learning Rate=0.2\n",
      " (-21.920810672507358, array([1.2167098 , 2.71362919]), 37119)\n"
     ]
    }
   ],
   "source": [
    "print('Learning Rate=0.2\\n', multivariate_log_reg(np.array(bdata_df[['CHAS','RM']]),\n",
    "                                                   np.array(bdata_df['EXPENSIVE']),\n",
    "                                                   0.2, 100000))"
   ]
  },
  {
   "cell_type": "markdown",
   "metadata": {},
   "source": [
    "The cofficients converge as shown above. If CHAS is 1, the probability is 90.25% for the median housing value to be EXPENSIVE."
   ]
  },
  {
   "cell_type": "markdown",
   "metadata": {},
   "source": [
    "## 4 Regularization \n",
    "\n",
    "### 4.1 Get prepped\n",
    "\n",
    "Step 1: Create new interaction variables between each possible pair of the F_s features. If you originally had *K* features, you should now have K+(K*(K+1))/2 features. Standardize all of your features.\n",
    "\n",
    "Step 2: For simplicity, generate a single training and testing set.  Randomly sample 66% of your data and call this the training set, and set aside the remaining 34% as your test set."
   ]
  },
  {
   "cell_type": "code",
   "execution_count": 41,
   "metadata": {},
   "outputs": [
    {
     "name": "stdout",
     "output_type": "stream",
     "text": [
      "(506, 105) 104.0\n"
     ]
    }
   ],
   "source": [
    "# reload datasets to dataframe\n",
    "data = np.loadtxt('data.txt')\n",
    "target = np.loadtxt('MEDV.txt')\n",
    "bdata_df_new = pd.DataFrame(data, columns = ['CRIM','ZN','INDUS', 'CHAS', 'NOX', 'RM', 'AGE', 'DIS', 'RAD', 'TAX', 'PTRATIO', 'B', 'LSTAT'])\n",
    "\n",
    "# add new interaction variables between each possible pair\n",
    "k = 13\n",
    "for i in range(0, k):\n",
    "    for j in range(i, k):\n",
    "        bdata_df_new[str(bdata_df_new.columns[i] + '*' + bdata_df_new.columns[j])] = bdata_df_new.iloc[:,i]*bdata_df_new.iloc[:,j]\n",
    "\n",
    "bdata_df_new['MEDV'] = target # add target at the last column\n",
    "\n",
    "# check column number is correct, there is one more column for target and others are features\n",
    "print(bdata_df_new.shape, k+(k*(k+1))/2)\n",
    "# check and store column names\n",
    "column_names = list(bdata_df_new.columns)\n",
    "# print(column_names)"
   ]
  },
  {
   "cell_type": "code",
   "execution_count": 42,
   "metadata": {},
   "outputs": [],
   "source": [
    "from sklearn.model_selection import train_test_split\n",
    "\n",
    "# split the new dataframe with interaction terms into training and testing set by 66% and 34%\n",
    "bdata_X_train, bdata_X_test, bdata_y_train, bdata_y_test = train_test_split(np.array(bdata_df_new.iloc[:,0:105]), \n",
    "                                                                            np.array(bdata_df_new.iloc[:,-1]),\n",
    "                                                                            test_size=0.34, \n",
    "                                                                            random_state=13579, \n",
    "                                                                            shuffle=True)"
   ]
  },
  {
   "cell_type": "markdown",
   "metadata": {},
   "source": [
    "### 4.2 Overfitting (sort of)\n",
    "Now, using your version of multivariate regression from 2.3, let's overfit the training data. Using your training set, regress housing price on as many of those K+(K*(K+1))/2 features as you can (Don't forget to add quadratic terms. Form instance, RM^2.).  If you get too greedy, it's possible this will take a long time to compute, so start with 5-10 features, and if you have the time, add more features.\n",
    "\n",
    "Report the RMSE when you apply your model to your training set and to your testing set. How do these numbers compare to each other, and to the RMSE from 3.2 and nearest neighbors?"
   ]
  },
  {
   "cell_type": "code",
   "execution_count": 43,
   "metadata": {},
   "outputs": [
    {
     "name": "stdout",
     "output_type": "stream",
     "text": [
      "Time taken: 1.06 seconds\n",
      "Training RMSE: 5.9629667055898095\n",
      "Testing RMSE: 4.67316824763923\n"
     ]
    }
   ],
   "source": [
    "# First trial: get indeces for respective column names (8 features, not too ambitious)\n",
    "features1 = ['CRIM','RM','CRIM*RM','RM*RM','DIS','NOX','NOX*NOX','DIS*NOX']\n",
    "index1 = []\n",
    "for i in range(len(column_names)):\n",
    "    if column_names[i] in features1:\n",
    "        index1.append(i)\n",
    "# print(index1)\n",
    "\n",
    "# standardize selected features on training set\n",
    "Xtrain6 = standardize(bdata_X_train[:, index1])\n",
    "ytrain6 = bdata_y_train\n",
    "\n",
    "# train on multivariate ols model\n",
    "inter6, coef6, iter6 = multivariate_ols(Xtrain6, ytrain6, 0.04, 100000)\n",
    "\n",
    "# compute rmse to check performance\n",
    "pred_y_6 = np.dot(Xtrain6, coef6) + inter6\n",
    "train6_rmse = compute_rmse(pred_y_6, ytrain6)\n",
    "print('Training RMSE:', train6_rmse)\n",
    "# print('\\nIntercept: ', inter6, '\\nCoefficients: ', coef6)\n",
    "\n",
    "# standardize selected features on testing set\n",
    "Xtest6 = standardize(bdata_X_test[:, index1])\n",
    "ytest6 = bdata_y_test\n",
    "\n",
    "# compute rmse to check performance on testing set with the above\n",
    "pred_y_6test = np.dot(Xtest6, coef6) + inter6\n",
    "test6_rmse = compute_rmse(pred_y_6test, ytest6)\n",
    "print('Testing RMSE:', test6_rmse)"
   ]
  },
  {
   "cell_type": "markdown",
   "metadata": {},
   "source": [
    "The RMSEs are both small for training set and testing set. Compared with other models (3.2 and NN), this model has smaller RMSE for training  testing. Testing RMSE is even smaller than Training, so it does a pretty good job."
   ]
  },
  {
   "cell_type": "code",
   "execution_count": 46,
   "metadata": {},
   "outputs": [
    {
     "name": "stdout",
     "output_type": "stream",
     "text": [
      "Time taken: 11.40 seconds\n",
      "Training RMSE: 2.8898698268043805\n",
      "Testing RMSE: 4.096842973294588\n"
     ]
    }
   ],
   "source": [
    "# Second trial: now let's randomly select more features (80 features, quite ambitious!)\n",
    "index2 = np.random.choice(len(column_names)-1, 80, replace=False)\n",
    "# print(index2)\n",
    "\n",
    "# standardize selected features on training set\n",
    "Xtrain7 = standardize(bdata_X_train[:, index2])\n",
    "ytrain7 = bdata_y_train\n",
    "\n",
    "# train on multivariate ols model\n",
    "inter7, coef7, iter7 = multivariate_ols(Xtrain7, ytrain7, 0.04, 10000000)\n",
    "\n",
    "# compute rmse to check performance\n",
    "pred_y_7 = np.dot(Xtrain7, coef7) + inter7\n",
    "train7_rmse = compute_rmse(pred_y_7, ytrain7)\n",
    "print('Training RMSE:', train7_rmse)\n",
    "# print('\\nIntercept: ', inter7, '\\nCoefficients: ', coef7)\n",
    "\n",
    "# standardize selected features on testing set\n",
    "Xtest7 = standardize(bdata_X_test[:, index2])\n",
    "ytest7 = bdata_y_test\n",
    "\n",
    "# compute rmse to check performance on testing set with the above\n",
    "pred_y_7test = np.dot(Xtest7, coef7) + inter7\n",
    "test7_rmse = compute_rmse(pred_y_7test, ytest7)\n",
    "print('Testing RMSE:', test7_rmse)"
   ]
  },
  {
   "cell_type": "markdown",
   "metadata": {},
   "source": [
    "As I ambitiously and randomly throw much more features in the model, the training RMSE is getting much smaller and the testing RMSE gets slightly smaller but not as much. This is sort of overfitting in my understanding."
   ]
  },
  {
   "cell_type": "markdown",
   "metadata": {},
   "source": [
    "### 4.3 Ridge regularization\n",
    "Incorporate L2 (Ridge) regularization into your multivariate_ols regression. Write a new version of your gradient descent algorithm that includes a regularization term \"lambda\" to penalize excessive complexity. \n",
    "\n",
    "Use your regularized regression to re-fit the model from 4.2 above on your training data. Try this for several different values of lambda, and report your RMSE for each lambda separately for your training and testing data. How do these numbers compare to each other, to the RMSE from 4.2,  to the RMSE from 2.3, and to the RMSE from nearest neighbors?\n",
    "\n",
    "Go brag to your friends about how you just implemented ridge-regularized multivariate regression using gradient descent optimization, from scratch. If you still have friends."
   ]
  },
  {
   "cell_type": "code",
   "execution_count": 47,
   "metadata": {},
   "outputs": [],
   "source": [
    "def multivariate_ols_ridge(xvalues, yvalues, R=0.01, MaxIterations=1000, lamb=100):\n",
    "#     start_time = time.time()\n",
    "    # Initialize variablse\n",
    "    N, m = np.shape(xvalues)\n",
    "    alpha_old = np.random.rand()\n",
    "    beta_old = np.random.rand(m)\n",
    "    alpha = np.random.rand()\n",
    "    beta = np.random.rand(m)\n",
    "    \n",
    "    # tolerance and iteration counter\n",
    "    cost_list = np.empty(1)\n",
    "    epsilon = 1e-4\n",
    "    cnt = 0\n",
    "    while(np.abs(alpha_old-alpha) > epsilon or np.max(np.abs(beta_old-beta)) > epsilon):\n",
    "        alpha_old = alpha\n",
    "        beta_old = beta\n",
    "        alpha = alpha_old - R / N * ((alpha_old +  np.dot(xvalues, beta_old) - yvalues).sum())\n",
    "        beta = beta_old - R / N * (np.dot(xvalues.T, (alpha_old +  np.dot(xvalues, beta_old) - yvalues)) \n",
    "                                   + lamb * beta_old) # ridge L2 penalization\n",
    "        \n",
    "        # print the cost to check it is descreasing\n",
    "        cost = 1.0 / (2* N) * np.linalg.norm(yvalues - alpha - np.dot(xvalues, beta))**2\n",
    "        cost_list= np.append(cost_list, cost)\n",
    "#         print(cost_list)\n",
    "        \n",
    "        # If it takes too many iterations terminate\n",
    "        cnt += 1\n",
    "        if cnt > MaxIterations:\n",
    "            print('Iterations exceeded maximum number. Stopping...')\n",
    "            break\n",
    "        \n",
    "#     print(\"Time taken: {:.2f} seconds\".format(time.time() - start_time))    \n",
    "    return alpha, beta, cnt"
   ]
  },
  {
   "cell_type": "code",
   "execution_count": 48,
   "metadata": {},
   "outputs": [
    {
     "name": "stdout",
     "output_type": "stream",
     "text": [
      "Training RMSE: 4.319830962839745 \n",
      "Iterations:  615\n",
      "Testing RMSE: 4.454881961285991\n"
     ]
    }
   ],
   "source": [
    "## Refit the second trial in 4.2, where I have 80 features\n",
    "# train on multivariate ols model with ridge regularization, lambda=50\n",
    "inter8, coef8, iter8 = multivariate_ols_ridge(Xtrain7, ytrain7, 0.04, 10000000, 50)\n",
    "\n",
    "# compute rmse to check performance\n",
    "pred_y_8 = np.dot(Xtrain7, coef8) + inter8\n",
    "train8_rmse = compute_rmse(pred_y_8, ytrain7)\n",
    "print('Training RMSE:', train8_rmse, '\\nIterations: ', iter8)\n",
    "\n",
    "# compute rmse to check performance on testing set with the above\n",
    "pred_y_8test = np.dot(Xtest7, coef8) + inter8\n",
    "test8_rmse = compute_rmse(pred_y_8test, ytest7)\n",
    "print('Testing RMSE:', test8_rmse)"
   ]
  },
  {
   "cell_type": "code",
   "execution_count": 49,
   "metadata": {},
   "outputs": [
    {
     "name": "stdout",
     "output_type": "stream",
     "text": [
      "Training RMSE: 4.5712318545026385 \n",
      "Iterations:  369\n",
      "Testing RMSE: 4.591003878320222\n"
     ]
    }
   ],
   "source": [
    "## same as above, but lambda = 100 (increase penalty)\n",
    "inter8, coef8, iter8 = multivariate_ols_ridge(Xtrain7, ytrain7, 0.04, 10000000, 100)\n",
    "\n",
    "# compute rmse to check performance\n",
    "pred_y_8 = np.dot(Xtrain7, coef8) + inter8\n",
    "train8_rmse = compute_rmse(pred_y_8, ytrain7)\n",
    "print('Training RMSE:', train8_rmse, '\\nIterations: ', iter8)\n",
    "\n",
    "# compute rmse to check performance on testing set with the above\n",
    "pred_y_8test = np.dot(Xtest7, coef8) + inter8\n",
    "test8_rmse = compute_rmse(pred_y_8test, ytest7)\n",
    "print('Testing RMSE:', test8_rmse)"
   ]
  },
  {
   "cell_type": "markdown",
   "metadata": {},
   "source": [
    "The RMSEs after regularization remain at a small level, way smaller than those of 2.3 and NN. Training RMSE is about the same as testing RMSE when lambda = 50 and lambda = 100. When lambda increases, iteratoins decrease. There is definitely space to tune the parameters.\n",
    "\n",
    "Compared to 4.2, RMSE for training is getting larger and RMSE for testing is getting smaller. It means regularization is useful. Run time is way shorter too."
   ]
  },
  {
   "cell_type": "markdown",
   "metadata": {},
   "source": [
    "### Extra Credit 2: Cross-validate lambda\n",
    "\n",
    "Use k-fold cross-validation to select the optimal value of lambda. Report the average RMSE across all training sets, and the average RMSE across all testing sets. How do these numbers compare to each other, to the RMSE from your previous efforts?  Finally, create a scatter plot that shows RMSE as a function of lambda."
   ]
  },
  {
   "cell_type": "code",
   "execution_count": 53,
   "metadata": {},
   "outputs": [],
   "source": [
    "# slice 80 features from whole dataset, standardize X array\n",
    "X_cv = standardize(np.array(bdata_df_new.iloc[:, index2]))\n",
    "y_cv = np.array(bdata_df_new.iloc[:, -1])\n",
    "\n",
    "# 25-fold cross validation for lambda\n",
    "kf = KFold(n_splits=25)\n",
    "\n",
    "train_rmse_lst = []\n",
    "test_rmse_lst = []\n",
    "for lamb in range(100, 1001, 100): # lambda from 100 to 1000, 100 at a step\n",
    "    \n",
    "    train_rmse_cv = []\n",
    "    test_rmse_cv = []\n",
    "    for train_index, test_index in kf.split(X_cv):\n",
    "        X_train, X_test = X_cv[train_index], X_cv[test_index]\n",
    "        y_train, y_test = y_cv[train_index], y_cv[test_index]\n",
    "        inter, coef, iteration = multivariate_ols_ridge(X_train, y_train, 0.04, 1000000, lamb)\n",
    "#         print(inter, coef, iteration)\n",
    "\n",
    "        pred_y_train = np.dot(X_train, coef) + inter\n",
    "        rmse_tr = compute_rmse(pred_y_train, y_train)\n",
    "        \n",
    "        pred_y_test = np.dot(X_test, coef) + inter\n",
    "        rmse_te = compute_rmse(pred_y_test, y_test)\n",
    "        \n",
    "        train_rmse_cv.append(rmse_tr)\n",
    "        test_rmse_cv.append(rmse_te)\n",
    "    \n",
    "    train_rmse_lst.append(np.mean(train_rmse_cv))\n",
    "    test_rmse_lst.append(np.mean(test_rmse_cv))\n",
    "\n",
    "# print(train_rmse_lst, test_rmse_lst)"
   ]
  },
  {
   "cell_type": "code",
   "execution_count": 54,
   "metadata": {},
   "outputs": [
    {
     "name": "stdout",
     "output_type": "stream",
     "text": [
      "Average training RMSE for each lambda:  [4.329845002609694, 4.552379527662397, 4.68409578725884, 4.785125420540549, 4.870857759405928, 4.947201108428253, 5.01703619649792, 5.081957315290999, 5.142934258326165, 5.200604637731724] \n",
      "Average testing RMSE for each lambda:  [4.656478128101492, 4.754913911757529, 4.817795333739116, 4.870934816486276, 4.919900281665656, 4.966200502705851, 5.01051901890798, 5.053154806262375, 5.0943147500978005, 5.13412647424658]\n"
     ]
    }
   ],
   "source": [
    "print('Average training RMSE for each lambda: ', train_rmse_lst, '\\nAverage testing RMSE for each lambda: ', test_rmse_lst)"
   ]
  },
  {
   "cell_type": "code",
   "execution_count": 57,
   "metadata": {},
   "outputs": [
    {
     "data": {
      "image/png": "[encoded data removed]",
      "text/plain": [
       "<Figure size 720x432 with 1 Axes>"
      ]
     },
     "metadata": {
      "needs_background": "light"
     },
     "output_type": "display_data"
    }
   ],
   "source": [
    "plt.figure(figsize=(10,6))\n",
    "plt.scatter(range(100,1001,100), train_rmse_lst, c='b', label='Train average RMSE')\n",
    "plt.scatter(range(100,1001,100), test_rmse_lst, c='r', label='Test average RMSE')\n",
    "plt.legend(loc='upper left')\n",
    "plt.xlabel('lamda from 50 to 500, step=100')\n",
    "plt.ylabel('Average RMSE for each lambda')\n",
    "plt.title('K-fold Cross-validation (k=25) for Lambda between 100 and 1000 (step at 100)')\n",
    "plt.show()"
   ]
  },
  {
   "cell_type": "markdown",
   "metadata": {},
   "source": [
    "When lambda is somewhere above 700, the average Test RMSE will be lower than the average Train RMSE, meaning the overfitting can be regulated more effectively. However, since we have 80 features in the model, the RMSE is lifted up when we increase the penalties. The RMSEs are higher than RMSEs in 4.3 (train rmse=2.88, test rmse=4.09)."
   ]
  },
  {
   "cell_type": "markdown",
   "metadata": {},
   "source": [
    "###  Extra Credit 3: AdaGrad\n",
    "\n",
    "AdaGrad is a method to implement gradient descent with different learning rates for each feature. Adaptive algorithms like this one are being extensively used especially in neural network training. Implement AdaGrad on 2.3 but now use CRIM, RM and DIS as independent variables. Standardize these variables before inputting them to the gradient descent algorithm. Tune the algorithm until you estimate the regression coefficients within a tolerance of 1e-1. Use mini-batch gradient descent in this implementation. In summary for each parameter (in our case one intercept and three slopes) the update step of the gradient (in this example $\\beta_j$) at iteration $k$ of the GD algorithm becomes:\n",
    "\n",
    "$$\\beta_j=\\beta_j -\\frac{R}{\\sqrt{G^{(k)}_j}}\\frac{\\partial J(\\alpha,\\beta_1,\\ldots)}{\\partial \\beta_j}$$ where\n",
    "$G^{(k)}_j=\\sum_{i=1}^{k} (\\frac{\\partial J^{(i)}(\\alpha,\\beta_1,\\ldots)}{\\partial \\beta_j})^2$ and $R$ is your learning rate. The notation $\\frac{\\partial J^{(i)}(\\alpha,\\beta_1,\\ldots)}{\\partial \\beta_j}$ corresponds to the value of the gradient at iteration $(i)$. Essentially we are \"storing\" information about previous iteration gradients. Doing that we effectively decrease the learning rate slower when a feature $x_i$ is sparse (i.e. has many zero values which would lead to zero gradients). Although this method is not necessary for our regression problem, it is good to be familiar with these methods as they are widely used in neural network training.  "
   ]
  },
  {
   "cell_type": "code",
   "execution_count": null,
   "metadata": {},
   "outputs": [],
   "source": []
  },
  {
   "cell_type": "markdown",
   "metadata": {},
   "source": [
    "*Discuss your results here*"
   ]
  }
 ],
 "metadata": {
  "anaconda-cloud": {},
  "kernelspec": {
   "display_name": "APIs_geospatial",
   "language": "python",
   "name": "apis_geospatial"
  },
  "language_info": {
   "codemirror_mode": {
    "name": "ipython",
    "version": 3
   },
   "file_extension": ".py",
   "mimetype": "text/x-python",
   "name": "python",
   "nbconvert_exporter": "python",
   "pygments_lexer": "ipython3",
   "version": "3.7.6"
  }
 },
 "nbformat": 4,
 "nbformat_minor": 1
}
