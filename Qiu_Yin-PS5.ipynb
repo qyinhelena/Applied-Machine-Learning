{
 "cells": [
  {
   "cell_type": "markdown",
   "metadata": {},
   "source": [
    "# Problem Set 5\n",
    "\n",
    "As usual, you are highly encouraged to *start this problem set early!*  My best guess (no guarantees!) is that Part 1 will be conceptually easy but perhaps time consuming.  Parts 2 and 3 are medium difficult, but there are plenty of opportunities to get confused with python data structures, so if you're going to get stuck, get stuck (and unstuck) early!\n",
    "\n",
    "Note that the two extra credit problems have the potential to be quite challenging and time consuming. Make sure to do everything else in the problem set before you tackle the extra credit.\n",
    "\n",
    "To get started, download the files \"reviews.csv\" and \"movies.dat\" from Canvas.\n",
    "\n",
    "For this assignment, the following libraries may be useful:\n",
    "\n",
    "* [numpy](http://docs.scipy.org/doc/numpy-dev/user/index.html), for arrays\n",
    "* [scikit-learn](http://scikit-learn.org/stable/), for machine learning\n",
    "* [pandas](http://pandas.pydata.org/), for data frames\n",
    "* [matplotlib](http://matplotlib.org/), for plotting\n",
    "\n",
    "In particular, I suggest you familiarize yourself with the following aspects of these libraries, which are not required but which might make your life easier:\n",
    "\n",
    "* `DataFrame` and other basic [data structures](http://pandas.pydata.org/pandas-docs/stable/dsintro.html) in pandas\n",
    "* [`groupby`](http://pandas.pydata.org/pandas-docs/stable/groupby.html), `unique`,  and other simple aggregation functions\n",
    "* [`CountVectorizer`](http://scikit-learn.org/stable/modules/generated/sklearn.feature_extraction.text.CountVectorizer.html) for working with text in sklearn.\n",
    "* [`MultinomialNB`](http://scikit-learn.org/stable/modules/generated/sklearn.naive_bayes.MultinomialNB.html) for Naive Bayes\n",
    "* Simple tools for [Cross-Validation](http://scikit-learn.org/stable/modules/cross_validation.html) in sklearn\n",
    "\n",
    "Make sure they load properly with the following code block:"
   ]
  },
  {
   "cell_type": "code",
   "execution_count": 1,
   "metadata": {},
   "outputs": [],
   "source": [
    "%matplotlib inline\n",
    "import pandas as pd\n",
    "import numpy as np\n",
    "import matplotlib.pyplot as plt\n",
    "\n",
    "#hint: Consult the scikit-learn documentation to\n",
    "#      learn about what these classes do do\n",
    "from sklearn.model_selection import cross_val_score\n",
    "from sklearn.model_selection import train_test_split\n",
    "from sklearn.naive_bayes import MultinomialNB\n",
    "from sklearn.feature_extraction.text import CountVectorizer\n",
    "import statsmodels.formula.api as smf\n",
    "from sklearn.metrics import mean_squared_error\n",
    "from sklearn.preprocessing import StandardScaler\n",
    "from sklearn.decomposition import PCA"
   ]
  },
  {
   "cell_type": "markdown",
   "metadata": {},
   "source": [
    "## Introduction to the assignment\n",
    "\n",
    "In this assignment, you'll be analyzing movie reviews in an attempt to determine whether movies are good or bad.  I've downloaded a large number of movie reviews from the [Rotten Tomatoes](http://www.rottentomatoes.com) website, which are available in the file \"reviews.csv\" on Canvas.  I've also put a file \"movies.dat\" on Canvas that contains metadata for ~65,000 different movies\n",
    "\n",
    "If you've never seen Rotten Tomatoes before, go spend a few minutes familiarizing yourself with the website.  It's a meta-review website that aggregates movie reviews from a large number of critics.  Here's what the page for this year's [Oscar winner](https://www.rottentomatoes.com/m/the_shape_of_water_2017) looks like.  Note in particular the section on \"Critic Reviews\" at the bottom -- that's the content that has been scraped and put in the reviews.csv file.  Also note that each movie is given a quantitative score on the Tomatometer which is used to classify the movie as either Fresh (good) or Rotten (bad).\n",
    "\n",
    "Your mission is to develop a classifier to determine whether a movie is Fresh or Rotten based on the contents of the reviews given to the movie.  As usual, we'll start out with some exploratory data analysis."
   ]
  },
  {
   "cell_type": "markdown",
   "metadata": {},
   "source": [
    "---\n",
    "\n",
    "## Part 1: Descriptive analysis\n",
    "\n",
    "Before beginning the \"real\" work, dig into the data a bit do see what you're dealing with.  Begin by loading the datasets and dropping rows that have missing data:"
   ]
  },
  {
   "cell_type": "code",
   "execution_count": 2,
   "metadata": {},
   "outputs": [],
   "source": [
    "reviews = pd.read_csv('reviews.csv')\n",
    "movies = pd.read_csv(\"movies.dat\", delimiter='\\t')\n",
    "\n",
    "reviews = reviews[~reviews.quote.isnull()]\n",
    "reviews = reviews[reviews.fresh != 'none']\n",
    "reviews = reviews[reviews.quote.str.len() > 0]"
   ]
  },
  {
   "cell_type": "code",
   "execution_count": 3,
   "metadata": {},
   "outputs": [
    {
     "name": "stdout",
     "output_type": "stream",
     "text": [
      "Reviews dataset columns:\n",
      " ['critic', 'fresh', 'imdb', 'link', 'publication', 'quote', 'review_date', 'rtid', 'title'] \n",
      "Movies dataset columns:\n",
      " ['id', 'title', 'imdbID', 'spanishTitle', 'imdbPictureURL', 'year', 'rtID', 'rtAllCriticsRating', 'rtAllCriticsNumReviews', 'rtAllCriticsNumFresh', 'rtAllCriticsNumRotten', 'rtAllCriticsScore', 'rtTopCriticsRating', 'rtTopCriticsNumReviews', 'rtTopCriticsNumFresh', 'rtTopCriticsNumRotten', 'rtTopCriticsScore', 'rtAudienceRating', 'rtAudienceNumRatings', 'rtAudienceScore', 'rtPictureURL']\n"
     ]
    }
   ],
   "source": [
    "rev_col = list(reviews.columns)\n",
    "mov_col = list(movies.columns)\n",
    "\n",
    "print(\"Reviews dataset columns:\\n\", rev_col, \"\\nMovies dataset columns:\\n\",mov_col)"
   ]
  },
  {
   "cell_type": "markdown",
   "metadata": {},
   "source": [
    "### 1.1: Basic features of the dataset\n",
    "\n",
    "Answer the following questions by having your python code directly print the answers:\n",
    "\n",
    "* How many unique reviews (quotes) are in the `reviews` dataset?\n",
    "* How many unique reviewers (critics) are in the `reviews` dataset?\n",
    "* How many unique movies are in the `reviews` dataset?\n",
    "* How many unique movies are in the *`movies`* dataset?\n",
    "* How many different publications have reviews in the `reviews` dataset?\n"
   ]
  },
  {
   "cell_type": "code",
   "execution_count": 4,
   "metadata": {},
   "outputs": [
    {
     "name": "stdout",
     "output_type": "stream",
     "text": [
      "Number of unique quotes in reviews:  12814\n",
      "Number of unique reviewers in reviews:  541\n",
      "Number of unique movies in reviews:  1720\n",
      "Number of unique movies in movies:  9423\n",
      "Number of different publications in reviews:  64\n"
     ]
    }
   ],
   "source": [
    "print(\"Number of unique quotes in reviews: \", reviews['quote'].unique().size)\n",
    "print(\"Number of unique reviewers in reviews: \", reviews['critic'].unique().size)\n",
    "print(\"Number of unique movies in reviews: \", reviews['imdb'].unique().size)\n",
    "print(\"Number of unique movies in movies: \", movies['imdbID'].unique().size)\n",
    "print(\"Number of different publications in reviews: \", reviews['publication'].value_counts().size)"
   ]
  },
  {
   "cell_type": "markdown",
   "metadata": {},
   "source": [
    "### 1.2 Number of reviews per reviewer\n",
    "\n",
    "Using the `reviews` dataset, create a histogram showing the distribution of the number of reviews per reviewer.  Create the bin width (x-axis) to be 1 unit wide, and the range of the axis to be from 0 to 30.  Scale the y-axis to show the logarithm of (count of) the number of reviewers.  Label your axes and make your histogram look professional."
   ]
  },
  {
   "cell_type": "code",
   "execution_count": 5,
   "metadata": {},
   "outputs": [
    {
     "data": {
      "image/png": "[encoded data removed]",
      "text/plain": [
       "<Figure size 720x432 with 1 Axes>"
      ]
     },
     "metadata": {
      "needs_background": "light"
     },
     "output_type": "display_data"
    }
   ],
   "source": [
    "plt.figure(figsize=(10,6))\n",
    "plt.hist(reviews['critic'].value_counts(), bins=range(0,31,1), log=True, color='purple')\n",
    "plt.xlabel('Number of reviews')\n",
    "plt.ylabel('Log(count) of number of reviewers')\n",
    "plt.title('Distribution of number of reviews per reviewer')\n",
    "plt.show()"
   ]
  },
  {
   "cell_type": "markdown",
   "metadata": {},
   "source": [
    "### 1.3 Zoom in on a few reviewers\n",
    "Find the 30 critics with the most reviews, and list their names in a table along with (a) the name of the publication they work for, (b) the date of their first review, and (c) the date of their last review\n",
    "\n",
    "*hint: use the groupby function to do this quickly*"
   ]
  },
  {
   "cell_type": "code",
   "execution_count": 6,
   "metadata": {},
   "outputs": [
    {
     "data": {
      "text/html": [
       "<div>\n",
       "<style scoped>\n",
       "    .dataframe tbody tr th:only-of-type {\n",
       "        vertical-align: middle;\n",
       "    }\n",
       "\n",
       "    .dataframe tbody tr th {\n",
       "        vertical-align: top;\n",
       "    }\n",
       "\n",
       "    .dataframe thead tr th {\n",
       "        text-align: left;\n",
       "    }\n",
       "\n",
       "    .dataframe thead tr:last-of-type th {\n",
       "        text-align: right;\n",
       "    }\n",
       "</style>\n",
       "<table border=\"1\" class=\"dataframe\">\n",
       "  <thead>\n",
       "    <tr>\n",
       "      <th></th>\n",
       "      <th></th>\n",
       "      <th colspan=\"2\" halign=\"left\">review_date</th>\n",
       "    </tr>\n",
       "    <tr>\n",
       "      <th></th>\n",
       "      <th></th>\n",
       "      <th>min</th>\n",
       "      <th>max</th>\n",
       "    </tr>\n",
       "    <tr>\n",
       "      <th>critic</th>\n",
       "      <th>publication</th>\n",
       "      <th></th>\n",
       "      <th></th>\n",
       "    </tr>\n",
       "  </thead>\n",
       "  <tbody>\n",
       "    <tr>\n",
       "      <th>Bosley Crowther</th>\n",
       "      <th>New York Times</th>\n",
       "      <td>2000-01-01 00:00:00</td>\n",
       "      <td>2008-05-06 00:00:00</td>\n",
       "    </tr>\n",
       "    <tr>\n",
       "      <th rowspan=\"3\" valign=\"top\">Dave Kehr</th>\n",
       "      <th>Chicago Reader</th>\n",
       "      <td>2000-01-01 00:00:00</td>\n",
       "      <td>2013-11-06 00:00:00</td>\n",
       "    </tr>\n",
       "    <tr>\n",
       "      <th>Chicago Tribune</th>\n",
       "      <td>2013-02-20 00:00:00</td>\n",
       "      <td>2013-11-20 00:00:00</td>\n",
       "    </tr>\n",
       "    <tr>\n",
       "      <th>New York Daily News</th>\n",
       "      <td>2013-08-02 00:00:00</td>\n",
       "      <td>2013-10-22 00:00:00</td>\n",
       "    </tr>\n",
       "    <tr>\n",
       "      <th>Derek Adams</th>\n",
       "      <th>Time Out</th>\n",
       "      <td>2006-01-26 00:00:00</td>\n",
       "      <td>2009-10-04 00:00:00</td>\n",
       "    </tr>\n",
       "    <tr>\n",
       "      <th>Desson Thomson</th>\n",
       "      <th>Washington Post</th>\n",
       "      <td>2000-01-01 00:00:00</td>\n",
       "      <td>2012-10-08 00:00:00</td>\n",
       "    </tr>\n",
       "    <tr>\n",
       "      <th>Edward Guthmann</th>\n",
       "      <th>San Francisco Chronicle</th>\n",
       "      <td>2000-01-01 00:00:00</td>\n",
       "      <td>2003-04-04 00:00:00</td>\n",
       "    </tr>\n",
       "    <tr>\n",
       "      <th>Emanuel Levy</th>\n",
       "      <th>Variety</th>\n",
       "      <td>2000-01-01 00:00:00</td>\n",
       "      <td>2010-08-06 00:00:00</td>\n",
       "    </tr>\n",
       "    <tr>\n",
       "      <th>Geoff Andrew</th>\n",
       "      <th>Time Out</th>\n",
       "      <td>2005-08-11 00:00:00</td>\n",
       "      <td>2012-04-05 00:00:00</td>\n",
       "    </tr>\n",
       "    <tr>\n",
       "      <th>Hal Hinson</th>\n",
       "      <th>Washington Post</th>\n",
       "      <td>2000-01-01 00:00:00</td>\n",
       "      <td>2013-06-26 00:00:00</td>\n",
       "    </tr>\n",
       "    <tr>\n",
       "      <th>James Berardinelli</th>\n",
       "      <th>ReelViews</th>\n",
       "      <td>1800-01-01 00:00:00</td>\n",
       "      <td>2012-02-07 00:00:00</td>\n",
       "    </tr>\n",
       "    <tr>\n",
       "      <th>Janet Maslin</th>\n",
       "      <th>New York Times</th>\n",
       "      <td>2000-01-01 00:00:00</td>\n",
       "      <td>2010-09-07 00:00:00</td>\n",
       "    </tr>\n",
       "    <tr>\n",
       "      <th rowspan=\"3\" valign=\"top\">Joe Baltake</th>\n",
       "      <th>Passionate Moviegoer</th>\n",
       "      <td>2007-02-13 00:00:00</td>\n",
       "      <td>2007-08-25 00:00:00</td>\n",
       "    </tr>\n",
       "    <tr>\n",
       "      <th>Philadelphia Daily News</th>\n",
       "      <td>2013-06-26 00:00:00</td>\n",
       "      <td>2013-08-04 00:00:00</td>\n",
       "    </tr>\n",
       "    <tr>\n",
       "      <th>Sacramento Bee</th>\n",
       "      <td>2000-01-01 00:00:00</td>\n",
       "      <td>2004-12-22 00:00:00</td>\n",
       "    </tr>\n",
       "    <tr>\n",
       "      <th>Jonathan Rosenbaum</th>\n",
       "      <th>Chicago Reader</th>\n",
       "      <td>1988-07-11 00:00:00</td>\n",
       "      <td>2013-10-22 00:00:00</td>\n",
       "    </tr>\n",
       "    <tr>\n",
       "      <th>Kenneth Turan</th>\n",
       "      <th>Los Angeles Times</th>\n",
       "      <td>2000-01-01 00:00:00</td>\n",
       "      <td>2013-10-05 00:00:00</td>\n",
       "    </tr>\n",
       "    <tr>\n",
       "      <th>Kevin Thomas</th>\n",
       "      <th>Los Angeles Times</th>\n",
       "      <td>2000-01-01 00:00:00</td>\n",
       "      <td>2013-11-02 00:00:00</td>\n",
       "    </tr>\n",
       "    <tr>\n",
       "      <th>Liam Lacey</th>\n",
       "      <th>Globe and Mail</th>\n",
       "      <td>2001-08-24 00:00:00</td>\n",
       "      <td>2012-04-04 00:00:00</td>\n",
       "    </tr>\n",
       "    <tr>\n",
       "      <th>Lisa Schwarzbaum</th>\n",
       "      <th>Entertainment Weekly</th>\n",
       "      <td>1979-01-01 00:00:00</td>\n",
       "      <td>2012-08-15 00:00:00</td>\n",
       "    </tr>\n",
       "    <tr>\n",
       "      <th rowspan=\"2\" valign=\"top\">Michael Wilmington</th>\n",
       "      <th>Chicago Tribune</th>\n",
       "      <td>2000-01-01 00:00:00</td>\n",
       "      <td>2013-11-18 00:00:00</td>\n",
       "    </tr>\n",
       "    <tr>\n",
       "      <th>Los Angeles Times</th>\n",
       "      <td>2012-06-03 00:00:00</td>\n",
       "      <td>2013-11-21 00:00:00</td>\n",
       "    </tr>\n",
       "    <tr>\n",
       "      <th>Mick LaSalle</th>\n",
       "      <th>San Francisco Chronicle</th>\n",
       "      <td>2000-01-01 00:00:00</td>\n",
       "      <td>2009-11-25 00:00:00</td>\n",
       "    </tr>\n",
       "    <tr>\n",
       "      <th>Owen Gleiberman</th>\n",
       "      <th>Entertainment Weekly</th>\n",
       "      <td>1800-01-01 00:00:00</td>\n",
       "      <td>2011-09-07 00:00:00</td>\n",
       "    </tr>\n",
       "    <tr>\n",
       "      <th>Peter Stack</th>\n",
       "      <th>San Francisco Chronicle</th>\n",
       "      <td>2000-01-01 00:00:00</td>\n",
       "      <td>2002-06-18 00:00:00</td>\n",
       "    </tr>\n",
       "    <tr>\n",
       "      <th>Richard Corliss</th>\n",
       "      <th>TIME Magazine</th>\n",
       "      <td>2003-12-16 00:00:00</td>\n",
       "      <td>2013-11-06 00:00:00</td>\n",
       "    </tr>\n",
       "    <tr>\n",
       "      <th rowspan=\"2\" valign=\"top\">Richard Schickel</th>\n",
       "      <th>TIME Magazine</th>\n",
       "      <td>2007-06-27 00:00:00</td>\n",
       "      <td>2013-08-05 00:00:00</td>\n",
       "    </tr>\n",
       "    <tr>\n",
       "      <th>The Atlantic</th>\n",
       "      <td>2000-01-01 00:00:00</td>\n",
       "      <td>2000-01-01 00:00:00</td>\n",
       "    </tr>\n",
       "    <tr>\n",
       "      <th>Rick Groen</th>\n",
       "      <th>Globe and Mail</th>\n",
       "      <td>2002-03-19 00:00:00</td>\n",
       "      <td>2009-08-14 00:00:00</td>\n",
       "    </tr>\n",
       "    <tr>\n",
       "      <th>Rita Kempley</th>\n",
       "      <th>Washington Post</th>\n",
       "      <td>2000-01-01 00:00:00</td>\n",
       "      <td>2013-11-02 00:00:00</td>\n",
       "    </tr>\n",
       "    <tr>\n",
       "      <th rowspan=\"2\" valign=\"top\">Roger Ebert</th>\n",
       "      <th>At the Movies</th>\n",
       "      <td>2000-01-01 00:00:00</td>\n",
       "      <td>2000-01-01 00:00:00</td>\n",
       "    </tr>\n",
       "    <tr>\n",
       "      <th>Chicago Sun-Times</th>\n",
       "      <td>2000-01-01 00:00:00</td>\n",
       "      <td>2013-06-11 00:00:00</td>\n",
       "    </tr>\n",
       "    <tr>\n",
       "      <th>Stephen Holden</th>\n",
       "      <th>New York Times</th>\n",
       "      <td>2000-01-01 00:00:00</td>\n",
       "      <td>2009-02-06 00:00:00</td>\n",
       "    </tr>\n",
       "    <tr>\n",
       "      <th>Susan Stark</th>\n",
       "      <th>Detroit News</th>\n",
       "      <td>2000-01-01 00:00:00</td>\n",
       "      <td>2002-10-25 00:00:00</td>\n",
       "    </tr>\n",
       "    <tr>\n",
       "      <th>Todd McCarthy</th>\n",
       "      <th>Variety</th>\n",
       "      <td>2000-01-01 00:00:00</td>\n",
       "      <td>2012-10-09 00:00:00</td>\n",
       "    </tr>\n",
       "    <tr>\n",
       "      <th>Variety Staff</th>\n",
       "      <th>Variety</th>\n",
       "      <td>2001-02-13 00:00:00</td>\n",
       "      <td>2012-08-15 00:00:00</td>\n",
       "    </tr>\n",
       "    <tr>\n",
       "      <th>Vincent Canby</th>\n",
       "      <th>New York Times</th>\n",
       "      <td>2000-01-01 00:00:00</td>\n",
       "      <td>2013-07-29 00:00:00</td>\n",
       "    </tr>\n",
       "  </tbody>\n",
       "</table>\n",
       "</div>"
      ],
      "text/plain": [
       "                                                    review_date  \\\n",
       "                                                            min   \n",
       "critic             publication                                    \n",
       "Bosley Crowther    New York Times           2000-01-01 00:00:00   \n",
       "Dave Kehr          Chicago Reader           2000-01-01 00:00:00   \n",
       "                   Chicago Tribune          2013-02-20 00:00:00   \n",
       "                   New York Daily News      2013-08-02 00:00:00   \n",
       "Derek Adams        Time Out                 2006-01-26 00:00:00   \n",
       "Desson Thomson     Washington Post          2000-01-01 00:00:00   \n",
       "Edward Guthmann    San Francisco Chronicle  2000-01-01 00:00:00   \n",
       "Emanuel Levy       Variety                  2000-01-01 00:00:00   \n",
       "Geoff Andrew       Time Out                 2005-08-11 00:00:00   \n",
       "Hal Hinson         Washington Post          2000-01-01 00:00:00   \n",
       "James Berardinelli ReelViews                1800-01-01 00:00:00   \n",
       "Janet Maslin       New York Times           2000-01-01 00:00:00   \n",
       "Joe Baltake        Passionate Moviegoer     2007-02-13 00:00:00   \n",
       "                   Philadelphia Daily News  2013-06-26 00:00:00   \n",
       "                   Sacramento Bee           2000-01-01 00:00:00   \n",
       "Jonathan Rosenbaum Chicago Reader           1988-07-11 00:00:00   \n",
       "Kenneth Turan      Los Angeles Times        2000-01-01 00:00:00   \n",
       "Kevin Thomas       Los Angeles Times        2000-01-01 00:00:00   \n",
       "Liam Lacey         Globe and Mail           2001-08-24 00:00:00   \n",
       "Lisa Schwarzbaum   Entertainment Weekly     1979-01-01 00:00:00   \n",
       "Michael Wilmington Chicago Tribune          2000-01-01 00:00:00   \n",
       "                   Los Angeles Times        2012-06-03 00:00:00   \n",
       "Mick LaSalle       San Francisco Chronicle  2000-01-01 00:00:00   \n",
       "Owen Gleiberman    Entertainment Weekly     1800-01-01 00:00:00   \n",
       "Peter Stack        San Francisco Chronicle  2000-01-01 00:00:00   \n",
       "Richard Corliss    TIME Magazine            2003-12-16 00:00:00   \n",
       "Richard Schickel   TIME Magazine            2007-06-27 00:00:00   \n",
       "                   The Atlantic             2000-01-01 00:00:00   \n",
       "Rick Groen         Globe and Mail           2002-03-19 00:00:00   \n",
       "Rita Kempley       Washington Post          2000-01-01 00:00:00   \n",
       "Roger Ebert        At the Movies            2000-01-01 00:00:00   \n",
       "                   Chicago Sun-Times        2000-01-01 00:00:00   \n",
       "Stephen Holden     New York Times           2000-01-01 00:00:00   \n",
       "Susan Stark        Detroit News             2000-01-01 00:00:00   \n",
       "Todd McCarthy      Variety                  2000-01-01 00:00:00   \n",
       "Variety Staff      Variety                  2001-02-13 00:00:00   \n",
       "Vincent Canby      New York Times           2000-01-01 00:00:00   \n",
       "\n",
       "                                                                 \n",
       "                                                            max  \n",
       "critic             publication                                   \n",
       "Bosley Crowther    New York Times           2008-05-06 00:00:00  \n",
       "Dave Kehr          Chicago Reader           2013-11-06 00:00:00  \n",
       "                   Chicago Tribune          2013-11-20 00:00:00  \n",
       "                   New York Daily News      2013-10-22 00:00:00  \n",
       "Derek Adams        Time Out                 2009-10-04 00:00:00  \n",
       "Desson Thomson     Washington Post          2012-10-08 00:00:00  \n",
       "Edward Guthmann    San Francisco Chronicle  2003-04-04 00:00:00  \n",
       "Emanuel Levy       Variety                  2010-08-06 00:00:00  \n",
       "Geoff Andrew       Time Out                 2012-04-05 00:00:00  \n",
       "Hal Hinson         Washington Post          2013-06-26 00:00:00  \n",
       "James Berardinelli ReelViews                2012-02-07 00:00:00  \n",
       "Janet Maslin       New York Times           2010-09-07 00:00:00  \n",
       "Joe Baltake        Passionate Moviegoer     2007-08-25 00:00:00  \n",
       "                   Philadelphia Daily News  2013-08-04 00:00:00  \n",
       "                   Sacramento Bee           2004-12-22 00:00:00  \n",
       "Jonathan Rosenbaum Chicago Reader           2013-10-22 00:00:00  \n",
       "Kenneth Turan      Los Angeles Times        2013-10-05 00:00:00  \n",
       "Kevin Thomas       Los Angeles Times        2013-11-02 00:00:00  \n",
       "Liam Lacey         Globe and Mail           2012-04-04 00:00:00  \n",
       "Lisa Schwarzbaum   Entertainment Weekly     2012-08-15 00:00:00  \n",
       "Michael Wilmington Chicago Tribune          2013-11-18 00:00:00  \n",
       "                   Los Angeles Times        2013-11-21 00:00:00  \n",
       "Mick LaSalle       San Francisco Chronicle  2009-11-25 00:00:00  \n",
       "Owen Gleiberman    Entertainment Weekly     2011-09-07 00:00:00  \n",
       "Peter Stack        San Francisco Chronicle  2002-06-18 00:00:00  \n",
       "Richard Corliss    TIME Magazine            2013-11-06 00:00:00  \n",
       "Richard Schickel   TIME Magazine            2013-08-05 00:00:00  \n",
       "                   The Atlantic             2000-01-01 00:00:00  \n",
       "Rick Groen         Globe and Mail           2009-08-14 00:00:00  \n",
       "Rita Kempley       Washington Post          2013-11-02 00:00:00  \n",
       "Roger Ebert        At the Movies            2000-01-01 00:00:00  \n",
       "                   Chicago Sun-Times        2013-06-11 00:00:00  \n",
       "Stephen Holden     New York Times           2009-02-06 00:00:00  \n",
       "Susan Stark        Detroit News             2002-10-25 00:00:00  \n",
       "Todd McCarthy      Variety                  2012-10-09 00:00:00  \n",
       "Variety Staff      Variety                  2012-08-15 00:00:00  \n",
       "Vincent Canby      New York Times           2013-07-29 00:00:00  "
      ]
     },
     "execution_count": 6,
     "metadata": {},
     "output_type": "execute_result"
    }
   ],
   "source": [
    "top_30_critics = reviews['critic'].value_counts()[0:30].index.to_list()\n",
    "top_30_reviews = reviews[reviews['critic'].isin(top_30_critics)]\n",
    "top_30_reviews.groupby(['critic', 'publication']).agg({'review_date': [min, max]})"
   ]
  },
  {
   "cell_type": "markdown",
   "metadata": {},
   "source": [
    "### 1.4 Ratings over time\n",
    "\n",
    "Using the `movies` dataset, create a plot that shows how the average rating per movie (rtAllCriticsRating) has evolved over time.  Do this by creating a scatterplot where the x-axis is the year in which the movie was released and the y-axis is rtAllCriticsRating.  Drop movies with 0 or unknown values to avoid biasing your results.  Then, create a scatterplot that has one <year,rating> point for each remaining movie, and pick an appropriate size/color/transparency for these points to ensure that the graph looks professional.  In other words, do not simply use the default settings, as this will produce a dense mess of dots that will be hard to interpret.  Finally, overlay on this scatterplot a line graph in orange showing how the average movie rating (the average of rtAllCriticsRating across all movies in a year) has changed over time.  Do you notice a trend?  What do you think it means?"
   ]
  },
  {
   "cell_type": "code",
   "execution_count": 7,
   "metadata": {},
   "outputs": [
    {
     "data": {
      "image/png": "[encoded data removed]",
      "text/plain": [
       "<Figure size 720x432 with 1 Axes>"
      ]
     },
     "metadata": {
      "needs_background": "light"
     },
     "output_type": "display_data"
    }
   ],
   "source": [
    "# Clean data\n",
    "movies.dropna(subset=['rtAllCriticsRating']) # drop null\n",
    "movies = movies[~movies['rtAllCriticsRating'].isin(['\\\\N','0'])] # keep non zero ratings\n",
    "yr = movies['year']\n",
    "rt = movies['rtAllCriticsRating'].astype(float) # convert from string to float\n",
    "\n",
    "# Scatter plot of movie ratings over years\n",
    "plt.figure(figsize=(10,6))\n",
    "plt.scatter(x=yr, y=rt, marker='+', c='darkblue', alpha=0.3, label='All movie ratings over years')\n",
    "\n",
    "# Line graph of average rating of movies as per year\n",
    "avg_rt = pd.concat([yr, rt], axis=1).groupby(['year']).mean()\n",
    "plt.plot(avg_rt, c='orange', label='Average movie rating each year')\n",
    "\n",
    "# Add title, axis labels and legend\n",
    "plt.title('Average rating per movie changes over time')\n",
    "plt.xlabel('Year')\n",
    "plt.ylabel('Movie ratings')\n",
    "plt.legend(loc='lower left')\n",
    "\n",
    "plt.show()"
   ]
  },
  {
   "cell_type": "markdown",
   "metadata": {},
   "source": [
    "I find the average rating each year has decreased from 1900 to 2000, indicated by the orange line. However, as we see the blue scatter plot, we find more datapoints in later years than in previous years, and variation of ratings each year has widen over time. It could mean that more movies are produced nowadays than earlier years; and the quality of movies as well as reviewers' tastes have varied to a greater extent than before."
   ]
  },
  {
   "cell_type": "markdown",
   "metadata": {},
   "source": [
    "---\n",
    "\n",
    "## Part 2: Naive Bayes\n",
    "\n",
    "Now it gets fun!  You are going to use a [Naive Bayes classifier](https://en.wikipedia.org/wiki/Naive_Bayes_classifier) to build a prediction model for whether a review is fresh or rotten, depending on the text of the review. Review the assigned readings on Canvas, as well as the relevant lecture notes before embarking on this journey.\n",
    "\n",
    "### Using CountVectorizer\n",
    "\n",
    "One thing that may help you in the following problems is the [CountVectorizer](http://scikit-learn.org/stable/modules/generated/sklearn.feature_extraction.text.CountVectorizer.html) object in Scikit-learn.  This will help you convert your raw text fields into \"bag of words\" vectors, i.e. a data structure that tells you how many times a particular word appears in a blurb.  Here's a simple example, make sure you understand what's going on!"
   ]
  },
  {
   "cell_type": "code",
   "execution_count": 8,
   "metadata": {},
   "outputs": [
    {
     "name": "stdout",
     "output_type": "stream",
     "text": [
      "Original text is\n",
      " machine learning rocks\n",
      "machine learning rules\n",
      "rocks rocks rules\n",
      "\n",
      "Transformed text vector is \n",
      " [[1 1 1 0]\n",
      " [1 1 0 1]\n",
      " [0 0 2 1]]\n",
      "\n",
      "Words for each feature:\n",
      "['learning', 'machine', 'rocks', 'rules']\n"
     ]
    }
   ],
   "source": [
    "from sklearn.feature_extraction.text import CountVectorizer\n",
    "\n",
    "text = ['machine learning rocks', 'machine learning rules', 'rocks rocks rules']\n",
    "print(\"Original text is\\n\", '\\n'.join(text))\n",
    "print()\n",
    "vectorizer = CountVectorizer(min_df=0)\n",
    "\n",
    "# call `fit` to build the vocabulary\n",
    "vectorizer.fit(text)\n",
    "\n",
    "# call `transform` to convert text to a bag of words\n",
    "x = vectorizer.transform(text)\n",
    "\n",
    "# CountVectorizer uses a sparse array to save memory, but it's easier in this assignment to \n",
    "# convert back to a \"normal\" numpy array\n",
    "x = x.toarray()\n",
    "\n",
    "print(\"Transformed text vector is \\n\", x)\n",
    "print()\n",
    "# `get_feature_names` tracks which word is associated with each column of the transformed x\n",
    "print(\"Words for each feature:\")\n",
    "print(vectorizer.get_feature_names())"
   ]
  },
  {
   "cell_type": "markdown",
   "metadata": {},
   "source": [
    "### 2.1 Create your X input and Y output\n",
    "\n",
    "Using the `reviews` dataframe, compute a pair of numerical X, Y arrays where:\n",
    "    \n",
    " * X is a `(nreview, nwords)` array. Each row corresponds to a bag-of-words representation for a single review. This will be the *input* to your model.\n",
    " * Y is a `nreview`-element 1/0 array, encoding whether a review is Fresh (1) or Rotten (0). This is the desired *output* from your model.\n",
    " \n",
    "Make sure to remove items with no review text"
   ]
  },
  {
   "cell_type": "code",
   "execution_count": 9,
   "metadata": {},
   "outputs": [],
   "source": [
    "\"\"\"\n",
    "Function\n",
    "--------\n",
    "make_xy\n",
    "\n",
    "Build a bag-of-words training set for the review data\n",
    "\n",
    "Parameters\n",
    "-----------\n",
    "reviews : Pandas DataFrame\n",
    "    The review data from above\n",
    "    \n",
    "vectorizer : CountVectorizer object (optional)\n",
    "    A CountVectorizer object to use. If None,\n",
    "    then create and fit a new CountVectorizer.\n",
    "    Otherwise, re-fit the provided CountVectorizer\n",
    "    using the reviews data\n",
    "    \n",
    "Returns\n",
    "-------\n",
    "X : numpy array (dims: nreview, nwords)\n",
    "    Bag-of-words representation for each review.\n",
    "Y : numpy array (dims: nreview)\n",
    "    1/0 array. 1 = fresh review, 0 = rotten review\n",
    "\n",
    "Examples\n",
    "--------\n",
    "X, Y = make_xy(reviews)\n",
    "\"\"\"\n",
    "def make_xy(reviews, vectorizer=None):\n",
    "    vectorizer = CountVectorizer(min_df=0)\n",
    "    reviews.dropna(subset=['quote', 'fresh']) # drop null\n",
    "    \n",
    "    X = vectorizer.fit_transform(reviews['quote']).toarray()\n",
    "    \n",
    "    Y = reviews['fresh']\n",
    "    Y = Y.replace('fresh', 1)\n",
    "    Y = Y.replace('rotten', 0)\n",
    "    \n",
    "    return X, Y"
   ]
  },
  {
   "cell_type": "code",
   "execution_count": 10,
   "metadata": {},
   "outputs": [
    {
     "name": "stdout",
     "output_type": "stream",
     "text": [
      "(13419, 20875)\n",
      "(13419,)\n"
     ]
    }
   ],
   "source": [
    "# Call the make_xy function, check the shape of X and Y\n",
    "X, Y = make_xy(reviews)\n",
    "print(X.shape)\n",
    "print(Y.shape)"
   ]
  },
  {
   "cell_type": "markdown",
   "metadata": {},
   "source": [
    "### 2.2 Test-Train split\n",
    "\n",
    "Next, randomly split the data into two groups: a training set (80%) and a validation set (20%).  You can do this manually, as you did in the prior problem set.  Or, use [`train_test_split`](http://scikit-learn.org/stable/modules/generated/sklearn.cross_validation.train_test_split.html) to do this auto-magically.  See [this guide](http://scikit-learn.org/stable/modules/cross_validation.html) for a simple example of how `train_test_split` works."
   ]
  },
  {
   "cell_type": "code",
   "execution_count": 25,
   "metadata": {},
   "outputs": [
    {
     "name": "stdout",
     "output_type": "stream",
     "text": [
      "X train and Y train:  (10735, 20875) (10735,) \n",
      "X test and Y test: (2684, 20875) (2684,)\n"
     ]
    }
   ],
   "source": [
    "# Split datasets into training and testing by 80% and 20%\n",
    "X_train, X_test, Y_train, Y_test = train_test_split(X, Y, test_size=0.2, random_state=0, shuffle=True)\n",
    "\n",
    "print('X train and Y train: ', X_train.shape, Y_train.shape, '\\nX test and Y test:', X_test.shape, Y_test.shape)"
   ]
  },
  {
   "cell_type": "markdown",
   "metadata": {},
   "source": [
    "### 2.3 Naive Bayes with `MultinomialNB`\n",
    "Use the training set to train a Naive Bayes classifier using the [`MultinomialNB`](http://scikit-learn.org/stable/modules/generated/sklearn.naive_bayes.MultinomialNB.html)\n",
    " object.  Report the accuracy of this model on both the training and testing data.  What do you observe?  Interpret these results!\n",
    "\n",
    "*Hint: This shouldn't take more than 5-10 lines of code to accomplish*\n",
    "\n"
   ]
  },
  {
   "cell_type": "code",
   "execution_count": 26,
   "metadata": {},
   "outputs": [
    {
     "name": "stdout",
     "output_type": "stream",
     "text": [
      "Training set accuracy:  0.9214718211457849\n",
      "Testing set accuracy:  0.7876304023845008\n"
     ]
    }
   ],
   "source": [
    "# MultinomialNB model\n",
    "# call the fitted model fitted_model for future reference\n",
    "fitted_model = MultinomialNB()\n",
    "fitted_model.fit(X_train, Y_train)\n",
    "\n",
    "# get accuracy of training and testing set\n",
    "print('Training set accuracy: ', fitted_model.score(X_train, Y_train))\n",
    "print('Testing set accuracy: ', fitted_model.score(X_test, Y_test))\n"
   ]
  },
  {
   "cell_type": "markdown",
   "metadata": {},
   "source": [
    "The accuracy for training is 0.92 and for testing is 0.79. The gap between the two is large, meaning our MultinomialNB model is overfitting."
   ]
  },
  {
   "cell_type": "markdown",
   "metadata": {},
   "source": [
    "### 2.4 (EXTRA CREDIT) Naive Bayes from Scratch!\n",
    "That was almost too easy, right?  Right.\n",
    "\n",
    "Your next mission, should you choose to accept it, is to write your own Naive Bayes classifier without relying on `MultinomialNB` or a similar pre-written package.  In addition to the lecture notes and assigned readings, I highly recommend that you review Michael Collin’s lecture notes on Naïve Bayes before starting (available on bcourses).  \n",
    "\n",
    "**Note:**\n",
    "You should do this extra credit assignment *after* you have finished the rest of the problem set.  It is very rewarding, but can also be quite time-consuming!\n",
    "\n",
    "*Hint: You will benefit most from this exercise if you attempt to write the algorithm directly from the lecture notes.  That said, if you really get stuck, Krishnamurthy Viswanathan has written a simple version of [NB in python](http://ebiquity.umbc.edu/blogger/2010/12/07/naive-bayes-classifier-in-50-lines/), which you can peek at if you really get stuck.*"
   ]
  },
  {
   "cell_type": "code",
   "execution_count": 13,
   "metadata": {},
   "outputs": [],
   "source": [
    "# Your code here"
   ]
  },
  {
   "cell_type": "markdown",
   "metadata": {},
   "source": [
    "---\n",
    "\n",
    "## Part 3: Evaluation\n",
    "\n",
    "### 3.1 Estimate the likelihood of your data\n",
    "\n",
    "Given a fitted model, you can compute the log-likelihood of your data as a way to assess the performance of your model.  Using `fitted_model.predict_logproba`, the idea is to write a function that computes the log-likelihood of a dataset, so that we can inspect the log-likelihood of your training and testing data given your fitted model from part 2.\n",
    "\n",
    "To help you out a little bit, we'll do this part for you. But make sure you understand it, because you'll need to use this later!"
   ]
  },
  {
   "cell_type": "code",
   "execution_count": 27,
   "metadata": {},
   "outputs": [
    {
     "data": {
      "text/plain": [
       "-1442.8990522063239"
      ]
     },
     "execution_count": 27,
     "metadata": {},
     "output_type": "execute_result"
    }
   ],
   "source": [
    "\"\"\"\n",
    "Function\n",
    "--------\n",
    "log_likelihood\n",
    "\n",
    "Compute the log likelihood of a dataset according to a bayesian classifier. \n",
    "The Log Likelihood is defined by\n",
    "\n",
    "L = Sum_fresh(logP(fresh)) + Sum_rotten(logP(rotten))\n",
    "\n",
    "Where Sum_fresh indicates a sum over all fresh reviews, \n",
    "and Sum_rotten indicates a sum over rotten reviews\n",
    "    \n",
    "Parameters\n",
    "----------\n",
    "model : Bayesian classifier\n",
    "x : (nexample, nfeature) array\n",
    "    The input data\n",
    "y : (nexample) integer array\n",
    "    Whether each review is Fresh\n",
    "\"\"\"\n",
    "\n",
    "def log_likelihood(model, x, y):\n",
    "    prob = model.predict_log_proba(x)\n",
    "    rotten = y == 0\n",
    "    fresh = ~rotten\n",
    "    return prob[rotten, 0].sum() + prob[fresh, 1].sum()\n",
    "\n",
    "# output the likelihood of your test data (example - you may need to \n",
    "# change the names of the variables below to match your code in 2.2 and 2.3\n",
    "log_likelihood(fitted_model, X_test, Y_test)"
   ]
  },
  {
   "cell_type": "markdown",
   "metadata": {},
   "source": [
    "### 3.2 Cross-Validation\n",
    "\n",
    "Why do we care about the log-likelihood of our data?  You guessed it: Cross-Validation.\n",
    "\n",
    "Our classifier has a few hyperparameters. The two most important are:\n",
    "\n",
    " 1. The `min_df` keyword in `CountVectorizer`, which will ignore words which appear in fewer than `min_df` fraction of reviews. Words that appear only once or twice can lead to overfitting, since words which occur only a few times might correlate very well with Fresh/Rotten reviews by chance in the training dataset.\n",
    " \n",
    " 2. The [`alpha` keyword](http://scikit-learn.org/stable/modules/naive_bayes.html#multinomial-naive-bayes) in the Bayesian classifier is a \"smoothing parameter\" -- increasing the value decreases the sensitivity to any single feature, and tends to pull prediction probabilities closer to 50%. \n",
    "\n",
    "How are we are going to use cross-validation to tune these hyperparameters?  The objective function we want to maximize is the log-likelihood of our data.  Fill in the remaining code in this block, to loop over many values of `alpha` and `min_df` to determine\n",
    "which settings are \"best\" in the sense of maximizing the cross-validated log-likelihood.\n",
    "\n",
    "*hint: sklearn has a built-in function, `sklearn.cross_validation.cross_val_score`, that might save you a lot of time here...*"
   ]
  },
  {
   "cell_type": "code",
   "execution_count": 72,
   "metadata": {},
   "outputs": [
    {
     "name": "stdout",
     "output_type": "stream",
     "text": [
      "Best alpha: 1 \n",
      "Best min_df: 1e-05 \n",
      "Max Log-likelihood: -1247.6739046057414\n"
     ]
    }
   ],
   "source": [
    "# testing different code\n",
    "alphas = [1.0e-10, .1, 1, 5, 10, 50]\n",
    "min_dfs = [1e-5, 1e-4, 1e-3, 1e-2, 1e-1]\n",
    "\n",
    "#Find the best value for alpha and min_df, and the best classifier\n",
    "best_alpha = None\n",
    "best_min_df = None\n",
    "max_loglike = -np.inf\n",
    "\n",
    "for min_df in min_dfs:\n",
    "    vectorizer = CountVectorizer(min_df = min_df)       \n",
    "    X1, Y1 = make_xy(reviews, vectorizer)\n",
    "    X1_train, X1_test, Y1_train, Y1_test = train_test_split(X1, Y1, test_size=0.2, random_state=0, shuffle=True)\n",
    "    for alpha in alphas:\n",
    "        new_fitted_model = MultinomialNB(alpha = alpha)\n",
    "        loglike = cross_val_score(new_fitted_model, X1_train, Y1_train, scoring=log_likelihood, cv=5).mean()\n",
    "        \n",
    "        if loglike > max_loglike:\n",
    "            max_loglike = loglike\n",
    "            best_alpha, best_min_df = alpha, min_df\n",
    "\n",
    "print('Best alpha: {} \\nBest min_df: {} \\nMax Log-likelihood: {}'.format(best_alpha, best_min_df, max_loglike))"
   ]
  },
  {
   "cell_type": "markdown",
   "metadata": {},
   "source": [
    "### 3.3 Putting it together\n",
    "\n",
    "Now that you've determined values for alpha and min_df that optimize the cross-validated log-likelihood, repeat the steps in 2.1-2.3 to train a final classifier with these parameters and re-evaluate the accuracy.  Discuss the various ways in which Cross-Validation has affected the model. Is the new model more or less accurate? Is overfitting better or worse?"
   ]
  },
  {
   "cell_type": "code",
   "execution_count": 76,
   "metadata": {},
   "outputs": [
    {
     "name": "stdout",
     "output_type": "stream",
     "text": [
      "Training set accuracy:  0.9214718211457849\n",
      "Testing set accuracy:  0.7876304023845008\n"
     ]
    }
   ],
   "source": [
    "# Vectorize bag of words and compute X input and Y output\n",
    "vectorizer_new = CountVectorizer(best_min_df)\n",
    "X2, Y2 = make_xy(reviews, vectorizer_new)\n",
    "\n",
    "# Split datasets into training and testing by 80% and 20%\n",
    "X_train2, X_test2, Y_train2, Y_test2 = train_test_split(X2, Y2, test_size=0.2, random_state=0)\n",
    "\n",
    "# Train model\n",
    "new_fitted_model = MultinomialNB(best_alpha)\n",
    "new_fitted_model.fit(X_train2, Y_train2)\n",
    "\n",
    "# Get accuracy of training and testing set\n",
    "print('Training set accuracy: ', new_fitted_model.score(X_train2, Y_train2))\n",
    "print('Testing set accuracy: ', new_fitted_model.score(X_test2, Y_test2))"
   ]
  },
  {
   "cell_type": "markdown",
   "metadata": {},
   "source": [
    "The accuracy of training and testing when using cross-validated alpha and min_df have not changed at all, which is so surprising. I know it shouldn't have happened, but I tried my best to debug everything and cannot figure out where goes wrong.\n",
    "\n",
    "The expected results I thought should be something close to 0.7 for both training and testing, but somehow my program doesn't cooperate."
   ]
  },
  {
   "cell_type": "markdown",
   "metadata": {},
   "source": [
    "### 3.4 (Extra Credit)\n",
    "\n",
    "What happens if you tried this again using a function besides the log-likelihood -- for example, the classification accuracy?  Interpret these results"
   ]
  },
  {
   "cell_type": "code",
   "execution_count": 38,
   "metadata": {},
   "outputs": [
    {
     "name": "stdout",
     "output_type": "stream",
     "text": [
      "Best alpha: 1 \n",
      "Best min_df: 1e-05 \n",
      "Max Accuracy Score: 0.7714951094550536\n"
     ]
    }
   ],
   "source": [
    "## Classifier Accuracy to tune hypaparameters\n",
    "from sklearn.metrics import accuracy_score\n",
    "from sklearn.metrics import make_scorer\n",
    "\n",
    "#the grid of parameters to search over\n",
    "alphas = [1.0e-10, .1, 1, 5, 10, 50]\n",
    "min_dfs = [1e-5, 1e-4, 1e-3, 1e-2, 1e-1]\n",
    "\n",
    "#Find the best value for alpha and min_df, and the best classifier\n",
    "best_alpha_acc = None\n",
    "best_min_df_acc = None\n",
    "max_accuracy = -np.inf\n",
    "\n",
    "for min_df in min_dfs:\n",
    "    vectorizer = CountVectorizer(min_df = min_df)       \n",
    "    X3, Y3 = make_xy(reviews, vectorizer)\n",
    "    X3_train, X3_test, Y3_train, Y3_test = train_test_split(X3, Y3, test_size=0.2, random_state=0)\n",
    "    \n",
    "    for alpha in alphas:\n",
    "        fitted_model_acc = MultinomialNB(alpha = alpha)\n",
    "        my_scorer = make_scorer(accuracy_score)\n",
    "        accuracy = cross_val_score(fitted_model_acc, X3_train, Y3_train, scoring=my_scorer, cv=5).mean()\n",
    "        \n",
    "        if accuracy > max_accuracy:\n",
    "            max_accuracy = accuracy\n",
    "            best_alpha_acc, best_min_df_acc = alpha, min_df\n",
    "\n",
    "print('Best alpha: {} \\nBest min_df: {} \\nMax Accuracy Score: {}'.format(best_alpha_acc, best_min_df_acc, max_accuracy))"
   ]
  },
  {
   "cell_type": "code",
   "execution_count": 40,
   "metadata": {},
   "outputs": [
    {
     "name": "stdout",
     "output_type": "stream",
     "text": [
      "Training set accuracy:  0.9214718211457849\n",
      "Testing set accuracy:  0.7876304023845008\n"
     ]
    }
   ],
   "source": [
    "# Vectorize bag of words and compute X input and Y output\n",
    "vectorizer_acc = CountVectorizer(min_df = best_min_df_acc)\n",
    "X4, Y4 = make_xy(reviews, vectorizer_acc)\n",
    "\n",
    "# Split datasets into training and testing by 80% and 20%\n",
    "X_train4, X_test4, Y_train4, Y_test4 = train_test_split(X4, Y4, test_size=0.2, random_state=0, shuffle=True)\n",
    "\n",
    "# Train model\n",
    "MultiNB_acc_tuned = MultinomialNB(alpha = best_alpha_acc)\n",
    "\n",
    "MultiNB_acc_tuned.fit(X_train4, Y_train4)\n",
    "\n",
    "# Get accuracy of training and testing set\n",
    "print('Training set accuracy: ', MultiNB_acc_tuned.score(X_train4, Y_train4))\n",
    "print('Testing set accuracy: ', MultiNB_acc_tuned.score(X_test4, Y_test4))"
   ]
  },
  {
   "cell_type": "markdown",
   "metadata": {},
   "source": [
    "Have no idea why the accuracy remains the same, which shouldn't be the case as we see max accuracy score in the last cell is 0.77. There must be something weird going on."
   ]
  },
  {
   "cell_type": "markdown",
   "metadata": {},
   "source": [
    "### 3.5 Interpretation\n",
    "\n",
    "What words best predict a fresh or rotten review?  Using your classifier and the `vectorizer.get_feature_names` method, determine which words best predict a positive or negative review. Print the 10 words that best predict a \"fresh\" review, and the 10 words that best predict a \"rotten\" review. For each word, what is the model's probability of freshness if the word appears one time?\n",
    "\n",
    "#### Hints\n",
    "* In thinking about how to measure the impact of a word on freshness rating, consider computing the classification probability for a feature vector which consists of all 0s, except for a single 1. What does this probability refer to?\n",
    "* `numpy.identity` generates an identity matrix, where all values are zero except the diagonal elements which have a value of one"
   ]
  },
  {
   "cell_type": "code",
   "execution_count": 65,
   "metadata": {
    "scrolled": false
   },
   "outputs": [
    {
     "name": "stdout",
     "output_type": "stream",
     "text": [
      "Top 10 words and respective log probabilities to predict fresh reviews:\n",
      " [['delight' '-0.025262036453559844']\n",
      " ['superb' '-0.02837538759751901']\n",
      " ['intimate' '-0.03617830988751969']\n",
      " ['absorbing' '-0.03617830988751969']\n",
      " ['captures' '-0.039263259237335646']\n",
      " ['rousing' '-0.04292345229230854']\n",
      " ['childhood' '-0.04502201283326812']\n",
      " ['energetic' '-0.04502201283326812']\n",
      " ['expertly' '-0.04733636224620419']\n",
      " ['deftly' '-0.04733636224620419']]\n",
      "Top 10 words and respective log probabilities to predict rotten reviews:\n",
      " [['lame' '-0.04817332614994463']\n",
      " ['uninspired' '-0.055571899861616814']\n",
      " ['pointless' '-0.05857051020017856']\n",
      " ['unfortunately' '-0.06372884318091465']\n",
      " ['sadly' '-0.06565637865057639']\n",
      " ['unfunny' '-0.06565637865057639']\n",
      " ['tiresome' '-0.0746936203296098']\n",
      " ['ludicrous' '-0.08021467647156832']\n",
      " ['tepid' '-0.08021467647156832']\n",
      " ['disappointingly' '-0.08661761746579977']]\n"
     ]
    }
   ],
   "source": [
    "# Using classifier in 3.3\n",
    "single_word = np.identity(len(X2[0]))\n",
    "all_words = np.array(vectorizer_new.get_feature_names())\n",
    "\n",
    "positive_prob = new_fitted_model.predict_log_proba(single_word)[:,1]\n",
    "negative_prob = new_fitted_model.predict_log_proba(single_word)[:,0]\n",
    "\n",
    "positive_ind = np.argsort(positive_prob)\n",
    "negative_ind = np.argsort(negative_prob)\n",
    "\n",
    "top10_fresh_words = np.flip(all_words[positive_ind[-10:]])\n",
    "top10_rotten_words = np.flip(all_words[negative_ind[-10:]])\n",
    "\n",
    "top10_fresh_prob = np.flip(positive_prob[positive_ind[-10:]])\n",
    "top10_rotten_prob = np.flip(negative_prob[negative_ind[-10:]])\n",
    "\n",
    "print('Top 10 words and respective log probabilities to predict fresh reviews:\\n', np.column_stack((top10_fresh_words, top10_fresh_prob)))\n",
    "print('Top 10 words and respective log probabilities to predict rotten reviews:\\n', np.column_stack((top10_rotten_words, top10_rotten_prob)))"
   ]
  },
  {
   "cell_type": "markdown",
   "metadata": {},
   "source": [
    "Answers as above."
   ]
  },
  {
   "cell_type": "markdown",
   "metadata": {},
   "source": [
    "### 3.6 Error Analysis\n",
    "\n",
    "One of the best sources for inspiration when trying to improve a model is to look at examples where the model performs poorly.  Find 5 fresh and rotten reviews where your model performs particularly poorly. Print each review.\n",
    "\n",
    "What do you notice about these mis-predictions? Naive Bayes classifiers assume that every word affects the probability independently of other words. In what way is this a bad assumption? In your answer, report your classifier's Freshness probability for the review \"This movie is not remarkable, touching, or superb in any way\"."
   ]
  },
  {
   "cell_type": "code",
   "execution_count": 70,
   "metadata": {},
   "outputs": [
    {
     "name": "stdout",
     "output_type": "stream",
     "text": [
      "[[4074  956]\n",
      " [ 457 7932]]\n"
     ]
    }
   ],
   "source": [
    "# Using classifier in 3.3\n",
    "# Get confusion matrix\n",
    "from sklearn.metrics import confusion_matrix\n",
    "\n",
    "result1 = new_fitted_model.predict(X2)\n",
    "print(confusion_matrix(Y2, result1))"
   ]
  },
  {
   "cell_type": "code",
   "execution_count": 164,
   "metadata": {
    "scrolled": true
   },
   "outputs": [
    {
     "name": "stdout",
     "output_type": "stream",
     "text": [
      "[300 561 347 407 346] [0.9995746172435734, 0.9995812340901372, 0.999641189461129, 0.9998103300002243, 0.9998426361967876]\n",
      "[214 344   6 301 303] [0.9916577063706168, 0.993333802327001, 0.9953850124430595, 0.9985617923782066, 0.999838655101148]\n",
      "FP 1 ['animated', 'even', 'felt', 'handsome', 'more', 'musical', 'reverent'] \n",
      "\n",
      "FP 2 ['101', 'action', 'and', 'appliances', 'chan', 'countless', 'domestic', 'fallibility', 'fans', 'fight', 'he', 'insistence', 'involving', 'like', 'means', 'more', 'on', 'own', 'put', 'scenes', 'shows', 'six', 'stars', 'taken', 'than', 'the', 'to', 'together', 'us', 'virtuoso', 'vulnerability', 'why', 'with'] \n",
      "\n",
      "FP 3 ['acted', 'an', 'and', 'by', 'cast', 'directorial', 'downey', 'drawn', 'eccentric', 'effort', 'entire', 'episodic', 'especially', 'family', 'foster', 'holly', 'hunter', 'if', 'is', 'jr', 'of', 'portrait', 'robery', 'second', 'the', 'too', 'vividly', 'well'] \n",
      "\n",
      "FP 4 ['an', 'by', 'christian', 'cliche', 'directed', 'does', 'duguay', 'efficient', 'generating', 'it', 'job', 'knotting', 'many', 'of', 'one', 'screamers', 'stomach', 'succumbs', 'tension', 'to', 'too', 'until', 'was', 'which'] \n",
      "\n",
      "FP 5 ['abysmal', 'and', 'be', 'certain', 'for', 'georgia', 'get', 'of', 'one', 'reserved', 'rule', 'should', 'such', 'them', 'words'] \n",
      "\n",
      "FN 1 ['ability', 'and', 'effects', 'entertain', 'exceptional', 'film', 'graceful', 'in', 'is', 'technical', 'that', 'to'] \n",
      "\n",
      "FN 2 ['as', 'be', 'best', 'better', 'bogged', 'but', 'date', 'divine', 'down', 'endearment', 'film', 'it', 'league', 'lohan', 'marginally', 'only', 'same', 'secrets', 'shame', 'sisterhood', 'terms', 'than', 'that', 'wants', 'work'] \n",
      "\n",
      "FN 3 ['adults', 'and', 'appreciated', 'be', 'by', 'characters', 'conceptual', 'defined', 'deftly', 'film', 'fully', 'gags', 'knowing', 'll', 'love', 'more', 'overall', 'probably', 'snappy', 'sophistication', 'verbal', 'vivid', 'who', 'will'] \n",
      "\n",
      "FN 4 ['agenda', 'an', 'at', 'impossible', 'like', 'overall', 'reasonable', 'seems', 'stab', 'this'] \n",
      "\n",
      "FN 5 ['all', 'and', 'cartoon', 'disney', 'fun', 'it', 'make', 'of', 'out', 'take', 'the', 'why'] \n",
      "\n"
     ]
    }
   ],
   "source": [
    "# Find all indeces of false positive and false negative\n",
    "false_positive_ind = []\n",
    "false_negative_ind = []\n",
    "for row_ind, (x, prediction, y) in enumerate(zip (X2, result1, Y2)):\n",
    "    if prediction == 1 and y == 0: # false fresh, real rotten\n",
    "        false_positive_ind.append(row_ind)\n",
    "    elif prediction == 0 and y ==1: # false rotten, real fresh\n",
    "        false_negative_ind.append(row_ind)\n",
    "        \n",
    "# Find top5 false positive and false negative indeces\n",
    "false_positive_prob = new_fitted_model.predict_proba(X2[np.array(false_positive_ind)])[:,1]\n",
    "false_negative_prob = new_fitted_model.predict_proba(X2[np.array(false_rotten_ind)])[:,0]\n",
    "\n",
    "top5_fp_idx = np.argsort(false_positive_prob)[-5:]\n",
    "top5_fp_prob = [false_positive_prob[i] for i in top5_fp_idx][-5:]\n",
    "print(top5_fp_idx, top5_fp_prob)\n",
    "\n",
    "top5_fn_idx = np.argsort(false_negative_prob)[-5:]\n",
    "top5_fn_prob = [false_negative_prob[i] for i in top5_fn_idx][-5:]\n",
    "print(top5_fn_idx, top5_fn_prob)\n",
    "\n",
    "# Print top5 false positive reviews, and top5 false negative reviews\n",
    "for i in range(5):\n",
    "    fp = []\n",
    "    for j in range(len(all_words)):\n",
    "        if X2[np.array(top5_fp_idx)][i,j] == 1:\n",
    "            fp.append(all_words[j])\n",
    "    print('FP', i+1, fp,'\\n')\n",
    "\n",
    "for i in range(5):\n",
    "    fn = []\n",
    "    for j in range(len(all_words)):\n",
    "        if X2[np.array(top5_fn_idx)][i,j] == 1:\n",
    "            fn.append(all_words[j])\n",
    "    print('FN', i+1, fn,'\\n')\n"
   ]
  },
  {
   "cell_type": "markdown",
   "metadata": {},
   "source": [
    "I noticed that Naive Bayes classifiers assume that every word affects the probability independently of other words is a bad assumption. In the above examples, the combination of words can mean the opposite meaning, so that it makes the computer think this is for an opposite emotion and mispredict the labels."
   ]
  },
  {
   "cell_type": "code",
   "execution_count": 181,
   "metadata": {},
   "outputs": [
    {
     "ename": "ValueError",
     "evalue": "matmul: Input operand 1 has a mismatch in its core dimension 0, with gufunc signature (n?,k),(k,m?)->(n?,m?) (size 20875 is different from 11)",
     "output_type": "error",
     "traceback": [
      "\u001b[0;31m---------------------------------------------------------------------------\u001b[0m",
      "\u001b[0;31mValueError\u001b[0m                                Traceback (most recent call last)",
      "\u001b[0;32m<ipython-input-181-9a3ccc0b866c>\u001b[0m in \u001b[0;36m<module>\u001b[0;34m\u001b[0m\n\u001b[1;32m      4\u001b[0m \u001b[0my1\u001b[0m \u001b[0;34m=\u001b[0m \u001b[0mnp\u001b[0m\u001b[0;34m.\u001b[0m\u001b[0marray\u001b[0m\u001b[0;34m(\u001b[0m\u001b[0;34m[\u001b[0m\u001b[0;36m0\u001b[0m\u001b[0;34m]\u001b[0m\u001b[0;34m)\u001b[0m\u001b[0;34m\u001b[0m\u001b[0;34m\u001b[0m\u001b[0m\n\u001b[1;32m      5\u001b[0m \u001b[0mfeaturesname\u001b[0m \u001b[0;34m=\u001b[0m \u001b[0mvectorizer_new\u001b[0m\u001b[0;34m.\u001b[0m\u001b[0mget_feature_names\u001b[0m\u001b[0;34m(\u001b[0m\u001b[0;34m)\u001b[0m\u001b[0;34m\u001b[0m\u001b[0;34m\u001b[0m\u001b[0m\n\u001b[0;32m----> 6\u001b[0;31m \u001b[0mprint\u001b[0m\u001b[0;34m(\u001b[0m\u001b[0mnew_fitted_model\u001b[0m\u001b[0;34m.\u001b[0m\u001b[0mpredict_proba\u001b[0m\u001b[0;34m(\u001b[0m\u001b[0mx1\u001b[0m\u001b[0;34m)\u001b[0m\u001b[0;34m[\u001b[0m\u001b[0;36m0\u001b[0m\u001b[0;34m,\u001b[0m\u001b[0;36m1\u001b[0m\u001b[0;34m]\u001b[0m\u001b[0;34m)\u001b[0m\u001b[0;34m\u001b[0m\u001b[0;34m\u001b[0m\u001b[0m\n\u001b[0m",
      "\u001b[0;32m~/anaconda3/envs/APIs_geospatial/lib/python3.7/site-packages/sklearn/naive_bayes.py\u001b[0m in \u001b[0;36mpredict_proba\u001b[0;34m(self, X)\u001b[0m\n\u001b[1;32m    115\u001b[0m             \u001b[0morder\u001b[0m\u001b[0;34m,\u001b[0m \u001b[0;32mas\u001b[0m \u001b[0mthey\u001b[0m \u001b[0mappear\u001b[0m \u001b[0;32min\u001b[0m \u001b[0mthe\u001b[0m \u001b[0mattribute\u001b[0m \u001b[0;34m:\u001b[0m\u001b[0mterm\u001b[0m\u001b[0;34m:\u001b[0m\u001b[0;31m`\u001b[0m\u001b[0mclasses_\u001b[0m\u001b[0;31m`\u001b[0m\u001b[0;34m.\u001b[0m\u001b[0;34m\u001b[0m\u001b[0;34m\u001b[0m\u001b[0m\n\u001b[1;32m    116\u001b[0m         \"\"\"\n\u001b[0;32m--> 117\u001b[0;31m         \u001b[0;32mreturn\u001b[0m \u001b[0mnp\u001b[0m\u001b[0;34m.\u001b[0m\u001b[0mexp\u001b[0m\u001b[0;34m(\u001b[0m\u001b[0mself\u001b[0m\u001b[0;34m.\u001b[0m\u001b[0mpredict_log_proba\u001b[0m\u001b[0;34m(\u001b[0m\u001b[0mX\u001b[0m\u001b[0;34m)\u001b[0m\u001b[0;34m)\u001b[0m\u001b[0;34m\u001b[0m\u001b[0;34m\u001b[0m\u001b[0m\n\u001b[0m\u001b[1;32m    118\u001b[0m \u001b[0;34m\u001b[0m\u001b[0m\n\u001b[1;32m    119\u001b[0m \u001b[0;34m\u001b[0m\u001b[0m\n",
      "\u001b[0;32m~/anaconda3/envs/APIs_geospatial/lib/python3.7/site-packages/sklearn/naive_bayes.py\u001b[0m in \u001b[0;36mpredict_log_proba\u001b[0;34m(self, X)\u001b[0m\n\u001b[1;32m     95\u001b[0m         \u001b[0mcheck_is_fitted\u001b[0m\u001b[0;34m(\u001b[0m\u001b[0mself\u001b[0m\u001b[0;34m)\u001b[0m\u001b[0;34m\u001b[0m\u001b[0;34m\u001b[0m\u001b[0m\n\u001b[1;32m     96\u001b[0m         \u001b[0mX\u001b[0m \u001b[0;34m=\u001b[0m \u001b[0mself\u001b[0m\u001b[0;34m.\u001b[0m\u001b[0m_check_X\u001b[0m\u001b[0;34m(\u001b[0m\u001b[0mX\u001b[0m\u001b[0;34m)\u001b[0m\u001b[0;34m\u001b[0m\u001b[0;34m\u001b[0m\u001b[0m\n\u001b[0;32m---> 97\u001b[0;31m         \u001b[0mjll\u001b[0m \u001b[0;34m=\u001b[0m \u001b[0mself\u001b[0m\u001b[0;34m.\u001b[0m\u001b[0m_joint_log_likelihood\u001b[0m\u001b[0;34m(\u001b[0m\u001b[0mX\u001b[0m\u001b[0;34m)\u001b[0m\u001b[0;34m\u001b[0m\u001b[0;34m\u001b[0m\u001b[0m\n\u001b[0m\u001b[1;32m     98\u001b[0m         \u001b[0;31m# normalize by P(x) = P(f_1, ..., f_n)\u001b[0m\u001b[0;34m\u001b[0m\u001b[0;34m\u001b[0m\u001b[0;34m\u001b[0m\u001b[0m\n\u001b[1;32m     99\u001b[0m         \u001b[0mlog_prob_x\u001b[0m \u001b[0;34m=\u001b[0m \u001b[0mlogsumexp\u001b[0m\u001b[0;34m(\u001b[0m\u001b[0mjll\u001b[0m\u001b[0;34m,\u001b[0m \u001b[0maxis\u001b[0m\u001b[0;34m=\u001b[0m\u001b[0;36m1\u001b[0m\u001b[0;34m)\u001b[0m\u001b[0;34m\u001b[0m\u001b[0;34m\u001b[0m\u001b[0m\n",
      "\u001b[0;32m~/anaconda3/envs/APIs_geospatial/lib/python3.7/site-packages/sklearn/naive_bayes.py\u001b[0m in \u001b[0;36m_joint_log_likelihood\u001b[0;34m(self, X)\u001b[0m\n\u001b[1;32m    768\u001b[0m     \u001b[0;32mdef\u001b[0m \u001b[0m_joint_log_likelihood\u001b[0m\u001b[0;34m(\u001b[0m\u001b[0mself\u001b[0m\u001b[0;34m,\u001b[0m \u001b[0mX\u001b[0m\u001b[0;34m)\u001b[0m\u001b[0;34m:\u001b[0m\u001b[0;34m\u001b[0m\u001b[0;34m\u001b[0m\u001b[0m\n\u001b[1;32m    769\u001b[0m         \u001b[0;34m\"\"\"Calculate the posterior log probability of the samples X\"\"\"\u001b[0m\u001b[0;34m\u001b[0m\u001b[0;34m\u001b[0m\u001b[0m\n\u001b[0;32m--> 770\u001b[0;31m         return (safe_sparse_dot(X, self.feature_log_prob_.T) +\n\u001b[0m\u001b[1;32m    771\u001b[0m                 self.class_log_prior_)\n\u001b[1;32m    772\u001b[0m \u001b[0;34m\u001b[0m\u001b[0m\n",
      "\u001b[0;32m~/anaconda3/envs/APIs_geospatial/lib/python3.7/site-packages/sklearn/utils/extmath.py\u001b[0m in \u001b[0;36msafe_sparse_dot\u001b[0;34m(a, b, dense_output)\u001b[0m\n\u001b[1;32m    149\u001b[0m             \u001b[0mret\u001b[0m \u001b[0;34m=\u001b[0m \u001b[0mnp\u001b[0m\u001b[0;34m.\u001b[0m\u001b[0mdot\u001b[0m\u001b[0;34m(\u001b[0m\u001b[0ma\u001b[0m\u001b[0;34m,\u001b[0m \u001b[0mb\u001b[0m\u001b[0;34m)\u001b[0m\u001b[0;34m\u001b[0m\u001b[0;34m\u001b[0m\u001b[0m\n\u001b[1;32m    150\u001b[0m     \u001b[0;32melse\u001b[0m\u001b[0;34m:\u001b[0m\u001b[0;34m\u001b[0m\u001b[0;34m\u001b[0m\u001b[0m\n\u001b[0;32m--> 151\u001b[0;31m         \u001b[0mret\u001b[0m \u001b[0;34m=\u001b[0m \u001b[0ma\u001b[0m \u001b[0;34m@\u001b[0m \u001b[0mb\u001b[0m\u001b[0;34m\u001b[0m\u001b[0;34m\u001b[0m\u001b[0m\n\u001b[0m\u001b[1;32m    152\u001b[0m \u001b[0;34m\u001b[0m\u001b[0m\n\u001b[1;32m    153\u001b[0m     if (sparse.issparse(a) and sparse.issparse(b)\n",
      "\u001b[0;31mValueError\u001b[0m: matmul: Input operand 1 has a mismatch in its core dimension 0, with gufunc signature (n?,k),(k,m?)->(n?,m?) (size 20875 is different from 11)"
     ]
    }
   ],
   "source": [
    "text1 = [\"This movie is not remarkable, touching, or superb in any way\"]\n",
    "x1 = vectorizer_new.fit_transform(text)\n",
    "x1 = x1.toarray()\n",
    "y1 = np.array([0])\n",
    "featuresname = vectorizer_new.get_feature_names()\n",
    "print(new_fitted_model.predict_proba(x1)[0,1])"
   ]
  },
  {
   "cell_type": "code",
   "execution_count": null,
   "metadata": {},
   "outputs": [],
   "source": []
  }
 ],
 "metadata": {
  "anaconda-cloud": {},
  "kernelspec": {
   "display_name": "APIs_geospatial",
   "language": "python",
   "name": "apis_geospatial"
  },
  "language_info": {
   "codemirror_mode": {
    "name": "ipython",
    "version": 3
   },
   "file_extension": ".py",
   "mimetype": "text/x-python",
   "name": "python",
   "nbconvert_exporter": "python",
   "pygments_lexer": "ipython3",
   "version": "3.7.6"
  }
 },
 "nbformat": 4,
 "nbformat_minor": 1
}
