{
 "cells": [
  {
   "cell_type": "markdown",
   "metadata": {},
   "source": [
    "# Problem Set 3, due February 24 at 11:59pm.\n",
    "\n",
    "### Before You Start\n",
    "\n",
    "Make sure the following libraries load correctly (hit Ctrl-Enter). Note that while you are loading several powerful libraries, including machine learning libraries, the goal of this problem set is to implement several algorithms from scratch. In particular, you should *not* be using any built-in libraries for nearest neighbors, distance metrics, or cross-validation -- your mission is to write those algorithms in Python! Part 1 will be relatively easy; Part 2 will take more time."
   ]
  },
  {
   "cell_type": "code",
   "execution_count": 1,
   "metadata": {},
   "outputs": [],
   "source": [
    "import IPython\n",
    "import numpy as np\n",
    "import scipy as sp\n",
    "import pandas as pd\n",
    "import matplotlib\n",
    "import sklearn"
   ]
  },
  {
   "cell_type": "markdown",
   "metadata": {},
   "source": [
    "---\n",
    "\n",
    "## Introduction to the assignment\n",
    "\n",
    "For this assignment, you will be using the [Boston Housing Prices Data Set](http://www.kellogg.northwestern.edu/faculty/weber/emp/_session_3/boston.htm).  Please read about the dataset carefully before continuing.  Use the following commands to load the dataset:\n"
   ]
  },
  {
   "cell_type": "code",
   "execution_count": 2,
   "metadata": {},
   "outputs": [],
   "source": [
    "# load Boston housing data set\n",
    "data = np.loadtxt('data.txt')\n",
    "target = np.loadtxt('target.txt')"
   ]
  },
  {
   "cell_type": "code",
   "execution_count": 3,
   "metadata": {},
   "outputs": [],
   "source": [
    "# columns_names = ['CRIM','ZN','INDUS', 'CHAS', 'NOX', 'RM', 'AGE', 'DIS', 'RAD', 'TAX', 'PTRATIO', 'B', 'LSTAT']\n",
    "\n",
    "'''load array into pandas dataframe with data and target integrated'''\n",
    "bdata_df = pd.DataFrame(data, columns = ['CRIM','ZN','INDUS', 'CHAS', 'NOX', 'RM', 'AGE', 'DIS', 'RAD', 'TAX', 'PTRATIO', 'B', 'LSTAT'])\n",
    "bdata_df['MEDV'] = target\n",
    "# print(bdata_df.head(3))\n",
    "# bdata_df.shape"
   ]
  },
  {
   "cell_type": "markdown",
   "metadata": {},
   "source": [
    "## Side note: \n",
    "You can use the IPython to easily debug your code. Just add the line IPython.embed() as a break point at some place in\n",
    "your code and it will give you access to a Python terminal where you can view the values that specific variables get, their dimensions etc. The pdb package in Python is also similar to IPython. "
   ]
  },
  {
   "cell_type": "markdown",
   "metadata": {},
   "source": [
    "---\n",
    "\n",
    "## Part 1: Experimental Setup\n",
    "\n",
    "The goal of the next few sections is to design an experiment to predict the median home value for an instance in the data.\n",
    "Before beginning the \"real\" work, refamiliarize yourself with the dataset."
   ]
  },
  {
   "cell_type": "markdown",
   "metadata": {},
   "source": [
    "### 1.1 Begin by writing a function to compute the Root Mean Squared Error for a list of numbers\n",
    "\n",
    "You can find the sqrt function in the Numpy package. Furthermore the details of RMSE can be found on [Wikipedia](http://en.wikipedia.org/wiki/Root-mean-square_deviation). Do not use a built-in function (other than sqrt) to compute RMSE.\n",
    "\n"
   ]
  },
  {
   "cell_type": "code",
   "execution_count": 4,
   "metadata": {},
   "outputs": [],
   "source": [
    "\"\"\"\n",
    "Function\n",
    "--------\n",
    "compute_rmse\n",
    "\n",
    "Given two arrays, one of actual values and one of predicted values,\n",
    "compute the Roote Mean Squared Error\n",
    "\n",
    "Parameters\n",
    "----------\n",
    "predictions : array\n",
    "    Array of numerical values corresponding to predictions for each of the N observations\n",
    "\n",
    "yvalues : array\n",
    "    Array of numerical values corresponding to the actual values for each of the N observations\n",
    "\n",
    "Returns\n",
    "-------\n",
    "rmse : int\n",
    "    Root Mean Squared Error of the prediction\n",
    "\n",
    "Example\n",
    "-------\n",
    ">>> print(compute_rmse((2,2,3),(0,2,6)))\n",
    "2.08\n",
    "\"\"\"\n",
    "def compute_rmse(predictions, yvalues):\n",
    "    rmse = np.sqrt(((predictions-yvalues)**2).mean())\n",
    "    return rmse\n",
    "\n",
    "# print(compute_rmse(np.array([2,2,3]),np.array([0,2,6])))"
   ]
  },
  {
   "cell_type": "markdown",
   "metadata": {},
   "source": [
    "### 1.2 Divide your data into training and testing datasets\n",
    "\n",
    "Randomly select 80% of the data and put this in a training dataset (call this \"bdata_train\"), and place the remaining 20% in a testing dataset (call this \"bdata_test\")\n"
   ]
  },
  {
   "cell_type": "code",
   "execution_count": 5,
   "metadata": {},
   "outputs": [],
   "source": [
    "# leave the following line untouched, it will help ensure that your \"random\" split is the same \"random\" split used by the rest of the class\n",
    "np.random.seed(seed=13579)\n",
    "\n",
    "'''randomly select 80% indeces for train and 20% for test datasets'''\n",
    "train_idx = list(np.random.choice(range(len(data)), int(len(data) * .8), replace=False))\n",
    "test_idx = list(set(range(len(data))) - set(train_idx))\n",
    "\n",
    "'''divide them into train and test datasets'''\n",
    "bdata_X_train = data[train_idx]\n",
    "bdata_y_train = target[train_idx]\n",
    "\n",
    "bdata_X_test = data[test_idx]\n",
    "bdata_y_test = target[test_idx]\n",
    "\n",
    "# from sklearn.model_selection import train_test_split\n",
    "# bdata_X_train, bdata_X_test, bdata_y_train, bdata_y_test = train_test_split(np.asarray(bdata_df.iloc[:,0:13]), np.asarray(bdata_df.iloc[:,13]),\n",
    "#                                                     test_size=0.2, random_state=13579, shuffle=True)"
   ]
  },
  {
   "cell_type": "markdown",
   "metadata": {},
   "source": [
    "### 1.3 Use a very bad baseline for prediction, and compute RMSE\n",
    "\n",
    "Create a model that predicts, for every observation x_i, that the median home value is the average (mean) of the median values for all instances in the training set.  Specifically, do the following:\n",
    "1. Compute the RMSE of the training set.\n",
    "2. Now compute the RMSE on the test data set (but use the model you trained on the training set!).\n",
    "3. How does RMSE compare for training vs. testing datasets? Is this what you expected, and why?\n",
    "4. Create a scatter plot that shows the true value of each instance on the x-axis and the predicted value of each instance on the y-axis. Color the training instances in blue and the test instances in red. Make sure to label your axes appropriately, and add a legend to your figure to make clear which dots are which.\n",
    "5. Add code to your function to measure the running time of your algorithm. How long does it take to compute the predicted values for the test data?"
   ]
  },
  {
   "cell_type": "code",
   "execution_count": 6,
   "metadata": {},
   "outputs": [
    {
     "name": "stdout",
     "output_type": "stream",
     "text": [
      "Time taken: 0.00 seconds\n",
      "RMSE of training set is  9.207281207825492\n"
     ]
    }
   ],
   "source": [
    "'''1. make a baseline model and use on training datasets'''\n",
    "import time\n",
    "start_time = time.time()\n",
    "pred_y_train = np.ones((404,1)) * np.mean(bdata_y_train)\n",
    "'''compute the RMSE of the baseline model in training set'''\n",
    "rmse_tr = compute_rmse(pred_y_train, bdata_y_train)\n",
    "print(\"Time taken: {0:.2f} seconds\".format(time.time() - start_time))\n",
    "print('RMSE of training set is ', rmse_tr)"
   ]
  },
  {
   "cell_type": "code",
   "execution_count": 7,
   "metadata": {},
   "outputs": [
    {
     "name": "stdout",
     "output_type": "stream",
     "text": [
      "Time taken: 0.00 seconds\n",
      "RMSE of testing set is  9.111396183724489\n"
     ]
    }
   ],
   "source": [
    "'''2. use the baseline model on testing datasets'''\n",
    "start_time = time.time()\n",
    "pred_y_test = np.ones((102,1)) * np.mean(bdata_y_train)\n",
    "'''compute the RMSE of the baseline model in testing set'''\n",
    "rmse_ts = compute_rmse(pred_y_test, bdata_y_test)\n",
    "print(\"Time taken: {0:.2f} seconds\".format(time.time() - start_time))\n",
    "print('RMSE of testing set is ', rmse_ts)"
   ]
  },
  {
   "cell_type": "code",
   "execution_count": 8,
   "metadata": {},
   "outputs": [
    {
     "name": "stdout",
     "output_type": "stream",
     "text": [
      "Comparison: Training RMSE is larger than testing RMSE in size 0.09588502410100297\n"
     ]
    }
   ],
   "source": [
    "'''3. compare the two rmse'''\n",
    "print('Comparison: Training RMSE is larger than testing RMSE in size', rmse_tr-rmse_ts)"
   ]
  },
  {
   "cell_type": "markdown",
   "metadata": {},
   "source": [
    "Training datasets are larger in size than the testing datasets, and our predicted values are the same for all instances, so the root-sqaure-standard-errors (deviations from the true values) are unsurprisingly larger."
   ]
  },
  {
   "cell_type": "code",
   "execution_count": 9,
   "metadata": {},
   "outputs": [
    {
     "data": {
      "image/png": "[encoded data removed]",
      "text/plain": [
       "<Figure size 864x576 with 1 Axes>"
      ]
     },
     "metadata": {
      "needs_background": "light"
     },
     "output_type": "display_data"
    }
   ],
   "source": [
    "'''4. create a scatter plot'''\n",
    "import matplotlib.pyplot as plt\n",
    "\n",
    "plt.figure(figsize=(12,8))\n",
    "plt.scatter(bdata_y_train, pred_y_train, c='b', marker='o', label='train')\n",
    "plt.scatter(bdata_y_test, pred_y_test, c='r', marker='o', label='test')\n",
    "plt.xlabel('True Median Home Values')\n",
    "plt.ylabel('Predicted Median Home Values')\n",
    "plt.title('Baseline model')\n",
    "plt.legend(loc='upper right')\n",
    "plt.show()"
   ]
  },
  {
   "cell_type": "markdown",
   "metadata": {},
   "source": [
    "5. added code to measure running time in two cells above\n",
    "\n",
    "It takes almost 0.00 s to run the testing sets."
   ]
  },
  {
   "cell_type": "markdown",
   "metadata": {},
   "source": [
    "### 1.4 Use local linear regression for prediction, and compute RMSE.\n",
    "\n",
    "Create a model that predicts, for every observation of nitric oxide concentration the median home value using local linear regression\n",
    "with Epanechnikov kernels (https://en.wikipedia.org/wiki/Kernel_(statistics)).\n",
    "1. Create a scatter plot of the test and training data sets (use different colors for the two). Add on that plot the fit\n",
    "that you get from the local linear regression.\n",
    "2. Tune the smoothing parameter (the window that Epanechnikov kernels are nonegative) so that the RMSE for the test set is low. \n"
   ]
  },
  {
   "cell_type": "markdown",
   "metadata": {},
   "source": [
    "First create a function that implements the Epanechnikov kernel which you will need to weight the data points."
   ]
  },
  {
   "cell_type": "code",
   "execution_count": 10,
   "metadata": {},
   "outputs": [],
   "source": [
    "def epan_ker(target, data_x, gamma): # gamma is the % of nearest neighbors to the target\n",
    "    '''\n",
    "    Compute the epanechnikov weights. data_x denote the predictors (nitric oxide levels in our case)\n",
    "    and target denotes the house median value. The gamma parameter controls the smoothing. \n",
    "    Inputs: predictors, targets and smoothing parameter gamma \n",
    "    '''\n",
    "    dist = abs(data_x-target)\n",
    "    dist_sorted = np.sort(dist)\n",
    "    index = np.int(len(dist_sorted)*gamma) # get the index for gammar % of the distance array\n",
    "    normal_value = dist_sorted[index] # find the nth number as normalized distance\n",
    "    dist = dist/normal_value # array of normalized distances\n",
    "    \n",
    "    dist = list(dist) # coerce to a list\n",
    "    weights_lst = []\n",
    "    for num in dist:\n",
    "        if abs(num) < 1:\n",
    "            weights_lst.append(3/4 * (1-num ** 2)) # tune it with Epan Kernals\n",
    "        else:\n",
    "            weights_lst.append(0)\n",
    "            \n",
    "    weights = np.asarray(weights_lst) # coerce to an array\n",
    "    \n",
    "    return weights"
   ]
  },
  {
   "cell_type": "markdown",
   "metadata": {},
   "source": [
    "Write the main code for local linear regression:\n"
   ]
  },
  {
   "cell_type": "code",
   "execution_count": 11,
   "metadata": {},
   "outputs": [],
   "source": [
    "'''Converting arrays to dataframes'''\n",
    "bdata_X_train_df = pd.DataFrame(bdata_X_train, columns = ['CRIM','ZN','INDUS', 'CHAS', 'NOX', 'RM', 'AGE', 'DIS', 'RAD', 'TAX', 'PTRATIO', 'B', 'LSTAT'])\n",
    "bdata_X_test_df = pd.DataFrame(bdata_X_test, columns = ['CRIM','ZN','INDUS', 'CHAS', 'NOX', 'RM', 'AGE', 'DIS', 'RAD', 'TAX', 'PTRATIO', 'B', 'LSTAT'])\n",
    "bdata_y_train_df = pd.DataFrame(bdata_y_train, columns = ['MEDV'])\n",
    "bdata_y_test_df = pd.DataFrame(bdata_y_test, columns = ['MEDV'])"
   ]
  },
  {
   "cell_type": "code",
   "execution_count": 12,
   "metadata": {
    "scrolled": true
   },
   "outputs": [
    {
     "name": "stderr",
     "output_type": "stream",
     "text": [
      "/Users/qyinhelena/anaconda3/envs/APIs_geospatial/lib/python3.7/site-packages/numpy/core/fromnumeric.py:2542: FutureWarning: Method .ptp is deprecated and will be removed in a future version. Use numpy.ptp instead.\n",
      "  return ptp(axis=axis, out=out, **kwargs)\n"
     ]
    },
    {
     "name": "stdout",
     "output_type": "stream",
     "text": [
      "Time taken: 0.59 seconds\n",
      "RMSE of training set with Local Linear Regression is  8.605521739034717\n"
     ]
    }
   ],
   "source": [
    "'''Run a weighted least square regression'''\n",
    "import statsmodels.api as sm\n",
    "import time\n",
    "\n",
    "start_time = time.time()\n",
    "train_nox = bdata_X_train_df['NOX']\n",
    "train_nox = sm.add_constant(train_nox)\n",
    "# print(train_nox.head())\n",
    "\n",
    "x_plot, y_plot = [], [] # points on training sets\n",
    "\n",
    "for i in range(len(bdata_X_train)):\n",
    "\n",
    "    w = epan_ker(np.asarray(bdata_X_train_df['NOX'][i]), np.asarray(bdata_X_train_df['NOX']), 0.2) # get 20% nearest neighbors\n",
    "    \n",
    "    reg_result = sm.regression.linear_model.WLS(bdata_y_train_df, train_nox, weights = w).fit()\n",
    "    \n",
    "    intercept, coeff = reg_result.params[0], reg_result.params[1] # get results from regression\n",
    "    \n",
    "    y_plot.append(intercept + coeff * np.asarray(bdata_X_train_df['NOX'][i])) # calculate the predicted y, append to list\n",
    "    x_plot.append(bdata_X_train_df['NOX'][i]) # append nox value to x_plot list\n",
    "\n",
    "print(\"Time taken: {0:.2f} seconds\".format(time.time() - start_time))\n",
    "rmse_ll = compute_rmse(y_plot, bdata_y_train)\n",
    "print('RMSE of training set with Local Linear Regression is ', rmse_ll)\n",
    "#     print(reg_result.params)"
   ]
  },
  {
   "cell_type": "code",
   "execution_count": 13,
   "metadata": {},
   "outputs": [],
   "source": [
    "'''Plot the lowess fit'''\n",
    "def plot_lowess(x_train, y_train, x_test, y_test, x_plot, y_plot):\n",
    "    '''\n",
    "    Scatter plot of data points along with lowess fit.\n",
    "    Inputs: training and test data points, lowess fitted values\n",
    "    '''\n",
    "    plt.figure(figsize=(14,8))\n",
    "    plt.scatter(x_plot, y_plot, c='b', marker='.', label='predict')\n",
    "    plt.scatter(x_test, y_test, c='r', marker='.', label='test')\n",
    "    plt.scatter(x_train, y_train, c='g', marker='.', label='train')\n",
    "    plt.xlabel('NOx Levels')\n",
    "    plt.ylabel('Median Home Values')\n",
    "    plt.legend(loc='upper right')\n",
    "    plt.show()"
   ]
  },
  {
   "cell_type": "code",
   "execution_count": 14,
   "metadata": {
    "scrolled": false
   },
   "outputs": [
    {
     "data": {
      "image/png": "[encoded data removed]",
      "text/plain": [
       "<Figure size 1008x576 with 1 Axes>"
      ]
     },
     "metadata": {
      "needs_background": "light"
     },
     "output_type": "display_data"
    }
   ],
   "source": [
    "plot_lowess(bdata_X_train_df['NOX'], bdata_y_train, bdata_X_test_df['NOX'], bdata_y_test, x_plot, y_plot)"
   ]
  },
  {
   "cell_type": "code",
   "execution_count": 15,
   "metadata": {},
   "outputs": [
    {
     "name": "stdout",
     "output_type": "stream",
     "text": [
      "RMSE of testing set with Local Linear Regression is  8.592716436438378\n"
     ]
    }
   ],
   "source": [
    "'''Store the training set x_plot and y_plot from the LL model in a dictionary'''\n",
    "train_dict = dict(zip(x_plot, y_plot))\n",
    "x_sorted_plot = sorted(x_plot)\n",
    "\n",
    "'''Use the two closest points in X_train to a point in X_test to get the average of the two y_predict values to \n",
    "estimate y_test_predict'''\n",
    "y_test_predict = []\n",
    "for x in bdata_X_test_df['NOX']:\n",
    "    \n",
    "    for i in range(len(x_sorted_plot)):\n",
    "        if x_sorted_plot[i] < x < x_sorted_plot[i+1]:\n",
    "            avg_predict = (train_dict[x_sorted_plot[i]] + train_dict[x_sorted_plot[i+1]])/2\n",
    "            y_test_predict.append(avg_predict)\n",
    "            \n",
    "# len(y_test_predict)\n",
    "\n",
    "'''Compute RMSE on testing datasets'''\n",
    "rmse_test_ll = compute_rmse(np.array(y_test_predict), bdata_y_test)\n",
    "print('RMSE of testing set with Local Linear Regression is ', rmse_test_ll)"
   ]
  },
  {
   "cell_type": "markdown",
   "metadata": {},
   "source": [
    "---\n",
    "\n",
    "## Part 2: Nearest Neighbors\n"
   ]
  },
  {
   "cell_type": "markdown",
   "metadata": {},
   "source": [
    "### 2.1 Nearest Neighbors: Distance function\n",
    "Let's try and build a machine learning algorithm to beat the \"Average Value\" baseline that you computed above.  Soon you will implement the Nearest Neighbor algorithm, but first you need to create a distance metric to measure the distance (and similarity) between two instances.  Write a generic function to compute the L-Norm distance (called the [*p*-norm][1] distance on Wikipedia). Verify that your function works by computing the Euclidean distance between the points (3,4) and (6,8).\n",
    "[1]: https://en.wikipedia.org/wiki/Norm_(mathematics)#p-norm"
   ]
  },
  {
   "cell_type": "code",
   "execution_count": 16,
   "metadata": {},
   "outputs": [
    {
     "name": "stdout",
     "output_type": "stream",
     "text": [
      "5.0\n"
     ]
    }
   ],
   "source": [
    "\"\"\"\n",
    "Function\n",
    "--------\n",
    "distance\n",
    "\n",
    "Given two instances and a value for L, return the L-Norm distance between them\n",
    "\n",
    "Parameters\n",
    "----------\n",
    "x1, x2 : array\n",
    "    Array of numerical values corresponding to predictions for each of the N observations\n",
    "\n",
    "L: int\n",
    "    Value of L to use in computing distances\n",
    "\n",
    "Returns\n",
    "-------\n",
    "dist : int\n",
    "    The L-norm distance between instances\n",
    "\n",
    "Example\n",
    "-------\n",
    ">>> print(distance((3,4),(6,8),2))\n",
    "5\n",
    "\n",
    "\"\"\"\n",
    "def distance(x1, x2, L):\n",
    "    distance = 0\n",
    "    for i in range(len(x1)):\n",
    "        distance += abs(x1[i]-x2[i])**L\n",
    "    dist = distance**(1/L)\n",
    "    return dist\n",
    "print(distance((3,4),(6,8),2))"
   ]
  },
  {
   "cell_type": "markdown",
   "metadata": {},
   "source": [
    "### 2.2 Basic Nearest Neighbor algorithm\n",
    "\n",
    "Your next task is to implement a basic nearest neighbor algorithm from scratch.  Your simple model will use two input features (CRIM and RM) and a single output (MEDV).  In other words, you are modelling the relationship between median home value and crime rates and house size.\n",
    "\n",
    "Use your training data (bdata_train) to \"fit\" your model, although as you know, with Nearest Neighbors there is no real training, you just need to keep your training data in memory.  Write a function that predicts the median home value using the nearest neighbor algorithm we discussed in class.  Since this is a small dataset, you can simply compare your test instance to every instance in the training set, and return the MEDV value of the closest training instance.  Have your function take L as an input, where L is passed to the distance function.\n",
    "\n",
    "Make sure to do the following\n",
    "1. Fill in the function specification below\n",
    "2. Use your algorithm to predict the median home value of every instance in the test set. Report the RMSE (\"test RMSE\")\n",
    "3. Use your algorithm to predict the median home value of every instance in the training set and report the training RMSE.\n",
    "4. Create a scatter plot that shows the true value of each instance on the x-axis and the predicted value of each instance on the y-axis. Color the training instances in blue and the test instances in red. \n",
    "5. Report an estimate of the total time taken by your code to predict the nearest neighbors for all the values in the test data set.\n",
    "6. How does the performance (test RMSE and total runtime) of your nearest neighbors algorithm compare to the baseline in part 1.3?"
   ]
  },
  {
   "cell_type": "code",
   "execution_count": 17,
   "metadata": {},
   "outputs": [],
   "source": [
    "\"\"\"\n",
    "Function\n",
    "--------\n",
    "nneighbor\n",
    "\n",
    "    Given 5 inputs （testing and training data for both predictors and target, and L-norm),\n",
    "    return the predicted MEDV and RMSE\n",
    "\n",
    "Parameters\n",
    "----------\n",
    "y_test_data : dataframe\n",
    "    pandas dataframe of MEDV testing data for each of the observations\n",
    "    \n",
    "y_train_data : dataframe\n",
    "    pandas dataframe of MEDV training data for each of the observations\n",
    "    \n",
    "x_test_data : dataframe\n",
    "    pandas dataframe of selected predictors testing data for each of the observations\n",
    "    \n",
    "y_test_data : dataframe\n",
    "    pandas dataframe of selected predictors training data for each of the observations\n",
    "    \n",
    "L: int\n",
    "    Value of L to use in computing distances\n",
    "\n",
    "Returns\n",
    "-------\n",
    "y_predict : array\n",
    "    array of predicted values of MEDV\n",
    "rmse: float\n",
    "    measured RMSE of the predicted values and the true values\n",
    "\"\"\"\n",
    "import time\n",
    "def nneighbor(y_test_data, y_train_data, x_test_data, x_train_data, L):\n",
    "    start_time = time.time()\n",
    "\n",
    "    X_train = np.array(x_train_data)\n",
    "    y_train = np.array(y_train_data)\n",
    "    \n",
    "    X_test = np.array(x_test_data)\n",
    "    y_true = np.array(y_test_data)\n",
    "   \n",
    "    y_predict = [] # store the predicted y using the nearest neighbor's y\n",
    "    \n",
    "    for i in range(len(X_test)):\n",
    "\n",
    "        min_num, idx = 1000000000000000, 0 # min distance between ith instance and all other instances\n",
    "        for j in range(len(X_train)):\n",
    "            dist = distance(X_test[i], X_train[j], L)\n",
    "            if min_num > dist:\n",
    "                min_num, idx = dist, j # replace the min_num and idx of nearest neighbor j\n",
    "\n",
    "        y_predict.append(y_train[idx]) # append the predicted y where i and j are nearest neighbors\n",
    "\n",
    "    y_predict = np.array(y_predict)\n",
    "    \n",
    "    rmse = compute_rmse(y_predict, y_true)\n",
    "    \n",
    "    print(\"Time taken: {0:.2f} seconds\".format(time.time() - start_time))\n",
    "    return y_predict, rmse\n"
   ]
  },
  {
   "cell_type": "code",
   "execution_count": 18,
   "metadata": {},
   "outputs": [
    {
     "name": "stdout",
     "output_type": "stream",
     "text": [
      "Time taken: 0.13 seconds\n",
      "The testing RMSE is 7.378732023492235\n",
      "Time taken: 0.49 seconds\n",
      "The training RMSE is 0.0\n"
     ]
    }
   ],
   "source": [
    "'''2. Use n-neighbor algorithm for testing datasets, return testing RMSE'''\n",
    "testing_y_predict, testing_rmse = nneighbor(bdata_y_test_df, \n",
    "                                            bdata_y_train_df,\n",
    "                                            bdata_X_test_df.loc[:, ('CRIM', 'RM')],\n",
    "                                            bdata_X_train_df.loc[:, ('CRIM', 'RM')],2)\n",
    "print('The testing RMSE is', testing_rmse)\n",
    "\n",
    "'''3. Use n-neighbor algorithm for training datasets, return training RMSE'''\n",
    "training_y_predict, training_rmse = nneighbor(bdata_y_train_df,\n",
    "                                              bdata_y_train_df,\n",
    "                                              bdata_X_train_df.loc[:, ('CRIM', 'RM')],\n",
    "                                              bdata_X_train_df.loc[:, ('CRIM', 'RM')], 2)\n",
    "print('The training RMSE is', training_rmse)"
   ]
  },
  {
   "cell_type": "code",
   "execution_count": 19,
   "metadata": {},
   "outputs": [
    {
     "data": {
      "image/png": "[encoded data removed]",
      "text/plain": [
       "<Figure size 864x576 with 1 Axes>"
      ]
     },
     "metadata": {
      "needs_background": "light"
     },
     "output_type": "display_data"
    }
   ],
   "source": [
    "'''4. Scatterplot of true value of MEDV and predicted MEDV, blue for training, red for testing'''\n",
    "plt.figure(figsize=(12,8))\n",
    "plt.scatter(bdata_y_train, training_y_predict, c='b', marker='o', label='train')\n",
    "plt.scatter(bdata_y_test, testing_y_predict, c='r', marker='o', label='test')\n",
    "plt.xlabel('True Median Home Values')\n",
    "plt.ylabel('Predicted Median Home Values')\n",
    "plt.title('N-Neighbors Algorithm')\n",
    "plt.legend(loc='upper left')\n",
    "plt.show()"
   ]
  },
  {
   "cell_type": "markdown",
   "metadata": {},
   "source": [
    "'''5. Estimation of time taken for predicting NN for testing datasets'''\n",
    "The time taken is 0.12 seconds."
   ]
  },
  {
   "cell_type": "markdown",
   "metadata": {},
   "source": [
    "'''6. Comparing time and RMSe in 1.3 baseline model to 2.2 nearest-neighbor model'''\n",
    "1.3 Baseline model:\n",
    "Time taken: 0.00 seconds\n",
    "RMSE of testing set is  9.111396183724489\n",
    "\n",
    "2.2 Nearest Neighbor model:\n",
    "Time taken: 0.12 seconds\n",
    "The testing RMSE is 7.378732023492235\n",
    "\n",
    "The time taken for baseline model is much shorter than the NN model, meaning the basic model is more efficient. However, the NN performs better in accuracy of predictions. "
   ]
  },
  {
   "cell_type": "markdown",
   "metadata": {},
   "source": [
    "### 2.3 Results and Normalization\n",
    "\n",
    "If you were being astute, you would have noticed that we never normalized our features -- a big no-no with Nearest Neighbor algorithms.  Write a generic normalization function that takes as input an array of values for a given feature, and returns the normalized array (subtract the mean and divide by the standard deviation).\n",
    "\n",
    "Re-run the Nearest Neighbor algorithm on the normalized dataset (still just using CRIM and RM as input), and compare the RMSE from this method with your previous RMSE evaluations. What do you observe?\n",
    "\n",
    "*NOTE*: To normalize properly, best practice is to compute the mean and standard deviation on the training set, and use these values to normalize the testing dataset. However, for this problem set, it is okay if you separately normalize each dataset using the respective mean and standard deviation.\n",
    "\n",
    "*NOTE 2*: In this case, there might not be a major impact on RMSE; don't get confused if you find that to be the case."
   ]
  },
  {
   "cell_type": "code",
   "execution_count": 20,
   "metadata": {},
   "outputs": [],
   "source": [
    "\"\"\"\n",
    "Function\n",
    "--------\n",
    "normalize\n",
    "\n",
    "    given an array of raw data, use mean and standard deviation to normalize and return an array of normalizewd data\n",
    "\n",
    "Parameters\n",
    "----------\n",
    "raw_data : array\n",
    "\n",
    "    array of raw data of feature\n",
    "\n",
    "Returns\n",
    "-------\n",
    "normalized_data: array\n",
    "\n",
    "    array of normalized data of feature\n",
    "\n",
    "\"\"\"\n",
    "def normalize(raw_data):\n",
    "    mean = np.mean(raw_data)\n",
    "    sd = np.std(raw_data)\n",
    "    normalized_data = (raw_data-mean)/sd\n",
    "    \n",
    "    return normalized_data"
   ]
  },
  {
   "cell_type": "code",
   "execution_count": 21,
   "metadata": {},
   "outputs": [],
   "source": [
    "'''Normalize each feature in training and stack to a n-array, so that each time we just get what features we want'''\n",
    "all_train_lst = []\n",
    "for col in bdata_X_train_df.columns:\n",
    "    all_train_lst.append(normalize(bdata_X_train_df[col]).values)\n",
    "bdata_X_train_all = np.stack((all_train_lst), axis = 1) # normalized training set in array format\n",
    "\n",
    "'''Normalize each feature in testing and stack to a n-array, so that each time we just get what features we want'''\n",
    "all_test_lst = []\n",
    "for col in bdata_X_train_df.columns:\n",
    "    all_test_lst.append(normalize(bdata_X_test_df[col]).values)\n",
    "bdata_X_test_all = np.stack((all_test_lst), axis = 1) # normalized testing set in array format"
   ]
  },
  {
   "cell_type": "code",
   "execution_count": 22,
   "metadata": {},
   "outputs": [
    {
     "name": "stdout",
     "output_type": "stream",
     "text": [
      "Time taken: 0.16 seconds\n",
      "The CRIM, RM and L2 testing RMSE is 7.620721236002715\n",
      "Time taken: 0.51 seconds\n",
      "The CRIM, RM and L2 training RMSE is 0.0\n"
     ]
    }
   ],
   "source": [
    "'''Variation 1: Select CRIM and RM as features, convert normalized array to dataframe'''\n",
    "bdata_X_train1_df = pd.DataFrame(bdata_X_train_all[:,(0,5)], columns = None)\n",
    "bdata_X_test1_df = pd.DataFrame(bdata_X_test_all[:,(0,5)], columns = None)\n",
    "\n",
    "'''Run n-neighbor for normalized testing datasets, return y predict and testing RMSE'''\n",
    "testing_y_predict1, testing_rmse1 = nneighbor(bdata_y_test_df, bdata_y_train_df,\n",
    "                                              bdata_X_test1_df, bdata_X_train1_df, 2)\n",
    "print('The CRIM, RM and L2 testing RMSE is', testing_rmse1)\n",
    "\n",
    "'''Run n-neighbor for normalized training datasets, return y predict and training RMSE'''\n",
    "training_y_predict1, training_rmse1 = nneighbor(bdata_y_train_df, bdata_y_train_df, \n",
    "                                                      bdata_X_train1_df, bdata_X_train1_df, 2)\n",
    "print('The CRIM, RM and L2 training RMSE is', training_rmse1)"
   ]
  },
  {
   "cell_type": "code",
   "execution_count": 23,
   "metadata": {},
   "outputs": [
    {
     "data": {
      "image/png": "[encoded data removed]",
      "text/plain": [
       "<Figure size 864x576 with 1 Axes>"
      ]
     },
     "metadata": {
      "needs_background": "light"
     },
     "output_type": "display_data"
    }
   ],
   "source": [
    "'''After normalization, plot scatterplot of true value of MEDV and predicted MEDV, blue for training, red for testing'''\n",
    "plt.figure(figsize=(12,8))\n",
    "plt.scatter(bdata_y_train, training_y_predict1, c='b', marker='o', label='train')\n",
    "plt.scatter(bdata_y_test, testing_y_predict1, c='r', marker='o', label='test')\n",
    "plt.xlabel('True Median Home Values')\n",
    "plt.ylabel('Predicted Median Home Values')\n",
    "plt.title('N-Neighbors Algorithm (normalized)')\n",
    "plt.legend(loc='upper left')\n",
    "plt.show()"
   ]
  },
  {
   "cell_type": "markdown",
   "metadata": {},
   "source": [
    "It seems the RMSE on testing datasets are similar to not normalized situation."
   ]
  },
  {
   "cell_type": "markdown",
   "metadata": {},
   "source": [
    "### 2.4 Optimization\n",
    "\n",
    "A lot of the decisions we've made so far have been arbitrary.  Try to increase the performance of your nearest neighbor algorithm by adding features that you think might be relevant, and by using different values of L in the distance function.  Try a model that uses a different set of 2 features, then try at least one model that uses more than 4 features, then try using a different value of L.  If you're having fun, try a few different combinations of features and L!\n",
    "\n",
    "What combination of features and distance function provide the lowest RMSE?  Do your decisions affect the running time of the algorithm?\n",
    "\n",
    "*NOTE:* For this and all subsequent questions, you should use normalized features"
   ]
  },
  {
   "cell_type": "markdown",
   "metadata": {},
   "source": [
    "Reference: columns = ['CRIM','ZN','INDUS', 'CHAS', 'NOX','RM', 'AGE', 'DIS', 'RAD', 'TAX','PTRATIO', 'B', 'LSTAT']  "
   ]
  },
  {
   "cell_type": "code",
   "execution_count": 24,
   "metadata": {},
   "outputs": [
    {
     "name": "stdout",
     "output_type": "stream",
     "text": [
      "Time taken: 0.16 seconds\n",
      "The NOX, INDUS and L1 testing RMSE is 10.744227816485884\n",
      "Time taken: 0.53 seconds\n",
      "The NOX, INDUS and L1 training RMSE is 0.0\n"
     ]
    }
   ],
   "source": [
    "'''Variation 2: Select NOX and INDUS as features, convert normalized array to dataframe'''\n",
    "bdata_X_train2_df = pd.DataFrame(bdata_X_train_all[:,(2,4)], columns = None)\n",
    "bdata_X_test2_df = pd.DataFrame(bdata_X_test_all[:,(2,4)], columns = None)\n",
    "\n",
    "'''Run n-neighbor for normalized testing datasets, return y predict and testing RMSE'''\n",
    "testing_y_predict2, testing_rmse2 = nneighbor(bdata_y_test_df, bdata_y_train_df,\n",
    "                                              bdata_X_test2_df, bdata_X_train2_df, 1)\n",
    "print('The NOX, INDUS and L1 testing RMSE is', testing_rmse2)\n",
    "\n",
    "'''Run n-neighbor for normalized training datasets, return y predict and training RMSE'''\n",
    "training_y_predict2, training_rmse2 = nneighbor(bdata_y_train_df, bdata_y_train_df, \n",
    "                                                      bdata_X_train2_df, bdata_X_train2_df, 1)\n",
    "print('The NOX, INDUS and L1 training RMSE is', training_rmse2)"
   ]
  },
  {
   "cell_type": "code",
   "execution_count": 25,
   "metadata": {},
   "outputs": [
    {
     "name": "stdout",
     "output_type": "stream",
     "text": [
      "Time taken: 0.21 seconds\n",
      "The NOX, INDUS, CRIM, RM and L4 testing RMSE is 8.420586351899964\n",
      "Time taken: 0.79 seconds\n",
      "The NOX, INDUS, CRIM, RM and L4 training RMSE is 0.0\n"
     ]
    }
   ],
   "source": [
    "'''Variation 3: Select NOX, INDUS, CRIM and RM as features, convert normalized array to dataframe'''\n",
    "bdata_X_train3_df = pd.DataFrame(bdata_X_train_all[:,(2,4,0,5)], columns = None)\n",
    "bdata_X_test3_df = pd.DataFrame(bdata_X_test_all[:,(2,4,0,5)], columns = None)\n",
    "\n",
    "'''Run n-neighbor for normalized testing datasets, return y predict and testing RMSE'''\n",
    "testing_y_predict3, testing_rmse3 = nneighbor(bdata_y_test_df, bdata_y_train_df,\n",
    "                                              bdata_X_test3_df, bdata_X_train3_df, 4)\n",
    "print('The NOX, INDUS, CRIM, RM and L4 testing RMSE is', testing_rmse3)\n",
    "\n",
    "'''Run n-neighbor for normalized training datasets, return y predict and training RMSE'''\n",
    "training_y_predict3, training_rmse3 = nneighbor(bdata_y_train_df, bdata_y_train_df, \n",
    "                                                      bdata_X_train3_df, bdata_X_train3_df, 4)\n",
    "print('The NOX, INDUS, CRIM, RM and L4 training RMSE is', training_rmse3)"
   ]
  },
  {
   "cell_type": "code",
   "execution_count": 26,
   "metadata": {},
   "outputs": [
    {
     "name": "stdout",
     "output_type": "stream",
     "text": [
      "Time taken: 0.21 seconds\n",
      "The NOX, INDUS, CRIM, RM and L6 testing RMSE is 8.299515695768862\n",
      "Time taken: 0.77 seconds\n",
      "The NOX, INDUS, CRIM, RM and L6 training RMSE is 0.0\n"
     ]
    }
   ],
   "source": [
    "'''Variation 4: Only change L to 6, others are the same as above'''\n",
    "'''Run n-neighbor for normalized testing datasets, return y predict and testing RMSE'''\n",
    "testing_y_predict4, testing_rmse4 = nneighbor(bdata_y_test_df, bdata_y_train_df,\n",
    "                                              bdata_X_test3_df, bdata_X_train3_df, 6)\n",
    "print('The NOX, INDUS, CRIM, RM and L6 testing RMSE is', testing_rmse4)\n",
    "\n",
    "'''Run n-neighbor for normalized training datasets, return y predict and training RMSE'''\n",
    "training_y_predict4, training_rmse4 = nneighbor(bdata_y_train_df, bdata_y_train_df, \n",
    "                                                      bdata_X_train3_df, bdata_X_train3_df, 6)\n",
    "print('The NOX, INDUS, CRIM, RM and L6 training RMSE is', training_rmse4)"
   ]
  },
  {
   "cell_type": "code",
   "execution_count": 35,
   "metadata": {},
   "outputs": [
    {
     "name": "stdout",
     "output_type": "stream",
     "text": [
      "Time taken: 0.20 seconds\n",
      "The NOX, INDUS, CRIM, RM and L8 testing RMSE is 8.487389723214404\n",
      "Time taken: 0.75 seconds\n",
      "The NOX, INDUS, CRIM, RM and L8 training RMSE is 0.0\n"
     ]
    }
   ],
   "source": [
    "'''Variation 5: Only change L to 8, others are the same as above'''\n",
    "'''Run n-neighbor for normalized testing datasets, return y predict and testing RMSE'''\n",
    "testing_y_predict5, testing_rmse5 = nneighbor(bdata_y_test_df, bdata_y_train_df,\n",
    "                                              bdata_X_test3_df, bdata_X_train3_df, 8)\n",
    "print('The NOX, INDUS, CRIM, RM and L8 testing RMSE is', testing_rmse5)\n",
    "\n",
    "'''Run n-neighbor for normalized training datasets, return y predict and training RMSE'''\n",
    "training_y_predict5, training_rmse5 = nneighbor(bdata_y_train_df, bdata_y_train_df, \n",
    "                                                      bdata_X_train3_df, bdata_X_train3_df, 8)\n",
    "print('The NOX, INDUS, CRIM, RM and L8 training RMSE is', training_rmse5)"
   ]
  },
  {
   "cell_type": "markdown",
   "metadata": {},
   "source": [
    "For variations 3 to 5, I find that with the same features, it is not necessarily that higher L always raises lower RMSE. Also, while the four features sometimes can raise lower RMSE than two features, but it is highly depends on what features we select. Like we have lower RMSE for two features (CRIM and RM) than the RMSE for two alternative features (NOX and INDUS). My takeaway is we can play around L and different features to find a better combination that raises lower RMSE. "
   ]
  },
  {
   "cell_type": "markdown",
   "metadata": {},
   "source": [
    "### 2.5 Cross-Validation\n",
    "\n",
    "The more you tinkered with your features and distance function, the higher the risk that you overfit your training data.  One solution to this sort of overfitting is to use cross-validation (see K-fold [cross-validation][1].  Here you must implement a simple k-fold cross-validation algorithm yourself.  The function you write here will be used several more times in this problem set, so do your best to write efficient code! (Note that the sklearn package has a built-in [K-fold][2] iterator -- you should *not* be invoking that or any related algorithms in this section of the problem set.)\n",
    "\n",
    "Use 10-fold cross-validation and report the average RMSE for Nearest Neighbors using Euclidean distance with CRIM and RM input features, as well as the total running time for the full run of 10 folds.  In other words, randomly divide your dataset into 10 equally-sized samples, and for each of 10 iterations (the \"folds\"), use 9 samples as \"training data\" (even though there is no training in k-NN!), and the remaining 1 sample for testing.  Compute the RMSE of that particular test set, then move on to the next iteration.  Report the average RMSE across the 10 iterations. What do you observe?\n",
    "[1]: http://en.wikipedia.org/wiki/Cross-validation_(statistics)\n",
    "[2]: http://scikit-learn.org/stable/modules/cross_validation.html#cross-validation"
   ]
  },
  {
   "cell_type": "code",
   "execution_count": 27,
   "metadata": {},
   "outputs": [],
   "source": [
    "'''randomly select indeces for train and test datasets'''\n",
    "np.random.seed(seed=13579)\n",
    "train_idx_kf = list(np.random.choice(range(len(data)), int(len(data) * .8), replace=False))\n",
    "test_idx_kf = list(set(range(len(data))) - set(train_idx))\n",
    "\n",
    "'''divide them into train and test datasets'''\n",
    "bdata_X_train_kf = data[train_idx_kf]\n",
    "bdata_y_train_kf = target[train_idx_kf]\n",
    "\n",
    "bdata_X_test_kf = data[test_idx_kf]\n",
    "bdata_y_test_kf = target[test_idx_kf]\n",
    "\n",
    "'''change to dataframes'''\n",
    "bdata_X_train_kf_df = pd.DataFrame(bdata_X_train_kf, columns = ['CRIM','ZN','INDUS', 'CHAS', 'NOX',\n",
    "                                                                'RM', 'AGE', 'DIS', 'RAD', 'TAX',\n",
    "                                                                'PTRATIO', 'B', 'LSTAT'])\n",
    "bdata_X_test_kf_df = pd.DataFrame(bdata_X_test_kf, columns = ['CRIM','ZN','INDUS', 'CHAS', 'NOX',\n",
    "                                                              'RM', 'AGE', 'DIS', 'RAD', 'TAX',\n",
    "                                                              'PTRATIO', 'B', 'LSTAT'])\n",
    "bdata_y_train_kf_df = pd.DataFrame(bdata_y_train_kf, columns = ['MEDV'])\n",
    "bdata_y_test_kf_df = pd.DataFrame(bdata_y_test_kf, columns = ['MEDV'])\n",
    "\n",
    "'''normalize each feature and stack to a narray, so that each time we just get what features we want'''\n",
    "all_lst = []\n",
    "for col in bdata_X_train_kf_df.columns:\n",
    "    all_lst.append(normalize(bdata_X_train_kf_df[col]).values)\n",
    "bdata_X_train_kf_all = np.stack((all_lst), axis = 1) # normalized training set in array format"
   ]
  },
  {
   "cell_type": "code",
   "execution_count": 28,
   "metadata": {},
   "outputs": [
    {
     "name": "stdout",
     "output_type": "stream",
     "text": [
      "Time taken: 0.04 seconds\n",
      "The RMSE for 1th fold:  6.406988372082472\n",
      "Time taken: 0.04 seconds\n",
      "The RMSE for 2th fold:  4.833658035070334\n",
      "Time taken: 0.04 seconds\n",
      "The RMSE for 3th fold:  4.770089097700377\n",
      "Time taken: 0.04 seconds\n",
      "The RMSE for 4th fold:  8.838085199860885\n",
      "Time taken: 0.04 seconds\n",
      "The RMSE for 5th fold:  5.224772722329651\n",
      "Time taken: 0.04 seconds\n",
      "The RMSE for 6th fold:  10.909032954391511\n",
      "Time taken: 0.04 seconds\n",
      "The RMSE for 7th fold:  4.880061475022625\n",
      "Time taken: 0.04 seconds\n",
      "The RMSE for 8th fold:  5.560125897855192\n",
      "Time taken: 0.04 seconds\n",
      "The RMSE for 9th fold:  10.055657611514029\n",
      "Time taken: 0.04 seconds\n",
      "The RMSE for 10th fold:  5.224485620613765\n",
      "\n",
      "The average RMSE of cross validation:  6.670295698644084\n"
     ]
    }
   ],
   "source": [
    "from statistics import mean\n",
    "\n",
    "'''X is normalized array of predictors, y is array of MEDV, k folds for cross-validation, L for norm'''\n",
    "def k_fold_cv(X, y, k, L):\n",
    "    n = int(len(X)//k) # the interval of one fold\n",
    "    rmse_lst = []\n",
    "    for i in range(k):\n",
    "        X_va = X[n*i:n*(i+1)]\n",
    "        y_va = y[n*i:n*(i+1)]\n",
    "        X_tr = np.concatenate((X[:n*i], X[n*(i+1):]), axis = 0)\n",
    "        y_tr = np.concatenate((y[:n*i], y[n*(i+1):]), axis = 0)\n",
    "    \n",
    "        X_va_df = pd.DataFrame(X_va, columns = None)\n",
    "        X_tr_df = pd.DataFrame(X_tr, columns = None)\n",
    "        y_va_df = pd.DataFrame(y_va, columns = None)\n",
    "        y_tr_df = pd.DataFrame(y_tr, columns = None)\n",
    "    \n",
    "        '''Run nearest neighbor for normalized  datasets, return y predict and testing RMSE'''\n",
    "        va_y_predict, va_rmse = nneighbor(y_va_df, y_tr_df, X_va_df, X_tr_df, L)\n",
    "        print('The RMSE for {}th fold: '.format(i+1), va_rmse)\n",
    "        rmse_lst.append(va_rmse)\n",
    "\n",
    "    avg_rmse = mean(rmse_lst)\n",
    "    print('\\nThe average RMSE of cross validation: ', avg_rmse)\n",
    "\n",
    "'''call 10-fold cross validation on nearest neighbor model'''\n",
    "k_fold_cv(bdata_X_train_kf_all[:,(0,5)], bdata_y_train_df, 10, 2)"
   ]
  },
  {
   "cell_type": "markdown",
   "metadata": {},
   "source": [
    "I find that 10-fold cross validation has on average lower RMSE than what we did before with the whole training set."
   ]
  },
  {
   "cell_type": "markdown",
   "metadata": {},
   "source": [
    "### 2.6 K-Nearest Neighbors Algorithm\n",
    "\n",
    "Implement the K-Nearest Neighbors algorithm.  Using 10-fold cross validation and L2 normalization, report the RMSE for K=3 and the running time of the algorithm."
   ]
  },
  {
   "cell_type": "code",
   "execution_count": 29,
   "metadata": {},
   "outputs": [],
   "source": [
    "\"\"\"\n",
    "Function\n",
    "--------\n",
    "knn\n",
    "\n",
    "    Given 5 inputs（testing and training data for both predictors and target, L-norm and K for number of nearest neighbors), \n",
    "    return the predicted MEDV and average RMSE\n",
    "\n",
    "Parameters\n",
    "----------\n",
    "y_test_data : dataframe\n",
    "    pandas dataframe of MEDV testing data for each of the observations\n",
    "    \n",
    "y_train_data : dataframe\n",
    "    pandas dataframe of MEDV training data for each of the observations\n",
    "    \n",
    "x_test_data : dataframe\n",
    "    pandas dataframe of selected predictors testing data for each of the observations\n",
    "    \n",
    "y_test_data : dataframe\n",
    "    pandas dataframe of selected predictors training data for each of the observations\n",
    "    \n",
    "L: int\n",
    "    Value of L to use in computing distances\n",
    "\n",
    "K: int\n",
    "    Value of K as the number of nearest neighbors to predict the MEDV of each observation\n",
    "\n",
    "Returns\n",
    "-------\n",
    "y_predict : array\n",
    "    array of predicted values of MEDV\n",
    "rmse: float\n",
    "    measured RMSE of the predicted values and the true values\n",
    "    \n",
    "\"\"\"\n",
    "def knn(y_test_data, y_train_data, x_test_data, x_train_data, L, K):\n",
    "    start_time = time.time()\n",
    "\n",
    "    X_train = np.array(x_train_data)\n",
    "    y_train = np.array(y_train_data)\n",
    "    \n",
    "    X_test = np.array(x_test_data)\n",
    "    y_true = np.array(y_test_data)\n",
    "   \n",
    "    y_predict = [] # store list of the predicted y's for one datapoint\n",
    "    \n",
    "    for i in range(len(X_test)):\n",
    "        min_lst = []\n",
    "        for j in range(len(X_train)):\n",
    "            dist = distance(X_test[i], X_train[j], L)\n",
    "            min_lst.append((dist,j))\n",
    "            min_lst.sort()\n",
    "            min_lst = min_lst[0:K] # sort distance and get the K nearest neighbors\n",
    "        \n",
    "        total = 0\n",
    "        for m in range(K):\n",
    "            index = min_lst[m][1]\n",
    "            total += y_train[index]\n",
    "        \n",
    "        y_predict.append(total/K) # append the predicted y as mean of K nearest neighbors\n",
    "    \n",
    "    rmse = compute_rmse(y_predict, y_true)\n",
    "    \n",
    "    print(\"Time taken: {0:.2f} seconds\".format(time.time() - start_time))\n",
    "    \n",
    "    return y_predict, rmse"
   ]
  },
  {
   "cell_type": "code",
   "execution_count": 30,
   "metadata": {},
   "outputs": [
    {
     "name": "stdout",
     "output_type": "stream",
     "text": [
      "Time taken: 0.05 seconds\n",
      "The RMSE for 1th fold:  4.812553030010856\n",
      "Time taken: 0.05 seconds\n",
      "The RMSE for 2th fold:  4.270096277863325\n",
      "Time taken: 0.05 seconds\n",
      "The RMSE for 3th fold:  3.7153884199516893\n",
      "Time taken: 0.05 seconds\n",
      "The RMSE for 4th fold:  4.68185029899742\n",
      "Time taken: 0.05 seconds\n",
      "The RMSE for 5th fold:  3.898030129294653\n",
      "Time taken: 0.05 seconds\n",
      "The RMSE for 6th fold:  8.888530374714497\n",
      "Time taken: 0.05 seconds\n",
      "The RMSE for 7th fold:  4.340615675735926\n",
      "Time taken: 0.05 seconds\n",
      "The RMSE for 8th fold:  4.526809030652829\n",
      "Time taken: 0.05 seconds\n",
      "The RMSE for 9th fold:  8.981736097956416\n",
      "Time taken: 0.05 seconds\n",
      "The RMSE for 10th fold:  4.144377047411482\n",
      "\n",
      "The average RMSE of KNN when K = 3 across 10-fold cross validation:  5.225998638258909 \n",
      "\n"
     ]
    }
   ],
   "source": [
    "def knn_k_fold_cv(X, y, k, L, K):\n",
    "    n = int(len(X)/k) # the length of one fold\n",
    "    rmse_lst = []\n",
    "    for i in range(k):\n",
    "        X_va = X[n*i:n*(i+1)]\n",
    "        y_va = y[n*i:n*(i+1)]\n",
    "        X_tr = np.concatenate((X[:n*i], X[n*(i+1):]), axis = 0)\n",
    "        y_tr = np.concatenate((y[:n*i], y[n*(i+1):]), axis = 0)\n",
    "    \n",
    "        X_va_df = pd.DataFrame(X_va, columns = None)\n",
    "        X_tr_df = pd.DataFrame(X_tr, columns = None)\n",
    "        y_va_df = pd.DataFrame(y_va, columns = None)\n",
    "        y_tr_df = pd.DataFrame(y_tr, columns = None)\n",
    "    \n",
    "        '''Run nearest neighbor for normalized  datasets, return y predict and testing RMSE'''\n",
    "        va_y_predict, va_rmse = knn(y_va_df, y_tr_df, X_va_df, X_tr_df, L, K)\n",
    "        print('The RMSE for {}th fold: '.format(i+1), va_rmse)\n",
    "        rmse_lst.append(va_rmse)\n",
    "\n",
    "    avg_rmse = mean(rmse_lst)\n",
    "    print('\\nThe average RMSE of KNN when K = {} across {}-fold cross validation: '.format(K, k), avg_rmse, '\\n')\n",
    "    return avg_rmse\n",
    "\n",
    "'''call 10-fold cross validation on K-nearest neighbor model where K = 3'''\n",
    "avg_rmse_K3 = knn_k_fold_cv(bdata_X_train_kf_all[:,(0,5)], bdata_y_train_df, 10, 2, 3)"
   ]
  },
  {
   "cell_type": "markdown",
   "metadata": {},
   "source": [
    "### 2.7 Using cross validation to find K\n",
    "\n",
    "What is the best choice of K?  Compute the RMSE for values of K between 1 and 25 using 10-fold cross-validation.  Use the following features in your model, and don't forget to normalize: CRIM, ZN, RM, AGE, DIS, TAX.  Create a graph that shows how RMSE changes as K increases from 1 to 25.  Label your axes, and summarize what you see.  What do you think is a reasonable choice of K for this model?"
   ]
  },
  {
   "cell_type": "markdown",
   "metadata": {},
   "source": [
    "Reference: columns = ['CRIM','ZN','INDUS', 'CHAS', 'NOX','RM', 'AGE', 'DIS', 'RAD', 'TAX','PTRATIO', 'B', 'LSTAT']                                     "
   ]
  },
  {
   "cell_type": "code",
   "execution_count": 31,
   "metadata": {},
   "outputs": [
    {
     "name": "stdout",
     "output_type": "stream",
     "text": [
      "Time taken: 0.11 seconds\n",
      "The RMSE for 1th fold:  4.197797041306309\n",
      "Time taken: 0.10 seconds\n",
      "The RMSE for 2th fold:  4.346492839060016\n",
      "Time taken: 0.10 seconds\n",
      "The RMSE for 3th fold:  5.144487340833876\n",
      "Time taken: 0.10 seconds\n",
      "The RMSE for 4th fold:  4.463574800538241\n",
      "Time taken: 0.10 seconds\n",
      "The RMSE for 5th fold:  4.202112563937334\n",
      "Time taken: 0.10 seconds\n",
      "The RMSE for 6th fold:  8.827797007181351\n",
      "Time taken: 0.10 seconds\n",
      "The RMSE for 7th fold:  3.278109211115457\n",
      "Time taken: 0.10 seconds\n",
      "The RMSE for 8th fold:  4.917799304567033\n",
      "Time taken: 0.10 seconds\n",
      "The RMSE for 9th fold:  9.388077545482888\n",
      "Time taken: 0.10 seconds\n",
      "The RMSE for 10th fold:  4.104509714935512\n",
      "\n",
      "The average RMSE of KNN when K = 1 across 10-fold cross validation:  5.287075736895802 \n",
      "\n",
      "Time taken: 0.10 seconds\n",
      "The RMSE for 1th fold:  3.5765730804780156\n",
      "Time taken: 0.13 seconds\n",
      "The RMSE for 2th fold:  4.362804430638623\n",
      "Time taken: 0.12 seconds\n",
      "The RMSE for 3th fold:  4.372613634887033\n",
      "Time taken: 0.10 seconds\n",
      "The RMSE for 4th fold:  4.205502348114908\n",
      "Time taken: 0.10 seconds\n",
      "The RMSE for 5th fold:  3.5582035495457536\n",
      "Time taken: 0.10 seconds\n",
      "The RMSE for 6th fold:  9.041632872440685\n",
      "Time taken: 0.11 seconds\n",
      "The RMSE for 7th fold:  2.3547292838031293\n",
      "Time taken: 0.11 seconds\n",
      "The RMSE for 8th fold:  4.574412530587944\n",
      "Time taken: 0.10 seconds\n",
      "The RMSE for 9th fold:  9.51766778155237\n",
      "Time taken: 0.10 seconds\n",
      "The RMSE for 10th fold:  3.69040986883571\n",
      "\n",
      "The average RMSE of KNN when K = 2 across 10-fold cross validation:  4.925454938088417 \n",
      "\n",
      "Time taken: 0.10 seconds\n",
      "The RMSE for 1th fold:  3.5383298005948762\n",
      "Time taken: 0.11 seconds\n",
      "The RMSE for 2th fold:  3.7618553342141636\n",
      "Time taken: 0.10 seconds\n",
      "The RMSE for 3th fold:  4.0368579640881865\n",
      "Time taken: 0.11 seconds\n",
      "The RMSE for 4th fold:  3.840963420809941\n",
      "Time taken: 0.11 seconds\n",
      "The RMSE for 5th fold:  3.338475200846438\n",
      "Time taken: 0.10 seconds\n",
      "The RMSE for 6th fold:  8.940128013003443\n",
      "Time taken: 0.10 seconds\n",
      "The RMSE for 7th fold:  2.6435718681780194\n",
      "Time taken: 0.10 seconds\n",
      "The RMSE for 8th fold:  4.307664358120561\n",
      "Time taken: 0.10 seconds\n",
      "The RMSE for 9th fold:  9.810534304171885\n",
      "Time taken: 0.11 seconds\n",
      "The RMSE for 10th fold:  3.1745909622780975\n",
      "\n",
      "The average RMSE of KNN when K = 3 across 10-fold cross validation:  4.739297122630561 \n",
      "\n",
      "Time taken: 0.11 seconds\n",
      "The RMSE for 1th fold:  3.645963092928945\n",
      "Time taken: 0.11 seconds\n",
      "The RMSE for 2th fold:  3.404305637718212\n",
      "Time taken: 0.12 seconds\n",
      "The RMSE for 3th fold:  3.946279893773374\n",
      "Time taken: 0.11 seconds\n",
      "The RMSE for 4th fold:  3.527107083007263\n",
      "Time taken: 0.11 seconds\n",
      "The RMSE for 5th fold:  3.3714726937942117\n",
      "Time taken: 0.11 seconds\n",
      "The RMSE for 6th fold:  8.680629477463025\n",
      "Time taken: 0.12 seconds\n",
      "The RMSE for 7th fold:  2.456817682490909\n",
      "Time taken: 0.11 seconds\n",
      "The RMSE for 8th fold:  4.540541336118415\n",
      "Time taken: 0.11 seconds\n",
      "The RMSE for 9th fold:  9.917995796782735\n",
      "Time taken: 0.11 seconds\n",
      "The RMSE for 10th fold:  3.245785729218736\n",
      "\n",
      "The average RMSE of KNN when K = 4 across 10-fold cross validation:  4.6736898423295825 \n",
      "\n",
      "Time taken: 0.11 seconds\n",
      "The RMSE for 1th fold:  3.751025193197188\n",
      "Time taken: 0.11 seconds\n",
      "The RMSE for 2th fold:  3.552876299563496\n",
      "Time taken: 0.11 seconds\n",
      "The RMSE for 3th fold:  3.79698169603173\n",
      "Time taken: 0.11 seconds\n",
      "The RMSE for 4th fold:  3.569568601385888\n",
      "Time taken: 0.11 seconds\n",
      "The RMSE for 5th fold:  3.4197192867251545\n",
      "Time taken: 0.11 seconds\n",
      "The RMSE for 6th fold:  7.954542098700591\n",
      "Time taken: 0.11 seconds\n",
      "The RMSE for 7th fold:  2.555887321460006\n",
      "Time taken: 0.11 seconds\n",
      "The RMSE for 8th fold:  4.188498537662393\n",
      "Time taken: 0.11 seconds\n",
      "The RMSE for 9th fold:  10.05649243026613\n",
      "Time taken: 0.12 seconds\n",
      "The RMSE for 10th fold:  3.125333582195667\n",
      "\n",
      "The average RMSE of KNN when K = 5 across 10-fold cross validation:  4.597092504718824 \n",
      "\n",
      "Time taken: 0.10 seconds\n",
      "The RMSE for 1th fold:  3.950629345081897\n",
      "Time taken: 0.11 seconds\n",
      "The RMSE for 2th fold:  3.4847734263985273\n",
      "Time taken: 0.10 seconds\n",
      "The RMSE for 3th fold:  3.499067336051454\n",
      "Time taken: 0.10 seconds\n",
      "The RMSE for 4th fold:  3.800984886987991\n",
      "Time taken: 0.11 seconds\n",
      "The RMSE for 5th fold:  3.30104150231408\n",
      "Time taken: 0.10 seconds\n",
      "The RMSE for 6th fold:  8.114830387766723\n",
      "Time taken: 0.10 seconds\n",
      "The RMSE for 7th fold:  2.5563741140746816\n",
      "Time taken: 0.10 seconds\n",
      "The RMSE for 8th fold:  3.811292613915768\n",
      "Time taken: 0.12 seconds\n",
      "The RMSE for 9th fold:  10.134618202532895\n",
      "Time taken: 0.11 seconds\n",
      "The RMSE for 10th fold:  3.3755750538899956\n",
      "\n",
      "The average RMSE of KNN when K = 6 across 10-fold cross validation:  4.602918686901401 \n",
      "\n",
      "Time taken: 0.11 seconds\n",
      "The RMSE for 1th fold:  4.3141112784035816\n",
      "Time taken: 0.11 seconds\n",
      "The RMSE for 2th fold:  3.2575508829643844\n",
      "Time taken: 0.11 seconds\n",
      "The RMSE for 3th fold:  3.5454066287614032\n",
      "Time taken: 0.12 seconds\n",
      "The RMSE for 4th fold:  4.228600989278914\n",
      "Time taken: 0.11 seconds\n",
      "The RMSE for 5th fold:  3.2622571064481463\n",
      "Time taken: 0.11 seconds\n",
      "The RMSE for 6th fold:  8.070970909907398\n",
      "Time taken: 0.11 seconds\n",
      "The RMSE for 7th fold:  2.750790238963253\n",
      "Time taken: 0.11 seconds\n",
      "The RMSE for 8th fold:  3.874316924653049\n",
      "Time taken: 0.11 seconds\n",
      "The RMSE for 9th fold:  10.21233023239604\n",
      "Time taken: 0.11 seconds\n",
      "The RMSE for 10th fold:  3.379179951239227\n",
      "\n",
      "The average RMSE of KNN when K = 7 across 10-fold cross validation:  4.68955151430154 \n",
      "\n",
      "Time taken: 0.12 seconds\n",
      "The RMSE for 1th fold:  4.5630153818500325\n",
      "Time taken: 0.13 seconds\n",
      "The RMSE for 2th fold:  3.3757342951201\n",
      "Time taken: 0.11 seconds\n",
      "The RMSE for 3th fold:  3.8592851710193683\n",
      "Time taken: 0.14 seconds\n",
      "The RMSE for 4th fold:  4.181262144974888\n",
      "Time taken: 0.25 seconds\n",
      "The RMSE for 5th fold:  3.3476017534945823\n",
      "Time taken: 0.12 seconds\n",
      "The RMSE for 6th fold:  8.01936693846528\n",
      "Time taken: 0.11 seconds\n",
      "The RMSE for 7th fold:  2.8512812361287687\n",
      "Time taken: 0.11 seconds\n",
      "The RMSE for 8th fold:  3.7712046318119627\n",
      "Time taken: 0.11 seconds\n",
      "The RMSE for 9th fold:  10.352492151651214\n",
      "Time taken: 0.11 seconds\n",
      "The RMSE for 10th fold:  3.3660924118330446\n",
      "\n",
      "The average RMSE of KNN when K = 8 across 10-fold cross validation:  4.768733611634924 \n",
      "\n",
      "Time taken: 0.11 seconds\n",
      "The RMSE for 1th fold:  4.39832529857658\n",
      "Time taken: 0.12 seconds\n",
      "The RMSE for 2th fold:  3.2906193833267814\n",
      "Time taken: 0.21 seconds\n",
      "The RMSE for 3th fold:  3.6083066032711066\n",
      "Time taken: 0.12 seconds\n",
      "The RMSE for 4th fold:  4.30622575429036\n",
      "Time taken: 0.11 seconds\n",
      "The RMSE for 5th fold:  3.3669558915003095\n",
      "Time taken: 0.11 seconds\n",
      "The RMSE for 6th fold:  8.023912756624783\n",
      "Time taken: 0.10 seconds\n",
      "The RMSE for 7th fold:  3.0603462444309253\n",
      "Time taken: 0.11 seconds\n",
      "The RMSE for 8th fold:  3.782214714707264\n",
      "Time taken: 0.11 seconds\n",
      "The RMSE for 9th fold:  10.356895925414937\n",
      "Time taken: 0.11 seconds\n",
      "The RMSE for 10th fold:  3.4260512489590442\n",
      "\n",
      "The average RMSE of KNN when K = 9 across 10-fold cross validation:  4.761985382110209 \n",
      "\n",
      "Time taken: 0.11 seconds\n",
      "The RMSE for 1th fold:  4.493272471150621\n",
      "Time taken: 0.11 seconds\n",
      "The RMSE for 2th fold:  3.451860367975506\n",
      "Time taken: 0.11 seconds\n",
      "The RMSE for 3th fold:  3.657329285147837\n",
      "Time taken: 0.11 seconds\n",
      "The RMSE for 4th fold:  4.281236970783094\n",
      "Time taken: 0.11 seconds\n",
      "The RMSE for 5th fold:  3.336832330219785\n",
      "Time taken: 0.11 seconds\n",
      "The RMSE for 6th fold:  8.048113598850355\n",
      "Time taken: 0.12 seconds\n",
      "The RMSE for 7th fold:  2.980452566305997\n",
      "Time taken: 0.12 seconds\n",
      "The RMSE for 8th fold:  3.6875066101635663\n",
      "Time taken: 0.12 seconds\n",
      "The RMSE for 9th fold:  10.343117155867471\n",
      "Time taken: 0.11 seconds\n",
      "The RMSE for 10th fold:  3.4783067001056707\n",
      "\n",
      "The average RMSE of KNN when K = 10 across 10-fold cross validation:  4.775802805656991 \n",
      "\n",
      "Time taken: 0.12 seconds\n",
      "The RMSE for 1th fold:  4.640456526771855\n",
      "Time taken: 0.12 seconds\n",
      "The RMSE for 2th fold:  3.354431508288946\n",
      "Time taken: 0.19 seconds\n",
      "The RMSE for 3th fold:  3.579639681299485\n",
      "Time taken: 0.11 seconds\n",
      "The RMSE for 4th fold:  4.212231304425657\n",
      "Time taken: 0.12 seconds\n",
      "The RMSE for 5th fold:  3.3604001631053326\n",
      "Time taken: 0.11 seconds\n",
      "The RMSE for 6th fold:  8.038199219614732\n",
      "Time taken: 0.12 seconds\n",
      "The RMSE for 7th fold:  2.98559246996207\n",
      "Time taken: 0.12 seconds\n",
      "The RMSE for 8th fold:  3.6883054520250917\n",
      "Time taken: 0.12 seconds\n",
      "The RMSE for 9th fold:  10.406984105965481\n"
     ]
    },
    {
     "name": "stdout",
     "output_type": "stream",
     "text": [
      "Time taken: 0.21 seconds\n",
      "The RMSE for 10th fold:  3.3385105799685557\n",
      "\n",
      "The average RMSE of KNN when K = 11 across 10-fold cross validation:  4.76047510114272 \n",
      "\n",
      "Time taken: 0.12 seconds\n",
      "The RMSE for 1th fold:  4.728616524535598\n",
      "Time taken: 0.12 seconds\n",
      "The RMSE for 2th fold:  3.4276687696515316\n",
      "Time taken: 0.12 seconds\n",
      "The RMSE for 3th fold:  3.506198628064936\n",
      "Time taken: 0.12 seconds\n",
      "The RMSE for 4th fold:  4.1936913185164215\n",
      "Time taken: 0.12 seconds\n",
      "The RMSE for 5th fold:  3.4094125227082746\n",
      "Time taken: 0.14 seconds\n",
      "The RMSE for 6th fold:  8.104663116756372\n",
      "Time taken: 0.12 seconds\n",
      "The RMSE for 7th fold:  3.004966086423533\n",
      "Time taken: 0.11 seconds\n",
      "The RMSE for 8th fold:  3.7355153128822507\n",
      "Time taken: 0.11 seconds\n",
      "The RMSE for 9th fold:  10.504066507521953\n",
      "Time taken: 0.11 seconds\n",
      "The RMSE for 10th fold:  3.2594272993034283\n",
      "\n",
      "The average RMSE of KNN when K = 12 across 10-fold cross validation:  4.7874226086364295 \n",
      "\n",
      "Time taken: 0.11 seconds\n",
      "The RMSE for 1th fold:  4.709464221590167\n",
      "Time taken: 0.11 seconds\n",
      "The RMSE for 2th fold:  3.5010630253813355\n",
      "Time taken: 0.12 seconds\n",
      "The RMSE for 3th fold:  3.5879950640826768\n",
      "Time taken: 0.12 seconds\n",
      "The RMSE for 4th fold:  4.161613997608231\n",
      "Time taken: 0.11 seconds\n",
      "The RMSE for 5th fold:  3.5251031291305392\n",
      "Time taken: 0.11 seconds\n",
      "The RMSE for 6th fold:  8.179682669876726\n",
      "Time taken: 0.12 seconds\n",
      "The RMSE for 7th fold:  3.108938725674728\n",
      "Time taken: 0.12 seconds\n",
      "The RMSE for 8th fold:  3.798344197022336\n",
      "Time taken: 0.11 seconds\n",
      "The RMSE for 9th fold:  10.497666407349778\n",
      "Time taken: 0.11 seconds\n",
      "The RMSE for 10th fold:  3.2990051396205193\n",
      "\n",
      "The average RMSE of KNN when K = 13 across 10-fold cross validation:  4.836887657733704 \n",
      "\n",
      "Time taken: 0.11 seconds\n",
      "The RMSE for 1th fold:  4.728688496608672\n",
      "Time taken: 0.12 seconds\n",
      "The RMSE for 2th fold:  3.529452608307089\n",
      "Time taken: 0.11 seconds\n",
      "The RMSE for 3th fold:  3.641626367715504\n",
      "Time taken: 0.11 seconds\n",
      "The RMSE for 4th fold:  4.128693151937686\n",
      "Time taken: 0.11 seconds\n",
      "The RMSE for 5th fold:  3.5006049039955296\n",
      "Time taken: 0.11 seconds\n",
      "The RMSE for 6th fold:  8.05985951857622\n",
      "Time taken: 0.11 seconds\n",
      "The RMSE for 7th fold:  3.0449623837360207\n",
      "Time taken: 0.11 seconds\n",
      "The RMSE for 8th fold:  3.699773503823151\n",
      "Time taken: 0.11 seconds\n",
      "The RMSE for 9th fold:  10.603135606690953\n",
      "Time taken: 0.11 seconds\n",
      "The RMSE for 10th fold:  3.265885236432998\n",
      "\n",
      "The average RMSE of KNN when K = 14 across 10-fold cross validation:  4.820268177782382 \n",
      "\n",
      "Time taken: 0.11 seconds\n",
      "The RMSE for 1th fold:  4.843923111601908\n",
      "Time taken: 0.12 seconds\n",
      "The RMSE for 2th fold:  3.632324324726524\n",
      "Time taken: 0.12 seconds\n",
      "The RMSE for 3th fold:  3.6048433468814634\n",
      "Time taken: 0.12 seconds\n",
      "The RMSE for 4th fold:  4.160620146083994\n",
      "Time taken: 0.12 seconds\n",
      "The RMSE for 5th fold:  3.524624802727235\n",
      "Time taken: 0.12 seconds\n",
      "The RMSE for 6th fold:  7.958068931035412\n",
      "Time taken: 0.12 seconds\n",
      "The RMSE for 7th fold:  3.0791274016441017\n",
      "Time taken: 0.12 seconds\n",
      "The RMSE for 8th fold:  3.6648731977458042\n",
      "Time taken: 0.12 seconds\n",
      "The RMSE for 9th fold:  10.56146580735837\n",
      "Time taken: 0.12 seconds\n",
      "The RMSE for 10th fold:  3.1412324191487504\n",
      "\n",
      "The average RMSE of KNN when K = 15 across 10-fold cross validation:  4.817110348895357 \n",
      "\n",
      "Time taken: 0.12 seconds\n",
      "The RMSE for 1th fold:  4.977825143982311\n",
      "Time taken: 0.12 seconds\n",
      "The RMSE for 2th fold:  3.572398118954899\n",
      "Time taken: 0.12 seconds\n",
      "The RMSE for 3th fold:  3.7217236010348747\n",
      "Time taken: 0.11 seconds\n",
      "The RMSE for 4th fold:  4.1996602820198445\n",
      "Time taken: 0.12 seconds\n",
      "The RMSE for 5th fold:  3.59502871272435\n",
      "Time taken: 0.12 seconds\n",
      "The RMSE for 6th fold:  7.808873283203218\n",
      "Time taken: 0.12 seconds\n",
      "The RMSE for 7th fold:  3.1982641471097257\n",
      "Time taken: 0.12 seconds\n",
      "The RMSE for 8th fold:  3.722257537016347\n",
      "Time taken: 0.11 seconds\n",
      "The RMSE for 9th fold:  10.611357187805313\n",
      "Time taken: 0.12 seconds\n",
      "The RMSE for 10th fold:  3.226108245868774\n",
      "\n",
      "The average RMSE of KNN when K = 16 across 10-fold cross validation:  4.863349625971965 \n",
      "\n",
      "Time taken: 0.11 seconds\n",
      "The RMSE for 1th fold:  5.05481227768448\n",
      "Time taken: 0.11 seconds\n",
      "The RMSE for 2th fold:  3.6578138383636434\n",
      "Time taken: 0.11 seconds\n",
      "The RMSE for 3th fold:  3.6920004939136746\n",
      "Time taken: 0.13 seconds\n",
      "The RMSE for 4th fold:  4.121327766697721\n",
      "Time taken: 0.11 seconds\n",
      "The RMSE for 5th fold:  3.7062055181223483\n",
      "Time taken: 0.11 seconds\n",
      "The RMSE for 6th fold:  7.778361265667645\n",
      "Time taken: 0.11 seconds\n",
      "The RMSE for 7th fold:  3.2824519013123505\n",
      "Time taken: 0.11 seconds\n",
      "The RMSE for 8th fold:  3.8166048155840153\n",
      "Time taken: 0.11 seconds\n",
      "The RMSE for 9th fold:  10.705962588581041\n",
      "Time taken: 0.11 seconds\n",
      "The RMSE for 10th fold:  3.3328772756067773\n",
      "\n",
      "The average RMSE of KNN when K = 17 across 10-fold cross validation:  4.91484177415337 \n",
      "\n",
      "Time taken: 0.11 seconds\n",
      "The RMSE for 1th fold:  5.130081867683575\n",
      "Time taken: 0.11 seconds\n",
      "The RMSE for 2th fold:  3.6443405938794378\n",
      "Time taken: 0.12 seconds\n",
      "The RMSE for 3th fold:  3.691780890298787\n",
      "Time taken: 0.11 seconds\n",
      "The RMSE for 4th fold:  4.203188090420983\n",
      "Time taken: 0.11 seconds\n",
      "The RMSE for 5th fold:  3.6749631517427033\n",
      "Time taken: 0.11 seconds\n",
      "The RMSE for 6th fold:  7.690828121298644\n",
      "Time taken: 0.12 seconds\n",
      "The RMSE for 7th fold:  3.333847645507633\n",
      "Time taken: 0.11 seconds\n",
      "The RMSE for 8th fold:  3.8662036759846896\n",
      "Time taken: 0.12 seconds\n",
      "The RMSE for 9th fold:  10.772180748874378\n",
      "Time taken: 0.12 seconds\n",
      "The RMSE for 10th fold:  3.2922787757170617\n",
      "\n",
      "The average RMSE of KNN when K = 18 across 10-fold cross validation:  4.92996935614079 \n",
      "\n",
      "Time taken: 0.12 seconds\n",
      "The RMSE for 1th fold:  5.144252837644912\n",
      "Time taken: 0.12 seconds\n",
      "The RMSE for 2th fold:  3.6093153370433106\n",
      "Time taken: 0.12 seconds\n",
      "The RMSE for 3th fold:  3.7143306365430537\n",
      "Time taken: 0.11 seconds\n",
      "The RMSE for 4th fold:  4.21346016207536\n",
      "Time taken: 0.11 seconds\n",
      "The RMSE for 5th fold:  3.7646597113659914\n",
      "Time taken: 0.12 seconds\n",
      "The RMSE for 6th fold:  7.723293946923277\n",
      "Time taken: 0.13 seconds\n",
      "The RMSE for 7th fold:  3.252398433136235\n",
      "Time taken: 0.12 seconds\n",
      "The RMSE for 8th fold:  3.9102360521302924\n",
      "Time taken: 0.12 seconds\n",
      "The RMSE for 9th fold:  10.791946924492013\n",
      "Time taken: 0.12 seconds\n",
      "The RMSE for 10th fold:  3.257144501662329\n",
      "\n",
      "The average RMSE of KNN when K = 19 across 10-fold cross validation:  4.938103854301677 \n",
      "\n",
      "Time taken: 0.12 seconds\n",
      "The RMSE for 1th fold:  5.2650453464334\n",
      "Time taken: 0.12 seconds\n",
      "The RMSE for 2th fold:  3.5447558978017097\n",
      "Time taken: 0.12 seconds\n",
      "The RMSE for 3th fold:  3.791965849002335\n",
      "Time taken: 0.12 seconds\n",
      "The RMSE for 4th fold:  4.257839974681998\n",
      "Time taken: 0.11 seconds\n",
      "The RMSE for 5th fold:  3.8357176642709248\n",
      "Time taken: 0.11 seconds\n",
      "The RMSE for 6th fold:  7.681172924755698\n",
      "Time taken: 0.12 seconds\n",
      "The RMSE for 7th fold:  3.1698526188136884\n",
      "Time taken: 0.12 seconds\n",
      "The RMSE for 8th fold:  3.9159904558106367\n",
      "Time taken: 0.11 seconds\n",
      "The RMSE for 9th fold:  10.800481557551032\n",
      "Time taken: 0.11 seconds\n",
      "The RMSE for 10th fold:  3.2360129789603747\n",
      "\n",
      "The average RMSE of KNN when K = 20 across 10-fold cross validation:  4.94988352680818 \n",
      "\n",
      "Time taken: 0.12 seconds\n",
      "The RMSE for 1th fold:  5.282911043446645\n",
      "Time taken: 0.11 seconds\n",
      "The RMSE for 2th fold:  3.6360942515143493\n",
      "Time taken: 0.12 seconds\n",
      "The RMSE for 3th fold:  3.8266704146797164\n",
      "Time taken: 0.12 seconds\n",
      "The RMSE for 4th fold:  4.3435599499199675\n",
      "Time taken: 0.12 seconds\n",
      "The RMSE for 5th fold:  3.950935119942551\n",
      "Time taken: 0.12 seconds\n",
      "The RMSE for 6th fold:  7.606269269460981\n",
      "Time taken: 0.11 seconds\n",
      "The RMSE for 7th fold:  3.293026714636651\n",
      "Time taken: 0.11 seconds\n",
      "The RMSE for 8th fold:  3.9663264445646176\n",
      "Time taken: 0.11 seconds\n",
      "The RMSE for 9th fold:  10.889407234064535\n",
      "Time taken: 0.11 seconds\n",
      "The RMSE for 10th fold:  3.2549970305569005\n",
      "\n",
      "The average RMSE of KNN when K = 21 across 10-fold cross validation:  5.005019747278691 \n",
      "\n",
      "Time taken: 0.12 seconds\n",
      "The RMSE for 1th fold:  5.356588493552234\n",
      "Time taken: 0.11 seconds\n",
      "The RMSE for 2th fold:  3.6092681574290664\n",
      "Time taken: 0.12 seconds\n",
      "The RMSE for 3th fold:  3.9093212802097534\n",
      "Time taken: 0.12 seconds\n",
      "The RMSE for 4th fold:  4.497327316959236\n",
      "Time taken: 0.12 seconds\n",
      "The RMSE for 5th fold:  4.0142896873811775\n",
      "Time taken: 0.12 seconds\n",
      "The RMSE for 6th fold:  7.58851411592568\n"
     ]
    },
    {
     "name": "stdout",
     "output_type": "stream",
     "text": [
      "Time taken: 0.12 seconds\n",
      "The RMSE for 7th fold:  3.449741651004852\n",
      "Time taken: 0.12 seconds\n",
      "The RMSE for 8th fold:  4.005044920353526\n",
      "Time taken: 0.12 seconds\n",
      "The RMSE for 9th fold:  10.92263952694298\n",
      "Time taken: 0.11 seconds\n",
      "The RMSE for 10th fold:  3.3018765012871185\n",
      "\n",
      "The average RMSE of KNN when K = 22 across 10-fold cross validation:  5.065461165104562 \n",
      "\n",
      "Time taken: 0.12 seconds\n",
      "The RMSE for 1th fold:  5.418957176515364\n",
      "Time taken: 0.12 seconds\n",
      "The RMSE for 2th fold:  3.631714627309737\n",
      "Time taken: 0.12 seconds\n",
      "The RMSE for 3th fold:  3.964576130450755\n",
      "Time taken: 0.12 seconds\n",
      "The RMSE for 4th fold:  4.51219472415957\n",
      "Time taken: 0.12 seconds\n",
      "The RMSE for 5th fold:  3.9164680666644354\n",
      "Time taken: 0.12 seconds\n",
      "The RMSE for 6th fold:  7.522971280079925\n",
      "Time taken: 0.12 seconds\n",
      "The RMSE for 7th fold:  3.484381164324402\n",
      "Time taken: 0.12 seconds\n",
      "The RMSE for 8th fold:  4.06979479564252\n",
      "Time taken: 0.12 seconds\n",
      "The RMSE for 9th fold:  10.929392850100763\n",
      "Time taken: 0.12 seconds\n",
      "The RMSE for 10th fold:  3.2892050768851706\n",
      "\n",
      "The average RMSE of KNN when K = 23 across 10-fold cross validation:  5.073965589213264 \n",
      "\n",
      "Time taken: 0.12 seconds\n",
      "The RMSE for 1th fold:  5.490362215459417\n",
      "Time taken: 0.12 seconds\n",
      "The RMSE for 2th fold:  3.5659959698441113\n",
      "Time taken: 0.12 seconds\n",
      "The RMSE for 3th fold:  4.015804065397946\n",
      "Time taken: 0.12 seconds\n",
      "The RMSE for 4th fold:  4.5138013185950046\n",
      "Time taken: 0.12 seconds\n",
      "The RMSE for 5th fold:  4.023123592123413\n",
      "Time taken: 0.12 seconds\n",
      "The RMSE for 6th fold:  7.455832826878639\n",
      "Time taken: 0.12 seconds\n",
      "The RMSE for 7th fold:  3.5214216717510247\n",
      "Time taken: 0.12 seconds\n",
      "The RMSE for 8th fold:  4.039859722794977\n",
      "Time taken: 0.12 seconds\n",
      "The RMSE for 9th fold:  10.933737388525937\n",
      "Time taken: 0.12 seconds\n",
      "The RMSE for 10th fold:  3.2823677990218507\n",
      "\n",
      "The average RMSE of KNN when K = 24 across 10-fold cross validation:  5.084230657039232 \n",
      "\n",
      "Time taken: 0.12 seconds\n",
      "The RMSE for 1th fold:  5.49552694470694\n",
      "Time taken: 0.12 seconds\n",
      "The RMSE for 2th fold:  3.56509040558581\n",
      "Time taken: 0.12 seconds\n",
      "The RMSE for 3th fold:  4.014535689217372\n",
      "Time taken: 0.12 seconds\n",
      "The RMSE for 4th fold:  4.614275891188128\n",
      "Time taken: 0.12 seconds\n",
      "The RMSE for 5th fold:  4.113374235344992\n",
      "Time taken: 0.12 seconds\n",
      "The RMSE for 6th fold:  7.414994295345075\n",
      "Time taken: 0.12 seconds\n",
      "The RMSE for 7th fold:  3.5208098500203038\n",
      "Time taken: 0.12 seconds\n",
      "The RMSE for 8th fold:  4.097960956378183\n",
      "Time taken: 0.12 seconds\n",
      "The RMSE for 9th fold:  10.980340978312103\n",
      "Time taken: 0.12 seconds\n",
      "The RMSE for 10th fold:  3.312818014923246\n",
      "\n",
      "The average RMSE of KNN when K = 25 across 10-fold cross validation:  5.112972726102215 \n",
      "\n"
     ]
    }
   ],
   "source": [
    "'''find the best choice of K by iterating from 1 to 25 using 10-fold cross-validation, \n",
    "choose the K with lowest average RMSE'''\n",
    "'''Note that bdata_X_train_kf_all is normalized for each features and stacked together'''\n",
    "avg_rmse_K1toK25 = []\n",
    "for K in range(1,26):\n",
    "    avg_rmse_K1toK25.append(knn_k_fold_cv(bdata_X_train_kf_all[:, (0,1,5,6,7,9)], bdata_y_train_df, 10, 2, K))"
   ]
  },
  {
   "cell_type": "code",
   "execution_count": 32,
   "metadata": {},
   "outputs": [
    {
     "data": {
      "image/png": "[encoded data removed]",
      "text/plain": [
       "<Figure size 720x432 with 1 Axes>"
      ]
     },
     "metadata": {
      "needs_background": "light"
     },
     "output_type": "display_data"
    }
   ],
   "source": [
    "'''scatter plot of how average RMSE changes with K'''\n",
    "plt.figure(figsize = (10,6))\n",
    "plt.scatter(range(1,26), avg_rmse_K1toK25, marker = 'o')\n",
    "plt.xlabel('K')\n",
    "plt.ylabel('Average RMES of 10-fold Cross Validation')\n",
    "plt.title('K Nearest Neighbors, 10-fold Cross Validation (normalized)')\n",
    "plt.show()"
   ]
  },
  {
   "cell_type": "markdown",
   "metadata": {},
   "source": [
    "From the above, we find K=5 when we have the lowest average RMSE through cross validation. Since the interval of each of the 10 folds is around 40 observatoins, and we get the 5 nearest neighbors to predict MEDV which minimizes the error (RMSE = 4.597 when K=5). I think it looks reasonable to me."
   ]
  },
  {
   "cell_type": "markdown",
   "metadata": {},
   "source": [
    "### Extra-Credit: Forward selection\n",
    "\n",
    "Thus far the choice of predictor variables has been rather arbitrary. For extra credit, implement a basic [forward selection](http://www.stat.ubc.ca/~rollin/teach/643w04/lec/node41.html) algorithm to progressively include features that decrease the cross-validated RMSE of the model. Note that the optimal value of K may be different for each model, so you may want to use cross-validation to choose K each time (but it is also fine if you fix K at the optimal value from 2.7).  Create a graph that shows RMSE as a function of the number of features in the model. Label each point on the x-axis with the name of the feature that is added at that step in the forward selection algorithm. *(For instance, if the optimal single-feature model has CRIM with RMSE = 10, and the optimal two-feature model has CRIM+ZN with RMSE=9, the first x-axis label will say CRIM and the second x-axis lable with say ZN)*"
   ]
  }
 ],
 "metadata": {
  "kernelspec": {
   "display_name": "APIs_geospatial",
   "language": "python",
   "name": "apis_geospatial"
  },
  "language_info": {
   "codemirror_mode": {
    "name": "ipython",
    "version": 3
   },
   "file_extension": ".py",
   "mimetype": "text/x-python",
   "name": "python",
   "nbconvert_exporter": "python",
   "pygments_lexer": "ipython3",
   "version": "3.7.6"
  }
 },
 "nbformat": 4,
 "nbformat_minor": 1
}
